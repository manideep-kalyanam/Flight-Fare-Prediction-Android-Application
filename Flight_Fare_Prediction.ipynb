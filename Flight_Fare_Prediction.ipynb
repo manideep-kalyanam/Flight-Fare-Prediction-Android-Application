{
  "nbformat": 4,
  "nbformat_minor": 0,
  "metadata": {
    "kernelspec": {
      "display_name": "Python 3",
      "language": "python",
      "name": "python3"
    },
    "language_info": {
      "codemirror_mode": {
        "name": "ipython",
        "version": 3
      },
      "file_extension": ".py",
      "mimetype": "text/x-python",
      "name": "python",
      "nbconvert_exporter": "python",
      "pygments_lexer": "ipython3",
      "version": "3.7.4"
    },
    "colab": {
      "name": "Flight Fare Prediction.ipynb",
      "provenance": []
    }
  },
  "cells": [
    {
      "cell_type": "code",
      "metadata": {
        "id": "AjUorVm4bKtv"
      },
      "source": [
        "import numpy as np\n",
        "import pandas as pd\n",
        "import seaborn as sns\n",
        "import matplotlib.pyplot as plt\n",
        "import sklearn"
      ],
      "execution_count": null,
      "outputs": []
    },
    {
      "cell_type": "markdown",
      "metadata": {
        "id": "Rh5SxJ9GbKt3"
      },
      "source": [
        "# Reading data from the excel file"
      ]
    },
    {
      "cell_type": "code",
      "metadata": {
        "id": "w-flQnzWbKt3"
      },
      "source": [
        "dataset=pd.read_excel(\"Data_flight.xlsx\")"
      ],
      "execution_count": null,
      "outputs": []
    },
    {
      "cell_type": "code",
      "metadata": {
        "id": "7ShErVP9bKt4",
        "colab": {
          "base_uri": "https://localhost:8080/",
          "height": 195
        },
        "outputId": "106a5589-72df-4900-9ae9-ed74a87e1a95"
      },
      "source": [
        "dataset.head()"
      ],
      "execution_count": null,
      "outputs": [
        {
          "output_type": "execute_result",
          "data": {
            "text/html": [
              "<div>\n",
              "<style scoped>\n",
              "    .dataframe tbody tr th:only-of-type {\n",
              "        vertical-align: middle;\n",
              "    }\n",
              "\n",
              "    .dataframe tbody tr th {\n",
              "        vertical-align: top;\n",
              "    }\n",
              "\n",
              "    .dataframe thead th {\n",
              "        text-align: right;\n",
              "    }\n",
              "</style>\n",
              "<table border=\"1\" class=\"dataframe\">\n",
              "  <thead>\n",
              "    <tr style=\"text-align: right;\">\n",
              "      <th></th>\n",
              "      <th>Airline</th>\n",
              "      <th>Date_of_Journey</th>\n",
              "      <th>Source</th>\n",
              "      <th>Destination</th>\n",
              "      <th>Route</th>\n",
              "      <th>Dep_Time</th>\n",
              "      <th>Arrival_Time</th>\n",
              "      <th>Duration</th>\n",
              "      <th>Total_Stops</th>\n",
              "      <th>Additional_Info</th>\n",
              "      <th>Price</th>\n",
              "    </tr>\n",
              "  </thead>\n",
              "  <tbody>\n",
              "    <tr>\n",
              "      <th>0</th>\n",
              "      <td>IndiGo</td>\n",
              "      <td>24/03/2019</td>\n",
              "      <td>Banglore</td>\n",
              "      <td>New Delhi</td>\n",
              "      <td>BLR → DEL</td>\n",
              "      <td>22:20</td>\n",
              "      <td>01:10 22 Mar</td>\n",
              "      <td>2h 50m</td>\n",
              "      <td>non-stop</td>\n",
              "      <td>No info</td>\n",
              "      <td>3897</td>\n",
              "    </tr>\n",
              "    <tr>\n",
              "      <th>1</th>\n",
              "      <td>Air India</td>\n",
              "      <td>1/05/2019</td>\n",
              "      <td>Kolkata</td>\n",
              "      <td>Banglore</td>\n",
              "      <td>CCU → IXR → BBI → BLR</td>\n",
              "      <td>05:50</td>\n",
              "      <td>13:15</td>\n",
              "      <td>7h 25m</td>\n",
              "      <td>2 stops</td>\n",
              "      <td>No info</td>\n",
              "      <td>7662</td>\n",
              "    </tr>\n",
              "    <tr>\n",
              "      <th>2</th>\n",
              "      <td>Jet Airways</td>\n",
              "      <td>9/06/2019</td>\n",
              "      <td>Delhi</td>\n",
              "      <td>Cochin</td>\n",
              "      <td>DEL → LKO → BOM → COK</td>\n",
              "      <td>09:25</td>\n",
              "      <td>04:25 10 Jun</td>\n",
              "      <td>19h</td>\n",
              "      <td>2 stops</td>\n",
              "      <td>No info</td>\n",
              "      <td>13882</td>\n",
              "    </tr>\n",
              "    <tr>\n",
              "      <th>3</th>\n",
              "      <td>IndiGo</td>\n",
              "      <td>12/05/2019</td>\n",
              "      <td>Kolkata</td>\n",
              "      <td>Banglore</td>\n",
              "      <td>CCU → NAG → BLR</td>\n",
              "      <td>18:05</td>\n",
              "      <td>23:30</td>\n",
              "      <td>5h 25m</td>\n",
              "      <td>1 stop</td>\n",
              "      <td>No info</td>\n",
              "      <td>6218</td>\n",
              "    </tr>\n",
              "    <tr>\n",
              "      <th>4</th>\n",
              "      <td>IndiGo</td>\n",
              "      <td>01/03/2019</td>\n",
              "      <td>Banglore</td>\n",
              "      <td>New Delhi</td>\n",
              "      <td>BLR → NAG → DEL</td>\n",
              "      <td>16:50</td>\n",
              "      <td>21:35</td>\n",
              "      <td>4h 45m</td>\n",
              "      <td>1 stop</td>\n",
              "      <td>No info</td>\n",
              "      <td>13302</td>\n",
              "    </tr>\n",
              "  </tbody>\n",
              "</table>\n",
              "</div>"
            ],
            "text/plain": [
              "       Airline Date_of_Journey    Source  ... Total_Stops Additional_Info  Price\n",
              "0       IndiGo      24/03/2019  Banglore  ...    non-stop         No info   3897\n",
              "1    Air India       1/05/2019   Kolkata  ...     2 stops         No info   7662\n",
              "2  Jet Airways       9/06/2019     Delhi  ...     2 stops         No info  13882\n",
              "3       IndiGo      12/05/2019   Kolkata  ...      1 stop         No info   6218\n",
              "4       IndiGo      01/03/2019  Banglore  ...      1 stop         No info  13302\n",
              "\n",
              "[5 rows x 11 columns]"
            ]
          },
          "metadata": {
            "tags": []
          },
          "execution_count": 3
        }
      ]
    },
    {
      "cell_type": "code",
      "metadata": {
        "id": "XB6BueEkbKt5",
        "colab": {
          "base_uri": "https://localhost:8080/"
        },
        "outputId": "be704a38-8a4c-46ca-bb1b-a9bbb1235373"
      },
      "source": [
        "## checking for the number of airlines available\n",
        "np.unique(dataset['Airline'])"
      ],
      "execution_count": null,
      "outputs": [
        {
          "output_type": "execute_result",
          "data": {
            "text/plain": [
              "array(['Air Asia', 'Air India', 'GoAir', 'IndiGo', 'Jet Airways',\n",
              "       'Jet Airways Business', 'Multiple carriers',\n",
              "       'Multiple carriers Premium economy', 'SpiceJet', 'Trujet',\n",
              "       'Vistara', 'Vistara Premium economy'], dtype=object)"
            ]
          },
          "metadata": {
            "tags": []
          },
          "execution_count": 4
        }
      ]
    },
    {
      "cell_type": "code",
      "metadata": {
        "colab": {
          "base_uri": "https://localhost:8080/"
        },
        "id": "Hz71mDi4MKzV",
        "outputId": "03eb5b56-628a-43fd-9f52-a98647f5d575"
      },
      "source": [
        "np.unique(dataset['Airline']).size"
      ],
      "execution_count": null,
      "outputs": [
        {
          "output_type": "execute_result",
          "data": {
            "text/plain": [
              "12"
            ]
          },
          "metadata": {
            "tags": []
          },
          "execution_count": 6
        }
      ]
    },
    {
      "cell_type": "code",
      "metadata": {
        "id": "59M4RvGsbKt5",
        "colab": {
          "base_uri": "https://localhost:8080/"
        },
        "outputId": "2d0f5b62-9100-4cc9-bcd6-fdc55ff13c76"
      },
      "source": [
        "## looing at the number of opbservations for each airline\n",
        "dataset['Airline'].value_counts()"
      ],
      "execution_count": null,
      "outputs": [
        {
          "output_type": "execute_result",
          "data": {
            "text/plain": [
              "Jet Airways                          3849\n",
              "IndiGo                               2053\n",
              "Air India                            1752\n",
              "Multiple carriers                    1196\n",
              "SpiceJet                              818\n",
              "Vistara                               479\n",
              "Air Asia                              319\n",
              "GoAir                                 194\n",
              "Multiple carriers Premium economy      13\n",
              "Jet Airways Business                    6\n",
              "Vistara Premium economy                 3\n",
              "Trujet                                  1\n",
              "Name: Airline, dtype: int64"
            ]
          },
          "metadata": {
            "tags": []
          },
          "execution_count": 7
        }
      ]
    },
    {
      "cell_type": "code",
      "metadata": {
        "id": "CWZ_0Rw8bKt6",
        "colab": {
          "base_uri": "https://localhost:8080/"
        },
        "outputId": "0047445a-2375-4932-fc0a-1f00305255ee"
      },
      "source": [
        "dataset['Price'].describe()"
      ],
      "execution_count": null,
      "outputs": [
        {
          "output_type": "execute_result",
          "data": {
            "text/plain": [
              "count    10683.000000\n",
              "mean      9087.064121\n",
              "std       4611.359167\n",
              "min       1759.000000\n",
              "25%       5277.000000\n",
              "50%       8372.000000\n",
              "75%      12373.000000\n",
              "max      79512.000000\n",
              "Name: Price, dtype: float64"
            ]
          },
          "metadata": {
            "tags": []
          },
          "execution_count": 8
        }
      ]
    },
    {
      "cell_type": "markdown",
      "metadata": {
        "id": "AgByUC0sbKt7"
      },
      "source": [
        "# finding the null values in the dataset if they exist "
      ]
    },
    {
      "cell_type": "code",
      "metadata": {
        "scrolled": true,
        "id": "JyBehzZVbKt7",
        "colab": {
          "base_uri": "https://localhost:8080/"
        },
        "outputId": "62cc4549-5912-4105-d577-dcf494062fa9"
      },
      "source": [
        "dataset.info()"
      ],
      "execution_count": null,
      "outputs": [
        {
          "output_type": "stream",
          "text": [
            "<class 'pandas.core.frame.DataFrame'>\n",
            "RangeIndex: 10683 entries, 0 to 10682\n",
            "Data columns (total 11 columns):\n",
            " #   Column           Non-Null Count  Dtype \n",
            "---  ------           --------------  ----- \n",
            " 0   Airline          10683 non-null  object\n",
            " 1   Date_of_Journey  10683 non-null  object\n",
            " 2   Source           10683 non-null  object\n",
            " 3   Destination      10683 non-null  object\n",
            " 4   Route            10682 non-null  object\n",
            " 5   Dep_Time         10683 non-null  object\n",
            " 6   Arrival_Time     10683 non-null  object\n",
            " 7   Duration         10683 non-null  object\n",
            " 8   Total_Stops      10682 non-null  object\n",
            " 9   Additional_Info  10683 non-null  object\n",
            " 10  Price            10683 non-null  int64 \n",
            "dtypes: int64(1), object(10)\n",
            "memory usage: 918.2+ KB\n"
          ],
          "name": "stdout"
        }
      ]
    },
    {
      "cell_type": "code",
      "metadata": {
        "id": "k3Kpig--bKt8"
      },
      "source": [
        "#obserbving the relation between prices over the source and destination"
      ],
      "execution_count": null,
      "outputs": []
    },
    {
      "cell_type": "code",
      "metadata": {
        "id": "_fx0A9vbbKt8",
        "colab": {
          "base_uri": "https://localhost:8080/",
          "height": 311
        },
        "outputId": "7ec8906e-2a74-4b42-9622-caaa24a0dd39"
      },
      "source": [
        "sns.catplot(y = \"Price\", x = \"Source\", data = dataset.sort_values(\"Price\", ascending = False), kind=\"boxen\", height = 4, aspect = 3)\n",
        "plt.show()"
      ],
      "execution_count": null,
      "outputs": [
        {
          "output_type": "display_data",
          "data": {
            "image/png": "[encoded data removed]",
            "text/plain": [
              "<Figure size 864x288 with 1 Axes>"
            ]
          },
          "metadata": {
            "tags": [],
            "needs_background": "light"
          }
        }
      ]
    },
    {
      "cell_type": "code",
      "metadata": {
        "id": "CuYjqrnSbKt8",
        "colab": {
          "base_uri": "https://localhost:8080/",
          "height": 455
        },
        "outputId": "03f872f1-4f35-40d1-a3ab-cd87e6b447bc"
      },
      "source": [
        "sns.catplot(y = \"Price\", x = \"Airline\", data = dataset.sort_values(\"Price\", ascending = False), kind=\"boxen\", height = 6, aspect = 3)\n",
        "plt.show()"
      ],
      "execution_count": null,
      "outputs": [
        {
          "output_type": "display_data",
          "data": {
            "image/png": "[encoded data removed]",
            "text/plain": [
              "<Figure size 1296x432 with 1 Axes>"
            ]
          },
          "metadata": {
            "tags": [],
            "needs_background": "light"
          }
        }
      ]
    },
    {
      "cell_type": "code",
      "metadata": {
        "id": "B8SlGspIbKt9",
        "colab": {
          "base_uri": "https://localhost:8080/"
        },
        "outputId": "abcf3915-d086-4036-8985-b8247ae625fc"
      },
      "source": [
        "dataset.isnull().sum()"
      ],
      "execution_count": null,
      "outputs": [
        {
          "output_type": "execute_result",
          "data": {
            "text/plain": [
              "Airline            0\n",
              "Date_of_Journey    0\n",
              "Source             0\n",
              "Destination        0\n",
              "Route              1\n",
              "Dep_Time           0\n",
              "Arrival_Time       0\n",
              "Duration           0\n",
              "Total_Stops        1\n",
              "Additional_Info    0\n",
              "Price              0\n",
              "dtype: int64"
            ]
          },
          "metadata": {
            "tags": []
          },
          "execution_count": 13
        }
      ]
    },
    {
      "cell_type": "code",
      "metadata": {
        "id": "MsNYmEWJbKt9"
      },
      "source": [
        "## filling the NA values\n",
        "dataset.dropna(inplace=True)"
      ],
      "execution_count": null,
      "outputs": []
    },
    {
      "cell_type": "code",
      "metadata": {
        "scrolled": true,
        "id": "OfkIGmCwbKt-",
        "colab": {
          "base_uri": "https://localhost:8080/"
        },
        "outputId": "65f0aef1-5861-42d4-cadb-ab1487962138"
      },
      "source": [
        "dataset.isnull().sum()"
      ],
      "execution_count": null,
      "outputs": [
        {
          "output_type": "execute_result",
          "data": {
            "text/plain": [
              "Airline            0\n",
              "Date_of_Journey    0\n",
              "Source             0\n",
              "Destination        0\n",
              "Route              0\n",
              "Dep_Time           0\n",
              "Arrival_Time       0\n",
              "Duration           0\n",
              "Total_Stops        0\n",
              "Additional_Info    0\n",
              "Price              0\n",
              "dtype: int64"
            ]
          },
          "metadata": {
            "tags": []
          },
          "execution_count": 15
        }
      ]
    },
    {
      "cell_type": "code",
      "metadata": {
        "id": "Yy-RhyICbKt-"
      },
      "source": [
        "#Extracting journey day,month from the date_of_journey into journey_day and journey_month\n",
        "#deleting the date_of_journey as it is not useful after extraction of day and month"
      ],
      "execution_count": null,
      "outputs": []
    },
    {
      "cell_type": "code",
      "metadata": {
        "id": "LezK4rLAbKt_"
      },
      "source": [
        "dataset[\"Journey_day\"] = pd.to_datetime(dataset.Date_of_Journey, format=\"%d/%m/%Y\").dt.day\n",
        "dataset[\"Journey_month\"] = pd.to_datetime(dataset.Date_of_Journey, format = \"%d/%m/%Y\").dt.month\n",
        "dataset.drop([\"Date_of_Journey\"],axis=1,inplace=True)"
      ],
      "execution_count": null,
      "outputs": []
    },
    {
      "cell_type": "code",
      "metadata": {
        "id": "fc12VytJbKt_",
        "colab": {
          "base_uri": "https://localhost:8080/",
          "height": 195
        },
        "outputId": "37026a3c-1939-4cbf-dca4-a7c7d19a04b8"
      },
      "source": [
        "dataset.head()"
      ],
      "execution_count": null,
      "outputs": [
        {
          "output_type": "execute_result",
          "data": {
            "text/html": [
              "<div>\n",
              "<style scoped>\n",
              "    .dataframe tbody tr th:only-of-type {\n",
              "        vertical-align: middle;\n",
              "    }\n",
              "\n",
              "    .dataframe tbody tr th {\n",
              "        vertical-align: top;\n",
              "    }\n",
              "\n",
              "    .dataframe thead th {\n",
              "        text-align: right;\n",
              "    }\n",
              "</style>\n",
              "<table border=\"1\" class=\"dataframe\">\n",
              "  <thead>\n",
              "    <tr style=\"text-align: right;\">\n",
              "      <th></th>\n",
              "      <th>Airline</th>\n",
              "      <th>Source</th>\n",
              "      <th>Destination</th>\n",
              "      <th>Route</th>\n",
              "      <th>Dep_Time</th>\n",
              "      <th>Arrival_Time</th>\n",
              "      <th>Duration</th>\n",
              "      <th>Total_Stops</th>\n",
              "      <th>Additional_Info</th>\n",
              "      <th>Price</th>\n",
              "      <th>Journey_day</th>\n",
              "      <th>Journey_month</th>\n",
              "    </tr>\n",
              "  </thead>\n",
              "  <tbody>\n",
              "    <tr>\n",
              "      <th>0</th>\n",
              "      <td>IndiGo</td>\n",
              "      <td>Banglore</td>\n",
              "      <td>New Delhi</td>\n",
              "      <td>BLR → DEL</td>\n",
              "      <td>22:20</td>\n",
              "      <td>01:10 22 Mar</td>\n",
              "      <td>2h 50m</td>\n",
              "      <td>non-stop</td>\n",
              "      <td>No info</td>\n",
              "      <td>3897</td>\n",
              "      <td>24</td>\n",
              "      <td>3</td>\n",
              "    </tr>\n",
              "    <tr>\n",
              "      <th>1</th>\n",
              "      <td>Air India</td>\n",
              "      <td>Kolkata</td>\n",
              "      <td>Banglore</td>\n",
              "      <td>CCU → IXR → BBI → BLR</td>\n",
              "      <td>05:50</td>\n",
              "      <td>13:15</td>\n",
              "      <td>7h 25m</td>\n",
              "      <td>2 stops</td>\n",
              "      <td>No info</td>\n",
              "      <td>7662</td>\n",
              "      <td>1</td>\n",
              "      <td>5</td>\n",
              "    </tr>\n",
              "    <tr>\n",
              "      <th>2</th>\n",
              "      <td>Jet Airways</td>\n",
              "      <td>Delhi</td>\n",
              "      <td>Cochin</td>\n",
              "      <td>DEL → LKO → BOM → COK</td>\n",
              "      <td>09:25</td>\n",
              "      <td>04:25 10 Jun</td>\n",
              "      <td>19h</td>\n",
              "      <td>2 stops</td>\n",
              "      <td>No info</td>\n",
              "      <td>13882</td>\n",
              "      <td>9</td>\n",
              "      <td>6</td>\n",
              "    </tr>\n",
              "    <tr>\n",
              "      <th>3</th>\n",
              "      <td>IndiGo</td>\n",
              "      <td>Kolkata</td>\n",
              "      <td>Banglore</td>\n",
              "      <td>CCU → NAG → BLR</td>\n",
              "      <td>18:05</td>\n",
              "      <td>23:30</td>\n",
              "      <td>5h 25m</td>\n",
              "      <td>1 stop</td>\n",
              "      <td>No info</td>\n",
              "      <td>6218</td>\n",
              "      <td>12</td>\n",
              "      <td>5</td>\n",
              "    </tr>\n",
              "    <tr>\n",
              "      <th>4</th>\n",
              "      <td>IndiGo</td>\n",
              "      <td>Banglore</td>\n",
              "      <td>New Delhi</td>\n",
              "      <td>BLR → NAG → DEL</td>\n",
              "      <td>16:50</td>\n",
              "      <td>21:35</td>\n",
              "      <td>4h 45m</td>\n",
              "      <td>1 stop</td>\n",
              "      <td>No info</td>\n",
              "      <td>13302</td>\n",
              "      <td>1</td>\n",
              "      <td>3</td>\n",
              "    </tr>\n",
              "  </tbody>\n",
              "</table>\n",
              "</div>"
            ],
            "text/plain": [
              "       Airline    Source Destination  ...  Price Journey_day Journey_month\n",
              "0       IndiGo  Banglore   New Delhi  ...   3897          24             3\n",
              "1    Air India   Kolkata    Banglore  ...   7662           1             5\n",
              "2  Jet Airways     Delhi      Cochin  ...  13882           9             6\n",
              "3       IndiGo   Kolkata    Banglore  ...   6218          12             5\n",
              "4       IndiGo  Banglore   New Delhi  ...  13302           1             3\n",
              "\n",
              "[5 rows x 12 columns]"
            ]
          },
          "metadata": {
            "tags": []
          },
          "execution_count": 18
        }
      ]
    },
    {
      "cell_type": "code",
      "metadata": {
        "id": "uRKZME-QbKuA"
      },
      "source": [
        "#similarly extracting departure hours and minutes from the departure time"
      ],
      "execution_count": null,
      "outputs": []
    },
    {
      "cell_type": "code",
      "metadata": {
        "id": "MzGtFhtmbKuA"
      },
      "source": [
        "dataset[\"Dep_hour\"]=pd.to_datetime(dataset.Dep_Time).dt.hour\n",
        "dataset[\"Dep_min\"]=pd.to_datetime(dataset.Dep_Time).dt.minute\n",
        "dataset.drop([\"Dep_Time\"],axis=1,inplace=True)"
      ],
      "execution_count": null,
      "outputs": []
    },
    {
      "cell_type": "code",
      "metadata": {
        "scrolled": true,
        "id": "DtOAyTRTbKuA",
        "colab": {
          "base_uri": "https://localhost:8080/",
          "height": 402
        },
        "outputId": "eabf5f83-8a8d-4550-9eaa-ae3ecddb9e08"
      },
      "source": [
        "dataset"
      ],
      "execution_count": null,
      "outputs": [
        {
          "output_type": "execute_result",
          "data": {
            "text/html": [
              "<div>\n",
              "<style scoped>\n",
              "    .dataframe tbody tr th:only-of-type {\n",
              "        vertical-align: middle;\n",
              "    }\n",
              "\n",
              "    .dataframe tbody tr th {\n",
              "        vertical-align: top;\n",
              "    }\n",
              "\n",
              "    .dataframe thead th {\n",
              "        text-align: right;\n",
              "    }\n",
              "</style>\n",
              "<table border=\"1\" class=\"dataframe\">\n",
              "  <thead>\n",
              "    <tr style=\"text-align: right;\">\n",
              "      <th></th>\n",
              "      <th>Airline</th>\n",
              "      <th>Source</th>\n",
              "      <th>Destination</th>\n",
              "      <th>Route</th>\n",
              "      <th>Arrival_Time</th>\n",
              "      <th>Duration</th>\n",
              "      <th>Total_Stops</th>\n",
              "      <th>Additional_Info</th>\n",
              "      <th>Price</th>\n",
              "      <th>Journey_day</th>\n",
              "      <th>Journey_month</th>\n",
              "      <th>Dep_hour</th>\n",
              "      <th>Dep_min</th>\n",
              "    </tr>\n",
              "  </thead>\n",
              "  <tbody>\n",
              "    <tr>\n",
              "      <th>0</th>\n",
              "      <td>IndiGo</td>\n",
              "      <td>Banglore</td>\n",
              "      <td>New Delhi</td>\n",
              "      <td>BLR → DEL</td>\n",
              "      <td>01:10 22 Mar</td>\n",
              "      <td>2h 50m</td>\n",
              "      <td>non-stop</td>\n",
              "      <td>No info</td>\n",
              "      <td>3897</td>\n",
              "      <td>24</td>\n",
              "      <td>3</td>\n",
              "      <td>22</td>\n",
              "      <td>20</td>\n",
              "    </tr>\n",
              "    <tr>\n",
              "      <th>1</th>\n",
              "      <td>Air India</td>\n",
              "      <td>Kolkata</td>\n",
              "      <td>Banglore</td>\n",
              "      <td>CCU → IXR → BBI → BLR</td>\n",
              "      <td>13:15</td>\n",
              "      <td>7h 25m</td>\n",
              "      <td>2 stops</td>\n",
              "      <td>No info</td>\n",
              "      <td>7662</td>\n",
              "      <td>1</td>\n",
              "      <td>5</td>\n",
              "      <td>5</td>\n",
              "      <td>50</td>\n",
              "    </tr>\n",
              "    <tr>\n",
              "      <th>2</th>\n",
              "      <td>Jet Airways</td>\n",
              "      <td>Delhi</td>\n",
              "      <td>Cochin</td>\n",
              "      <td>DEL → LKO → BOM → COK</td>\n",
              "      <td>04:25 10 Jun</td>\n",
              "      <td>19h</td>\n",
              "      <td>2 stops</td>\n",
              "      <td>No info</td>\n",
              "      <td>13882</td>\n",
              "      <td>9</td>\n",
              "      <td>6</td>\n",
              "      <td>9</td>\n",
              "      <td>25</td>\n",
              "    </tr>\n",
              "    <tr>\n",
              "      <th>3</th>\n",
              "      <td>IndiGo</td>\n",
              "      <td>Kolkata</td>\n",
              "      <td>Banglore</td>\n",
              "      <td>CCU → NAG → BLR</td>\n",
              "      <td>23:30</td>\n",
              "      <td>5h 25m</td>\n",
              "      <td>1 stop</td>\n",
              "      <td>No info</td>\n",
              "      <td>6218</td>\n",
              "      <td>12</td>\n",
              "      <td>5</td>\n",
              "      <td>18</td>\n",
              "      <td>5</td>\n",
              "    </tr>\n",
              "    <tr>\n",
              "      <th>4</th>\n",
              "      <td>IndiGo</td>\n",
              "      <td>Banglore</td>\n",
              "      <td>New Delhi</td>\n",
              "      <td>BLR → NAG → DEL</td>\n",
              "      <td>21:35</td>\n",
              "      <td>4h 45m</td>\n",
              "      <td>1 stop</td>\n",
              "      <td>No info</td>\n",
              "      <td>13302</td>\n",
              "      <td>1</td>\n",
              "      <td>3</td>\n",
              "      <td>16</td>\n",
              "      <td>50</td>\n",
              "    </tr>\n",
              "    <tr>\n",
              "      <th>...</th>\n",
              "      <td>...</td>\n",
              "      <td>...</td>\n",
              "      <td>...</td>\n",
              "      <td>...</td>\n",
              "      <td>...</td>\n",
              "      <td>...</td>\n",
              "      <td>...</td>\n",
              "      <td>...</td>\n",
              "      <td>...</td>\n",
              "      <td>...</td>\n",
              "      <td>...</td>\n",
              "      <td>...</td>\n",
              "      <td>...</td>\n",
              "    </tr>\n",
              "    <tr>\n",
              "      <th>10678</th>\n",
              "      <td>Air Asia</td>\n",
              "      <td>Kolkata</td>\n",
              "      <td>Banglore</td>\n",
              "      <td>CCU → BLR</td>\n",
              "      <td>22:25</td>\n",
              "      <td>2h 30m</td>\n",
              "      <td>non-stop</td>\n",
              "      <td>No info</td>\n",
              "      <td>4107</td>\n",
              "      <td>9</td>\n",
              "      <td>4</td>\n",
              "      <td>19</td>\n",
              "      <td>55</td>\n",
              "    </tr>\n",
              "    <tr>\n",
              "      <th>10679</th>\n",
              "      <td>Air India</td>\n",
              "      <td>Kolkata</td>\n",
              "      <td>Banglore</td>\n",
              "      <td>CCU → BLR</td>\n",
              "      <td>23:20</td>\n",
              "      <td>2h 35m</td>\n",
              "      <td>non-stop</td>\n",
              "      <td>No info</td>\n",
              "      <td>4145</td>\n",
              "      <td>27</td>\n",
              "      <td>4</td>\n",
              "      <td>20</td>\n",
              "      <td>45</td>\n",
              "    </tr>\n",
              "    <tr>\n",
              "      <th>10680</th>\n",
              "      <td>Jet Airways</td>\n",
              "      <td>Banglore</td>\n",
              "      <td>Delhi</td>\n",
              "      <td>BLR → DEL</td>\n",
              "      <td>11:20</td>\n",
              "      <td>3h</td>\n",
              "      <td>non-stop</td>\n",
              "      <td>No info</td>\n",
              "      <td>7229</td>\n",
              "      <td>27</td>\n",
              "      <td>4</td>\n",
              "      <td>8</td>\n",
              "      <td>20</td>\n",
              "    </tr>\n",
              "    <tr>\n",
              "      <th>10681</th>\n",
              "      <td>Vistara</td>\n",
              "      <td>Banglore</td>\n",
              "      <td>New Delhi</td>\n",
              "      <td>BLR → DEL</td>\n",
              "      <td>14:10</td>\n",
              "      <td>2h 40m</td>\n",
              "      <td>non-stop</td>\n",
              "      <td>No info</td>\n",
              "      <td>12648</td>\n",
              "      <td>1</td>\n",
              "      <td>3</td>\n",
              "      <td>11</td>\n",
              "      <td>30</td>\n",
              "    </tr>\n",
              "    <tr>\n",
              "      <th>10682</th>\n",
              "      <td>Air India</td>\n",
              "      <td>Delhi</td>\n",
              "      <td>Cochin</td>\n",
              "      <td>DEL → GOI → BOM → COK</td>\n",
              "      <td>19:15</td>\n",
              "      <td>8h 20m</td>\n",
              "      <td>2 stops</td>\n",
              "      <td>No info</td>\n",
              "      <td>11753</td>\n",
              "      <td>9</td>\n",
              "      <td>5</td>\n",
              "      <td>10</td>\n",
              "      <td>55</td>\n",
              "    </tr>\n",
              "  </tbody>\n",
              "</table>\n",
              "<p>10682 rows × 13 columns</p>\n",
              "</div>"
            ],
            "text/plain": [
              "           Airline    Source Destination  ... Journey_month Dep_hour Dep_min\n",
              "0           IndiGo  Banglore   New Delhi  ...             3       22      20\n",
              "1        Air India   Kolkata    Banglore  ...             5        5      50\n",
              "2      Jet Airways     Delhi      Cochin  ...             6        9      25\n",
              "3           IndiGo   Kolkata    Banglore  ...             5       18       5\n",
              "4           IndiGo  Banglore   New Delhi  ...             3       16      50\n",
              "...            ...       ...         ...  ...           ...      ...     ...\n",
              "10678     Air Asia   Kolkata    Banglore  ...             4       19      55\n",
              "10679    Air India   Kolkata    Banglore  ...             4       20      45\n",
              "10680  Jet Airways  Banglore       Delhi  ...             4        8      20\n",
              "10681      Vistara  Banglore   New Delhi  ...             3       11      30\n",
              "10682    Air India     Delhi      Cochin  ...             5       10      55\n",
              "\n",
              "[10682 rows x 13 columns]"
            ]
          },
          "metadata": {
            "tags": []
          },
          "execution_count": 22
        }
      ]
    },
    {
      "cell_type": "code",
      "metadata": {
        "id": "a_u7PxaUbKuB"
      },
      "source": [
        "#similarly extracting arrival hour and minute fromm the arrival time"
      ],
      "execution_count": null,
      "outputs": []
    },
    {
      "cell_type": "code",
      "metadata": {
        "id": "xLfU-FqvbKuB"
      },
      "source": [
        "dataset[\"Arrival_hour\"] = pd.to_datetime(dataset.Arrival_Time).dt.hour\n",
        "dataset[\"Arrival_min\"] = pd.to_datetime(dataset.Arrival_Time).dt.minute\n",
        "dataset.drop([\"Arrival_Time\"], axis = 1, inplace = True)"
      ],
      "execution_count": null,
      "outputs": []
    },
    {
      "cell_type": "code",
      "metadata": {
        "scrolled": true,
        "id": "bxcg95KMbKuB",
        "colab": {
          "base_uri": "https://localhost:8080/",
          "height": 195
        },
        "outputId": "c192d095-cd62-4102-c800-1ae467145579"
      },
      "source": [
        "dataset.head()"
      ],
      "execution_count": null,
      "outputs": [
        {
          "output_type": "execute_result",
          "data": {
            "text/html": [
              "<div>\n",
              "<style scoped>\n",
              "    .dataframe tbody tr th:only-of-type {\n",
              "        vertical-align: middle;\n",
              "    }\n",
              "\n",
              "    .dataframe tbody tr th {\n",
              "        vertical-align: top;\n",
              "    }\n",
              "\n",
              "    .dataframe thead th {\n",
              "        text-align: right;\n",
              "    }\n",
              "</style>\n",
              "<table border=\"1\" class=\"dataframe\">\n",
              "  <thead>\n",
              "    <tr style=\"text-align: right;\">\n",
              "      <th></th>\n",
              "      <th>Airline</th>\n",
              "      <th>Source</th>\n",
              "      <th>Destination</th>\n",
              "      <th>Route</th>\n",
              "      <th>Duration</th>\n",
              "      <th>Total_Stops</th>\n",
              "      <th>Additional_Info</th>\n",
              "      <th>Price</th>\n",
              "      <th>Journey_day</th>\n",
              "      <th>Journey_month</th>\n",
              "      <th>Dep_hour</th>\n",
              "      <th>Dep_min</th>\n",
              "      <th>Arrival_hour</th>\n",
              "      <th>Arrival_min</th>\n",
              "    </tr>\n",
              "  </thead>\n",
              "  <tbody>\n",
              "    <tr>\n",
              "      <th>0</th>\n",
              "      <td>IndiGo</td>\n",
              "      <td>Banglore</td>\n",
              "      <td>New Delhi</td>\n",
              "      <td>BLR → DEL</td>\n",
              "      <td>2h 50m</td>\n",
              "      <td>non-stop</td>\n",
              "      <td>No info</td>\n",
              "      <td>3897</td>\n",
              "      <td>24</td>\n",
              "      <td>3</td>\n",
              "      <td>22</td>\n",
              "      <td>20</td>\n",
              "      <td>1</td>\n",
              "      <td>10</td>\n",
              "    </tr>\n",
              "    <tr>\n",
              "      <th>1</th>\n",
              "      <td>Air India</td>\n",
              "      <td>Kolkata</td>\n",
              "      <td>Banglore</td>\n",
              "      <td>CCU → IXR → BBI → BLR</td>\n",
              "      <td>7h 25m</td>\n",
              "      <td>2 stops</td>\n",
              "      <td>No info</td>\n",
              "      <td>7662</td>\n",
              "      <td>1</td>\n",
              "      <td>5</td>\n",
              "      <td>5</td>\n",
              "      <td>50</td>\n",
              "      <td>13</td>\n",
              "      <td>15</td>\n",
              "    </tr>\n",
              "    <tr>\n",
              "      <th>2</th>\n",
              "      <td>Jet Airways</td>\n",
              "      <td>Delhi</td>\n",
              "      <td>Cochin</td>\n",
              "      <td>DEL → LKO → BOM → COK</td>\n",
              "      <td>19h</td>\n",
              "      <td>2 stops</td>\n",
              "      <td>No info</td>\n",
              "      <td>13882</td>\n",
              "      <td>9</td>\n",
              "      <td>6</td>\n",
              "      <td>9</td>\n",
              "      <td>25</td>\n",
              "      <td>4</td>\n",
              "      <td>25</td>\n",
              "    </tr>\n",
              "    <tr>\n",
              "      <th>3</th>\n",
              "      <td>IndiGo</td>\n",
              "      <td>Kolkata</td>\n",
              "      <td>Banglore</td>\n",
              "      <td>CCU → NAG → BLR</td>\n",
              "      <td>5h 25m</td>\n",
              "      <td>1 stop</td>\n",
              "      <td>No info</td>\n",
              "      <td>6218</td>\n",
              "      <td>12</td>\n",
              "      <td>5</td>\n",
              "      <td>18</td>\n",
              "      <td>5</td>\n",
              "      <td>23</td>\n",
              "      <td>30</td>\n",
              "    </tr>\n",
              "    <tr>\n",
              "      <th>4</th>\n",
              "      <td>IndiGo</td>\n",
              "      <td>Banglore</td>\n",
              "      <td>New Delhi</td>\n",
              "      <td>BLR → NAG → DEL</td>\n",
              "      <td>4h 45m</td>\n",
              "      <td>1 stop</td>\n",
              "      <td>No info</td>\n",
              "      <td>13302</td>\n",
              "      <td>1</td>\n",
              "      <td>3</td>\n",
              "      <td>16</td>\n",
              "      <td>50</td>\n",
              "      <td>21</td>\n",
              "      <td>35</td>\n",
              "    </tr>\n",
              "  </tbody>\n",
              "</table>\n",
              "</div>"
            ],
            "text/plain": [
              "       Airline    Source Destination  ... Dep_min Arrival_hour Arrival_min\n",
              "0       IndiGo  Banglore   New Delhi  ...      20            1          10\n",
              "1    Air India   Kolkata    Banglore  ...      50           13          15\n",
              "2  Jet Airways     Delhi      Cochin  ...      25            4          25\n",
              "3       IndiGo   Kolkata    Banglore  ...       5           23          30\n",
              "4       IndiGo  Banglore   New Delhi  ...      50           21          35\n",
              "\n",
              "[5 rows x 14 columns]"
            ]
          },
          "metadata": {
            "tags": []
          },
          "execution_count": 25
        }
      ]
    },
    {
      "cell_type": "code",
      "metadata": {
        "id": "Uf8oaX4KbKuB",
        "colab": {
          "base_uri": "https://localhost:8080/"
        },
        "outputId": "6ab44206-0c6e-4feb-97ef-24f82aac69a8"
      },
      "source": [
        "dataset[\"Additional_Info\"].describe()"
      ],
      "execution_count": null,
      "outputs": [
        {
          "output_type": "execute_result",
          "data": {
            "text/plain": [
              "count       10682\n",
              "unique         10\n",
              "top       No info\n",
              "freq         8344\n",
              "Name: Additional_Info, dtype: object"
            ]
          },
          "metadata": {
            "tags": []
          },
          "execution_count": 26
        }
      ]
    },
    {
      "cell_type": "code",
      "metadata": {
        "id": "yexmJ3gHbKuC"
      },
      "source": [
        "#we can observe that more than 90% of the additional info is same as \"no_info\"\n",
        "#so we can eliminate the additional info"
      ],
      "execution_count": null,
      "outputs": []
    },
    {
      "cell_type": "code",
      "metadata": {
        "id": "dcPaeDjzbKuC"
      },
      "source": [
        "dataset.drop([\"Additional_Info\"],axis=1,inplace=True)"
      ],
      "execution_count": null,
      "outputs": []
    },
    {
      "cell_type": "code",
      "metadata": {
        "id": "yb2RF3qubKuC"
      },
      "source": [
        "#since we have source and destination the route column doesn't make value"
      ],
      "execution_count": null,
      "outputs": []
    },
    {
      "cell_type": "code",
      "metadata": {
        "id": "jOPH3woBbKuC"
      },
      "source": [
        "dataset.drop([\"Route\"],axis=1,inplace=True)"
      ],
      "execution_count": null,
      "outputs": []
    },
    {
      "cell_type": "code",
      "metadata": {
        "id": "O0SbepTNbKuD",
        "colab": {
          "base_uri": "https://localhost:8080/",
          "height": 195
        },
        "outputId": "bc3ba225-a269-4811-dc0b-8d45631c87ee"
      },
      "source": [
        "dataset.head()"
      ],
      "execution_count": null,
      "outputs": [
        {
          "output_type": "execute_result",
          "data": {
            "text/html": [
              "<div>\n",
              "<style scoped>\n",
              "    .dataframe tbody tr th:only-of-type {\n",
              "        vertical-align: middle;\n",
              "    }\n",
              "\n",
              "    .dataframe tbody tr th {\n",
              "        vertical-align: top;\n",
              "    }\n",
              "\n",
              "    .dataframe thead th {\n",
              "        text-align: right;\n",
              "    }\n",
              "</style>\n",
              "<table border=\"1\" class=\"dataframe\">\n",
              "  <thead>\n",
              "    <tr style=\"text-align: right;\">\n",
              "      <th></th>\n",
              "      <th>Airline</th>\n",
              "      <th>Source</th>\n",
              "      <th>Destination</th>\n",
              "      <th>Duration</th>\n",
              "      <th>Total_Stops</th>\n",
              "      <th>Price</th>\n",
              "      <th>Journey_day</th>\n",
              "      <th>Journey_month</th>\n",
              "      <th>Dep_hour</th>\n",
              "      <th>Dep_min</th>\n",
              "      <th>Arrival_hour</th>\n",
              "      <th>Arrival_min</th>\n",
              "    </tr>\n",
              "  </thead>\n",
              "  <tbody>\n",
              "    <tr>\n",
              "      <th>0</th>\n",
              "      <td>IndiGo</td>\n",
              "      <td>Banglore</td>\n",
              "      <td>New Delhi</td>\n",
              "      <td>2h 50m</td>\n",
              "      <td>non-stop</td>\n",
              "      <td>3897</td>\n",
              "      <td>24</td>\n",
              "      <td>3</td>\n",
              "      <td>22</td>\n",
              "      <td>20</td>\n",
              "      <td>1</td>\n",
              "      <td>10</td>\n",
              "    </tr>\n",
              "    <tr>\n",
              "      <th>1</th>\n",
              "      <td>Air India</td>\n",
              "      <td>Kolkata</td>\n",
              "      <td>Banglore</td>\n",
              "      <td>7h 25m</td>\n",
              "      <td>2 stops</td>\n",
              "      <td>7662</td>\n",
              "      <td>1</td>\n",
              "      <td>5</td>\n",
              "      <td>5</td>\n",
              "      <td>50</td>\n",
              "      <td>13</td>\n",
              "      <td>15</td>\n",
              "    </tr>\n",
              "    <tr>\n",
              "      <th>2</th>\n",
              "      <td>Jet Airways</td>\n",
              "      <td>Delhi</td>\n",
              "      <td>Cochin</td>\n",
              "      <td>19h</td>\n",
              "      <td>2 stops</td>\n",
              "      <td>13882</td>\n",
              "      <td>9</td>\n",
              "      <td>6</td>\n",
              "      <td>9</td>\n",
              "      <td>25</td>\n",
              "      <td>4</td>\n",
              "      <td>25</td>\n",
              "    </tr>\n",
              "    <tr>\n",
              "      <th>3</th>\n",
              "      <td>IndiGo</td>\n",
              "      <td>Kolkata</td>\n",
              "      <td>Banglore</td>\n",
              "      <td>5h 25m</td>\n",
              "      <td>1 stop</td>\n",
              "      <td>6218</td>\n",
              "      <td>12</td>\n",
              "      <td>5</td>\n",
              "      <td>18</td>\n",
              "      <td>5</td>\n",
              "      <td>23</td>\n",
              "      <td>30</td>\n",
              "    </tr>\n",
              "    <tr>\n",
              "      <th>4</th>\n",
              "      <td>IndiGo</td>\n",
              "      <td>Banglore</td>\n",
              "      <td>New Delhi</td>\n",
              "      <td>4h 45m</td>\n",
              "      <td>1 stop</td>\n",
              "      <td>13302</td>\n",
              "      <td>1</td>\n",
              "      <td>3</td>\n",
              "      <td>16</td>\n",
              "      <td>50</td>\n",
              "      <td>21</td>\n",
              "      <td>35</td>\n",
              "    </tr>\n",
              "  </tbody>\n",
              "</table>\n",
              "</div>"
            ],
            "text/plain": [
              "       Airline    Source Destination  ... Dep_min Arrival_hour  Arrival_min\n",
              "0       IndiGo  Banglore   New Delhi  ...      20            1           10\n",
              "1    Air India   Kolkata    Banglore  ...      50           13           15\n",
              "2  Jet Airways     Delhi      Cochin  ...      25            4           25\n",
              "3       IndiGo   Kolkata    Banglore  ...       5           23           30\n",
              "4       IndiGo  Banglore   New Delhi  ...      50           21           35\n",
              "\n",
              "[5 rows x 12 columns]"
            ]
          },
          "metadata": {
            "tags": []
          },
          "execution_count": 31
        }
      ]
    },
    {
      "cell_type": "code",
      "metadata": {
        "id": "F7EDCp1ebKuD",
        "colab": {
          "base_uri": "https://localhost:8080/"
        },
        "outputId": "feb22345-eee7-4961-b6e4-69bd35e04f16"
      },
      "source": [
        "duration = list(dataset[\"Duration\"])\n",
        "\n",
        "for i in range(len(duration)):\n",
        "    if len(duration[i].split()) < 2:   \n",
        "        if \"h\" in duration[i]:\n",
        "            duration[i] = duration[i].strip() + \" 0m\"   \n",
        "        else:\n",
        "            duration[i] = \"0h \" + duration[i]          \n",
        "print(duration)\n",
        "duration_hours = []\n",
        "duration_mins = []\n",
        "for i in range(len(duration)):\n",
        "    duration_hours.append(int(duration[i].split(sep = \"h\")[0]))    \n",
        "    duration_mins.append(int(duration[i].split(sep = \"m\")[0].split()[-1]))   "
      ],
      "execution_count": null,
      "outputs": [
        {
          "output_type": "stream",
          "text": [
            "['2h 50m', '7h 25m', '19h 0m', '5h 25m', '4h 45m', '2h 25m', '15h 30m', '21h 5m', '25h 30m', '7h 50m', '13h 15m', '2h 35m', '2h 15m', '12h 10m', '2h 35m', '26h 35m', '4h 30m', '22h 35m', '23h 0m', '20h 35m', '5h 10m', '15h 20m', '2h 50m', '2h 55m', '13h 20m', '15h 10m', '5h 45m', '5h 55m', '2h 50m', '2h 15m', '2h 15m', '13h 25m', '2h 50m', '22h 0m', '5h 30m', '10h 25m', '5h 15m', '2h 30m', '6h 15m', '11h 55m', '11h 5m', '8h 30m', '22h 5m', '2h 45m', '12h 0m', '2h 50m', '2h 50m', '2h 15m', '16h 5m', '19h 55m', '3h 15m', '25h 20m', '2h 50m', '3h 0m', '2h 50m', '16h 15m', '15h 5m', '2h 15m', '6h 30m', '25h 5m', '12h 25m', '27h 20m', '10h 15m', '10h 30m', '2h 15m', '10h 25m', '2h 50m', '1h 30m', '13h 20m', '2h 15m', '1h 25m', '26h 30m', '7h 20m', '13h 30m', '5h 0m', '2h 45m', '2h 50m', '1h 30m', '19h 5m', '2h 15m', '14h 50m', '2h 40m', '22h 10m', '9h 35m', '10h 0m', '21h 20m', '5h 25m', '18h 45m', '12h 20m', '18h 0m', '9h 15m', '11h 5m', '17h 30m', '13h 20m', '2h 35m', '2h 25m', '2h 40m', '3h 0m', '1h 25m', '16h 35m', '12h 20m', '12h 15m', '7h 30m', '24h 0m', '2h 45m', '8h 55m', '7h 10m', '14h 30m', '30h 20m', '19h 55m', '15h 0m', '2h 55m', '12h 45m', '10h 10m', '5h 55m', '15h 25m', '16h 5m', '10h 10m', '2h 40m', '11h 55m', '2h 40m', '1h 25m', '14h 5m', '20h 15m', '2h 25m', '23h 10m', '18h 10m', '16h 0m', '2h 50m', '2h 20m', '8h 0m', '16h 55m', '3h 10m', '2h 45m', '14h 0m', '23h 50m', '21h 40m', '21h 15m', '2h 45m', '10h 50m', '8h 0m', '8h 15m', '5h 25m', '8h 35m', '11h 50m', '27h 35m', '8h 25m', '20h 55m', '4h 50m', '8h 10m', '2h 20m', '24h 25m', '2h 50m', '12h 20m', '12h 15m', '23h 35m', '16h 35m', '2h 50m', '25h 45m', '26h 10m', '28h 50m', '2h 45m', '25h 15m', '9h 20m', '4h 30m', '15h 25m', '1h 30m', '2h 40m', '9h 10m', '2h 45m', '22h 35m', '3h 5m', '11h 30m', '9h 30m', '12h 10m', '17h 35m', '5h 5m', '25h 50m', '20h 0m', '13h 0m', '18h 25m', '1h 30m', '9h 30m', '16h 0m', '2h 20m', '4h 30m', '5h 45m', '24h 10m', '2h 35m', '2h 45m', '4h 55m', '25h 35m', '6h 20m', '3h 5m', '18h 40m', '2h 15m', '12h 10m', '19h 25m', '2h 50m', '8h 25m', '9h 15m', '2h 50m', '3h 15m', '2h 50m', '12h 20m', '2h 55m', '9h 35m', '2h 35m', '9h 30m', '29h 20m', '2h 55m', '5h 15m', '9h 5m', '10h 45m', '4h 55m', '1h 30m', '11h 40m', '2h 45m', '2h 55m', '10h 0m', '2h 45m', '10h 15m', '1h 25m', '9h 15m', '22h 55m', '28h 50m', '37h 25m', '2h 50m', '1h 30m', '1h 30m', '25h 40m', '2h 35m', '6h 15m', '17h 30m', '5h 45m', '2h 35m', '25h 30m', '13h 55m', '2h 55m', '10h 15m', '8h 40m', '5h 30m', '12h 0m', '2h 15m', '2h 15m', '2h 50m', '9h 10m', '10h 25m', '2h 20m', '4h 30m', '3h 10m', '23h 30m', '27h 20m', '12h 35m', '24h 15m', '1h 20m', '2h 45m', '3h 0m', '11h 0m', '13h 30m', '2h 50m', '2h 55m', '2h 45m', '11h 15m', '14h 35m', '13h 55m', '14h 5m', '15h 5m', '2h 15m', '15h 0m', '12h 55m', '9h 0m', '12h 15m', '7h 40m', '27h 20m', '1h 25m', '1h 20m', '5h 30m', '11h 45m', '3h 15m', '24h 55m', '27h 20m', '2h 55m', '17h 5m', '2h 40m', '8h 0m', '3h 0m', '27h 35m', '7h 30m', '22h 55m', '8h 35m', '29h 55m', '22h 15m', '1h 20m', '2h 40m', '3h 0m', '12h 10m', '2h 35m', '11h 45m', '2h 35m', '1h 30m', '2h 40m', '2h 35m', '22h 55m', '14h 40m', '15h 25m', '7h 15m', '20h 10m', '20h 45m', '2h 30m', '23h 50m', '27h 0m', '5h 30m', '11h 50m', '2h 15m', '24h 30m', '2h 20m', '6h 30m', '20h 25m', '2h 35m', '2h 55m', '5h 35m', '2h 30m', '14h 45m', '12h 20m', '25h 30m', '5h 35m', '11h 45m', '2h 55m', '5h 40m', '4h 5m', '8h 0m', '2h 45m', '2h 40m', '2h 55m', '15h 55m', '23h 10m', '7h 20m', '2h 50m', '7h 30m', '3h 0m', '7h 45m', '25h 20m', '10h 25m', '30h 20m', '2h 35m', '9h 0m', '15h 10m', '28h 20m', '3h 0m', '2h 45m', '4h 55m', '2h 40m', '22h 10m', '10h 10m', '2h 50m', '4h 20m', '11h 0m', '3h 0m', '22h 35m', '3h 5m', '2h 40m', '2h 50m', '21h 5m', '11h 50m', '25h 35m', '15h 25m', '2h 25m', '3h 40m', '2h 55m', '3h 10m', '11h 50m', '2h 50m', '2h 50m', '1h 30m', '11h 30m', '8h 50m', '20h 15m', '20h 10m', '16h 5m', '12h 35m', '17h 5m', '3h 0m', '15h 30m', '11h 30m', '2h 20m', '23h 45m', '1h 30m', '2h 35m', '24h 45m', '21h 35m', '5h 30m', '12h 15m', '8h 5m', '5h 0m', '2h 50m', '6h 25m', '2h 20m', '2h 45m', '12h 45m', '15h 50m', '27h 0m', '26h 25m', '2h 55m', '24h 50m', '8h 40m', '25h 45m', '2h 50m', '6h 15m', '10h 30m', '26h 0m', '17h 5m', '21h 20m', '5h 35m', '2h 50m', '25h 50m', '12h 10m', '17h 5m', '8h 30m', '23h 5m', '9h 20m', '7h 55m', '1h 30m', '2h 50m', '2h 15m', '10h 0m', '2h 35m', '7h 45m', '2h 55m', '26h 20m', '2h 40m', '11h 0m', '19h 25m', '2h 55m', '2h 45m', '23h 15m', '9h 0m', '3h 10m', '6h 25m', '8h 40m', '2h 50m', '12h 20m', '5h 20m', '4h 0m', '9h 45m', '2h 55m', '26h 20m', '2h 15m', '9h 45m', '24h 55m', '11h 55m', '8h 20m', '17h 25m', '2h 50m', '7h 5m', '21h 15m', '5h 0m', '2h 25m', '5h 15m', '15h 10m', '11h 45m', '3h 0m', '4h 55m', '2h 45m', '2h 30m', '9h 45m', '2h 40m', '6h 30m', '5h 30m', '2h 40m', '34h 5m', '15h 25m', '9h 30m', '6h 5m', '2h 40m', '5h 50m', '2h 45m', '27h 20m', '3h 0m', '5h 15m', '16h 0m', '7h 0m', '8h 40m', '9h 0m', '2h 20m', '2h 20m', '6h 20m', '4h 25m', '2h 20m', '11h 5m', '16h 55m', '13h 45m', '25h 45m', '13h 55m', '5h 15m', '19h 15m', '7h 30m', '9h 0m', '24h 0m', '18h 10m', '2h 55m', '1h 30m', '21h 20m', '6h 15m', '14h 30m', '1h 20m', '12h 55m', '2h 25m', '22h 30m', '22h 55m', '5h 25m', '1h 25m', '7h 15m', '12h 20m', '20h 10m', '21h 15m', '2h 15m', '10h 30m', '14h 5m', '2h 50m', '16h 25m', '5h 15m', '13h 50m', '2h 15m', '7h 15m', '27h 5m', '27h 35m', '5h 0m', '2h 50m', '2h 50m', '15h 20m', '5h 20m', '10h 10m', '27h 35m', '9h 35m', '28h 10m', '14h 0m', '2h 35m', '2h 55m', '2h 35m', '4h 40m', '2h 30m', '11h 15m', '7h 55m', '8h 50m', '1h 25m', '15h 40m', '2h 35m', '2h 55m', '13h 25m', '4h 35m', '18h 30m', '2h 15m', '38h 15m', '3h 5m', '25h 50m', '3h 10m', '2h 50m', '11h 30m', '6h 35m', '27h 35m', '2h 35m', '7h 30m', '3h 15m', '9h 35m', '12h 30m', '11h 20m', '3h 0m', '2h 35m', '1h 30m', '26h 10m', '4h 55m', '2h 45m', '8h 40m', '7h 5m', '2h 45m', '24h 50m', '2h 20m', '11h 0m', '9h 0m', '2h 55m', '3h 5m', '2h 35m', '13h 0m', '1h 25m', '7h 35m', '2h 40m', '12h 55m', '29h 20m', '5h 0m', '8h 40m', '3h 0m', '3h 0m', '2h 45m', '12h 10m', '2h 20m', '7h 55m', '29h 35m', '26h 55m', '12h 45m', '7h 35m', '2h 30m', '11h 45m', '23h 40m', '13h 50m', '12h 50m', '9h 50m', '2h 30m', '21h 55m', '26h 10m', '2h 55m', '20h 15m', '20h 10m', '10h 55m', '2h 30m', '21h 10m', '2h 35m', '20h 40m', '2h 50m', '6h 30m', '30h 0m', '13h 10m', '2h 55m', '18h 0m', '8h 0m', '8h 45m', '12h 30m', '13h 20m', '6h 10m', '7h 30m', '19h 15m', '2h 35m', '12h 0m', '3h 0m', '2h 50m', '1h 25m', '23h 5m', '2h 50m', '22h 5m', '2h 15m', '5h 45m', '2h 50m', '9h 30m', '8h 55m', '17h 45m', '2h 50m', '21h 45m', '12h 35m', '1h 30m', '2h 15m', '3h 55m', '2h 45m', '7h 30m', '17h 20m', '1h 30m', '1h 30m', '30h 30m', '5h 0m', '11h 15m', '2h 50m', '19h 5m', '6h 35m', '7h 30m', '2h 15m', '2h 45m', '12h 45m', '2h 50m', '26h 35m', '12h 55m', '1h 30m', '8h 40m', '14h 0m', '23h 30m', '29h 55m', '22h 10m', '4h 50m', '2h 45m', '13h 30m', '13h 20m', '2h 20m', '11h 55m', '5h 10m', '11h 45m', '13h 50m', '3h 0m', '6h 10m', '2h 20m', '10h 45m', '2h 15m', '2h 55m', '1h 30m', '7h 35m', '26h 35m', '4h 45m', '21h 25m', '8h 35m', '8h 30m', '2h 15m', '12h 40m', '8h 25m', '25h 40m', '2h 45m', '29h 20m', '2h 40m', '2h 50m', '2h 20m', '7h 15m', '20h 15m', '11h 45m', '2h 35m', '13h 30m', '1h 30m', '24h 35m', '20h 35m', '2h 50m', '4h 35m', '2h 20m', '11h 45m', '1h 30m', '12h 50m', '24h 30m', '11h 30m', '4h 0m', '11h 0m', '5h 25m', '2h 35m', '5h 10m', '10h 10m', '26h 55m', '7h 15m', '8h 10m', '2h 55m', '5h 15m', '2h 20m', '1h 25m', '4h 50m', '2h 20m', '2h 20m', '13h 15m', '19h 10m', '22h 40m', '14h 50m', '15h 10m', '7h 5m', '1h 25m', '2h 55m', '8h 0m', '2h 45m', '14h 55m', '1h 30m', '16h 15m', '2h 50m', '5h 0m', '22h 15m', '5h 30m', '8h 35m', '15h 25m', '21h 0m', '13h 30m', '2h 50m', '6h 45m', '1h 30m', '8h 40m', '1h 30m', '2h 50m', '2h 35m', '16h 5m', '23h 50m', '27h 5m', '16h 15m', '15h 25m', '2h 50m', '8h 35m', '13h 50m', '2h 40m', '2h 25m', '3h 10m', '2h 55m', '28h 40m', '2h 50m', '2h 35m', '9h 40m', '16h 40m', '6h 20m', '27h 0m', '14h 35m', '12h 10m', '7h 35m', '2h 20m', '19h 10m', '20h 0m', '3h 0m', '5h 10m', '2h 40m', '29h 35m', '4h 55m', '3h 0m', '12h 30m', '12h 35m', '26h 20m', '13h 15m', '2h 50m', '12h 45m', '16h 20m', '2h 40m', '8h 15m', '12h 0m', '2h 50m', '11h 0m', '2h 20m', '13h 50m', '8h 10m', '12h 10m', '2h 40m', '2h 45m', '2h 50m', '24h 0m', '3h 0m', '12h 35m', '25h 50m', '2h 55m', '17h 5m', '29h 20m', '8h 55m', '3h 5m', '9h 0m', '10h 25m', '16h 45m', '2h 45m', '26h 20m', '13h 15m', '10h 30m', '7h 35m', '11h 0m', '2h 50m', '25h 45m', '6h 25m', '1h 25m', '20h 10m', '11h 55m', '2h 50m', '5h 0m', '27h 0m', '2h 50m', '1h 15m', '10h 15m', '24h 50m', '2h 50m', '20h 0m', '5h 30m', '2h 45m', '6h 55m', '2h 45m', '5h 15m', '6h 15m', '2h 50m', '19h 25m', '2h 55m', '11h 25m', '14h 5m', '2h 45m', '3h 15m', '14h 20m', '12h 30m', '5h 20m', '26h 20m', '3h 5m', '1h 30m', '7h 5m', '6h 10m', '8h 0m', '12h 5m', '12h 55m', '9h 35m', '15h 10m', '11h 40m', '2h 55m', '4h 30m', '2h 40m', '2h 30m', '24h 10m', '28h 20m', '1h 25m', '10h 10m', '11h 30m', '2h 50m', '13h 45m', '6h 25m', '12h 55m', '4h 25m', '13h 30m', '24h 5m', '16h 5m', '8h 20m', '3h 40m', '9h 30m', '28h 15m', '13h 20m', '17h 50m', '20h 20m', '28h 5m', '15h 25m', '12h 5m', '10h 20m', '12h 25m', '7h 35m', '2h 50m', '4h 35m', '11h 15m', '2h 35m', '26h 0m', '2h 25m', '2h 35m', '14h 15m', '2h 35m', '22h 5m', '6h 35m', '8h 30m', '18h 45m', '35h 15m', '2h 15m', '2h 30m', '2h 20m', '2h 30m', '7h 35m', '35h 35m', '26h 30m', '11h 30m', '26h 40m', '3h 0m', '1h 30m', '2h 55m', '14h 15m', '16h 55m', '12h 20m', '29h 35m', '20h 20m', '8h 25m', '13h 50m', '10h 0m', '19h 25m', '28h 0m', '2h 50m', '17h 20m', '2h 45m', '2h 55m', '13h 25m', '12h 55m', '9h 45m', '21h 25m', '15h 40m', '2h 20m', '14h 25m', '2h 50m', '6h 35m', '22h 10m', '14h 25m', '2h 30m', '23h 35m', '13h 5m', '1h 30m', '5h 5m', '1h 20m', '22h 55m', '1h 30m', '2h 35m', '37h 20m', '2h 50m', '2h 50m', '36h 10m', '9h 15m', '1h 25m', '5h 5m', '2h 15m', '15h 10m', '25h 55m', '5h 40m', '7h 30m', '17h 45m', '2h 20m', '8h 15m', '3h 40m', '5h 55m', '2h 30m', '17h 30m', '13h 50m', '2h 15m', '21h 35m', '9h 30m', '8h 40m', '10h 25m', '35h 5m', '14h 15m', '3h 0m', '25h 50m', '2h 30m', '8h 40m', '10h 0m', '11h 30m', '7h 30m', '7h 0m', '2h 15m', '7h 5m', '8h 0m', '5h 25m', '23h 35m', '6h 35m', '3h 0m', '19h 5m', '2h 35m', '4h 30m', '1h 30m', '2h 40m', '26h 40m', '12h 25m', '14h 25m', '2h 50m', '3h 5m', '1h 30m', '8h 0m', '19h 45m', '2h 45m', '9h 20m', '3h 0m', '26h 55m', '21h 15m', '2h 50m', '2h 50m', '16h 55m', '1h 30m', '25h 45m', '1h 30m', '9h 15m', '11h 5m', '6h 20m', '28h 50m', '27h 55m', '12h 15m', '22h 55m', '2h 35m', '2h 50m', '1h 20m', '26h 0m', '8h 45m', '18h 10m', '14h 55m', '7h 30m', '19h 10m', '7h 15m', '11h 40m', '8h 40m', '11h 0m', '14h 25m', '4h 35m', '7h 40m', '11h 45m', '3h 0m', '1h 30m', '10h 30m', '2h 35m', '5h 35m', '21h 15m', '11h 45m', '20h 0m', '5h 45m', '1h 30m', '2h 35m', '47h 0m', '3h 15m', '21h 15m', '13h 20m', '2h 45m', '2h 55m', '5h 20m', '21h 20m', '5h 30m', '3h 0m', '2h 35m', '12h 35m', '26h 20m', '2h 55m', '6h 35m', '2h 30m', '23h 10m', '12h 55m', '26h 30m', '10h 35m', '1h 35m', '17h 5m', '1h 30m', '2h 45m', '28h 40m', '2h 15m', '1h 30m', '2h 40m', '7h 35m', '14h 25m', '25h 20m', '9h 50m', '16h 10m', '2h 40m', '5h 30m', '16h 45m', '2h 50m', '11h 30m', '9h 45m', '12h 55m', '10h 0m', '10h 55m', '7h 40m', '15h 0m', '2h 20m', '1h 30m', '38h 20m', '2h 45m', '21h 5m', '2h 55m', '2h 50m', '25h 55m', '2h 50m', '1h 20m', '16h 25m', '2h 55m', '13h 0m', '7h 20m', '2h 50m', '5h 15m', '17h 25m', '11h 45m', '22h 5m', '3h 10m', '2h 45m', '5h 20m', '9h 50m', '7h 5m', '20h 45m', '14h 0m', '6h 0m', '4h 30m', '14h 50m', '27h 35m', '24h 0m', '17h 5m', '16h 50m', '2h 50m', '7h 20m', '6h 55m', '2h 40m', '26h 55m', '14h 10m', '2h 20m', '11h 45m', '1h 25m', '15h 30m', '19h 55m', '11h 0m', '2h 50m', '2h 15m', '2h 45m', '10h 0m', '2h 15m', '6h 20m', '7h 15m', '5h 30m', '2h 25m', '1h 30m', '13h 20m', '2h 45m', '4h 30m', '5h 45m', '23h 20m', '16h 40m', '5h 0m', '14h 25m', '13h 20m', '12h 30m', '5h 25m', '27h 35m', '2h 35m', '17h 40m', '21h 40m', '13h 20m', '2h 30m', '9h 35m', '2h 55m', '11h 35m', '2h 35m', '1h 25m', '4h 55m', '7h 30m', '16h 0m', '24h 10m', '3h 15m', '12h 35m', '12h 5m', '12h 10m', '7h 45m', '30h 30m', '7h 15m', '14h 25m', '2h 30m', '6h 25m', '15h 0m', '18h 20m', '19h 55m', '2h 55m', '13h 15m', '8h 45m', '1h 30m', '14h 35m', '2h 50m', '4h 30m', '13h 25m', '12h 45m', '2h 30m', '24h 10m', '5h 25m', '16h 45m', '26h 25m', '5h 20m', '10h 25m', '2h 30m', '1h 30m', '2h 45m', '13h 30m', '6h 40m', '13h 25m', '8h 10m', '15h 30m', '10h 0m', '2h 15m', '3h 0m', '6h 35m', '27h 20m', '5h 0m', '2h 15m', '2h 50m', '7h 5m', '14h 0m', '5h 45m', '2h 40m', '9h 50m', '1h 25m', '5h 20m', '15h 30m', '21h 20m', '7h 15m', '5h 50m', '14h 35m', '7h 55m', '6h 35m', '25h 45m', '10h 30m', '30h 55m', '22h 55m', '15h 10m', '25h 20m', '8h 5m', '15h 40m', '11h 50m', '2h 40m', '21h 35m', '5h 20m', '2h 55m', '2h 50m', '14h 20m', '11h 0m', '12h 40m', '24h 40m', '2h 45m', '10h 15m', '11h 0m', '7h 35m', '12h 30m', '2h 15m', '16h 15m', '3h 0m', '22h 0m', '14h 25m', '26h 35m', '3h 10m', '6h 30m', '2h 50m', '7h 30m', '22h 55m', '5h 30m', '5h 55m', '8h 10m', '6h 40m', '8h 45m', '2h 45m', '8h 40m', '2h 35m', '2h 15m', '26h 55m', '2h 45m', '16h 0m', '16h 50m', '5h 5m', '10h 35m', '12h 0m', '1h 15m', '11h 45m', '21h 10m', '2h 30m', '2h 25m', '2h 50m', '27h 20m', '10h 30m', '2h 55m', '3h 5m', '7h 30m', '29h 50m', '1h 20m', '12h 25m', '11h 50m', '15h 55m', '8h 10m', '35h 5m', '21h 35m', '4h 50m', '20h 20m', '1h 15m', '5h 10m', '3h 0m', '2h 55m', '7h 5m', '4h 30m', '1h 30m', '7h 20m', '1h 30m', '2h 45m', '18h 20m', '2h 45m', '2h 20m', '1h 30m', '23h 40m', '2h 45m', '2h 50m', '8h 45m', '7h 55m', '6h 35m', '23h 35m', '21h 10m', '2h 50m', '14h 35m', '37h 20m', '6h 15m', '26h 0m', '14h 5m', '7h 30m', '16h 45m', '7h 40m', '28h 25m', '5h 0m', '8h 55m', '23h 20m', '14h 15m', '4h 50m', '2h 45m', '22h 55m', '5h 45m', '29h 35m', '2h 35m', '2h 50m', '17h 15m', '2h 35m', '8h 30m', '10h 0m', '8h 15m', '6h 10m', '13h 0m', '3h 15m', '19h 25m', '8h 0m', '2h 35m', '2h 30m', '6h 20m', '2h 15m', '2h 25m', '19h 55m', '3h 0m', '4h 30m', '12h 30m', '7h 45m', '2h 35m', '25h 35m', '6h 10m', '2h 30m', '9h 20m', '18h 45m', '5h 15m', '7h 45m', '14h 30m', '2h 15m', '19h 55m', '5h 25m', '16h 50m', '2h 50m', '4h 35m', '12h 25m', '9h 30m', '2h 35m', '2h 55m', '1h 25m', '2h 45m', '2h 50m', '5h 5m', '10h 15m', '8h 30m', '2h 30m', '4h 55m', '8h 25m', '4h 35m', '3h 5m', '10h 25m', '1h 15m', '13h 15m', '22h 55m', '5h 55m', '2h 55m', '2h 45m', '2h 55m', '2h 30m', '26h 30m', '25h 55m', '1h 20m', '2h 40m', '1h 35m', '2h 20m', '2h 40m', '4h 35m', '3h 5m', '15h 10m', '2h 55m', '9h 5m', '15h 25m', '4h 40m', '9h 35m', '4h 35m', '30h 55m', '2h 55m', '37h 20m', '26h 0m', '20h 10m', '25h 20m', '11h 5m', '23h 50m', '10h 0m', '2h 35m', '20h 35m', '14h 50m', '2h 20m', '9h 50m', '7h 30m', '7h 15m', '22h 45m', '2h 50m', '20h 10m', '2h 50m', '22h 55m', '25h 25m', '5h 5m', '2h 45m', '12h 0m', '11h 5m', '21h 50m', '9h 0m', '13h 30m', '8h 25m', '8h 30m', '10h 0m', '1h 30m', '2h 20m', '1h 30m', '3h 5m', '23h 45m', '1h 30m', '6h 5m', '9h 20m', '20h 10m', '19h 45m', '13h 55m', '2h 15m', '7h 20m', '3h 10m', '3h 15m', '2h 50m', '7h 15m', '2h 55m', '7h 35m', '2h 55m', '28h 20m', '8h 40m', '9h 5m', '15h 20m', '37h 20m', '2h 55m', '11h 45m', '2h 50m', '15h 10m', '10h 15m', '16h 40m', '2h 20m', '2h 45m', '9h 5m', '2h 20m', '23h 50m', '8h 0m', '33h 15m', '14h 45m', '27h 20m', '2h 25m', '1h 30m', '7h 5m', '1h 30m', '4h 50m', '6h 35m', '10h 15m', '11h 30m', '21h 15m', '16h 15m', '25h 50m', '24h 30m', '2h 20m', '15h 10m', '14h 5m', '12h 35m', '10h 20m', '13h 20m', '2h 45m', '3h 0m', '2h 50m', '21h 40m', '2h 40m', '2h 50m', '9h 10m', '8h 25m', '28h 25m', '8h 10m', '12h 30m', '2h 50m', '1h 30m', '13h 30m', '2h 20m', '11h 40m', '6h 35m', '2h 50m', '5h 15m', '2h 15m', '11h 0m', '37h 25m', '2h 50m', '21h 10m', '2h 45m', '6h 25m', '15h 10m', '7h 45m', '4h 55m', '5h 15m', '3h 10m', '22h 35m', '30h 15m', '5h 15m', '2h 35m', '21h 40m', '28h 25m', '12h 45m', '1h 30m', '14h 30m', '2h 35m', '25h 55m', '2h 35m', '9h 15m', '3h 35m', '9h 10m', '7h 20m', '14h 25m', '12h 30m', '27h 5m', '1h 30m', '13h 30m', '13h 20m', '12h 55m', '23h 45m', '27h 40m', '4h 35m', '3h 0m', '9h 15m', '7h 20m', '1h 30m', '22h 0m', '2h 45m', '22h 55m', '4h 50m', '12h 45m', '8h 40m', '2h 45m', '16h 55m', '9h 10m', '8h 30m', '20h 25m', '8h 25m', '7h 15m', '9h 50m', '16h 10m', '13h 55m', '8h 0m', '21h 15m', '3h 10m', '26h 35m', '28h 50m', '2h 45m', '1h 30m', '27h 0m', '4h 35m', '23h 40m', '2h 45m', '2h 30m', '3h 0m', '3h 0m', '2h 50m', '2h 50m', '5h 35m', '3h 0m', '20h 10m', '19h 5m', '28h 20m', '29h 55m', '25h 45m', '2h 15m', '2h 55m', '18h 10m', '8h 55m', '19h 0m', '2h 50m', '2h 50m', '2h 45m', '15h 10m', '29h 20m', '1h 30m', '2h 15m', '15h 40m', '24h 40m', '13h 55m', '2h 50m', '23h 20m', '9h 0m', '2h 50m', '6h 10m', '15h 0m', '15h 5m', '1h 30m', '2h 30m', '12h 20m', '7h 40m', '14h 25m', '38h 15m', '12h 10m', '2h 50m', '9h 35m', '2h 40m', '6h 10m', '6h 30m', '25h 50m', '30h 25m', '3h 0m', '13h 50m', '17h 30m', '2h 30m', '2h 35m', '2h 20m', '13h 15m', '9h 50m', '2h 55m', '12h 25m', '24h 35m', '5h 30m', '15h 10m', '23h 40m', '2h 35m', '10h 0m', '13h 50m', '14h 35m', '7h 35m', '13h 30m', '13h 30m', '8h 15m', '12h 40m', '14h 55m', '27h 35m', '14h 35m', '9h 30m', '15h 10m', '2h 35m', '3h 5m', '4h 55m', '4h 50m', '2h 55m', '1h 30m', '10h 30m', '12h 30m', '6h 0m', '2h 50m', '2h 55m', '7h 35m', '2h 55m', '2h 35m', '29h 35m', '7h 30m', '2h 35m', '3h 15m', '16h 20m', '18h 50m', '28h 20m', '23h 15m', '22h 5m', '2h 35m', '1h 30m', '2h 35m', '4h 45m', '28h 50m', '27h 45m', '17h 5m', '6h 20m', '16h 5m', '9h 10m', '22h 45m', '2h 35m', '5h 0m', '15h 15m', '13h 20m', '17h 5m', '17h 45m', '5h 25m', '5h 20m', '14h 25m', '2h 20m', '15h 55m', '22h 55m', '2h 55m', '1h 30m', '15h 30m', '3h 0m', '26h 0m', '2h 50m', '6h 55m', '23h 35m', '2h 30m', '10h 10m', '11h 30m', '27h 0m', '6h 35m', '2h 50m', '8h 20m', '3h 5m', '20h 20m', '2h 20m', '2h 45m', '7h 35m', '2h 40m', '12h 55m', '11h 15m', '2h 30m', '2h 50m', '4h 50m', '18h 20m', '8h 55m', '13h 0m', '10h 40m', '13h 15m', '13h 20m', '2h 35m', '2h 55m', '12h 30m', '7h 5m', '6h 10m', '2h 45m', '2h 50m', '14h 45m', '5h 45m', '2h 15m', '8h 55m', '1h 25m', '33h 15m', '6h 45m', '23h 30m', '2h 45m', '26h 15m', '7h 30m', '1h 30m', '36h 25m', '28h 5m', '12h 20m', '6h 25m', '17h 5m', '1h 30m', '10h 10m', '8h 40m', '13h 30m', '17h 5m', '5h 15m', '5h 0m', '14h 35m', '38h 15m', '11h 15m', '7h 20m', '21h 40m', '2h 40m', '3h 15m', '13h 30m', '2h 50m', '8h 40m', '6h 35m', '23h 45m', '5h 40m', '2h 55m', '24h 35m', '8h 40m', '2h 55m', '2h 50m', '25h 30m', '8h 15m', '12h 20m', '14h 5m', '8h 40m', '2h 45m', '3h 15m', '24h 35m', '16h 55m', '14h 35m', '2h 50m', '14h 5m', '9h 45m', '11h 0m', '10h 20m', '2h 20m', '23h 40m', '12h 15m', '5h 35m', '27h 35m', '3h 15m', '23h 5m', '9h 30m', '1h 25m', '2h 55m', '17h 15m', '22h 30m', '11h 45m', '2h 45m', '28h 50m', '29h 20m', '12h 0m', '1h 25m', '26h 50m', '1h 30m', '2h 50m', '2h 30m', '16h 5m', '10h 55m', '15h 45m', '14h 25m', '23h 40m', '19h 40m', '10h 25m', '2h 35m', '24h 50m', '14h 0m', '9h 5m', '20h 0m', '3h 0m', '22h 25m', '2h 50m', '9h 5m', '19h 35m', '26h 35m', '20h 10m', '1h 30m', '2h 45m', '26h 55m', '15h 10m', '2h 25m', '13h 0m', '10h 30m', '2h 45m', '3h 15m', '22h 35m', '2h 55m', '24h 45m', '11h 55m', '23h 0m', '26h 55m', '7h 40m', '2h 50m', '8h 20m', '9h 20m', '2h 30m', '10h 10m', '9h 0m', '7h 30m', '7h 40m', '23h 10m', '5h 30m', '2h 45m', '2h 55m', '16h 15m', '4h 30m', '6h 15m', '7h 5m', '3h 0m', '2h 20m', '24h 55m', '6h 10m', '12h 55m', '11h 25m', '13h 30m', '2h 50m', '16h 45m', '15h 20m', '6h 15m', '3h 0m', '12h 15m', '17h 5m', '2h 35m', '22h 10m', '9h 30m', '2h 55m', '9h 50m', '2h 30m', '23h 15m', '13h 50m', '15h 10m', '13h 0m', '15h 0m', '6h 35m', '22h 30m', '14h 40m', '28h 50m', '24h 0m', '11h 45m', '15h 40m', '13h 45m', '1h 25m', '2h 45m', '24h 45m', '15h 30m', '1h 30m', '1h 30m', '7h 40m', '4h 30m', '6h 40m', '26h 55m', '2h 50m', '20h 15m', '25h 45m', '2h 45m', '29h 55m', '10h 15m', '2h 45m', '2h 55m', '3h 0m', '3h 0m', '10h 35m', '8h 40m', '7h 45m', '14h 35m', '4h 30m', '11h 30m', '19h 40m', '7h 15m', '9h 30m', '29h 20m', '10h 25m', '24h 35m', '27h 0m', '2h 35m', '2h 20m', '7h 15m', '14h 0m', '2h 45m', '25h 55m', '1h 25m', '23h 30m', '2h 50m', '13h 30m', '28h 50m', '2h 25m', '26h 35m', '8h 0m', '3h 0m', '1h 30m', '14h 55m', '1h 30m', '8h 0m', '1h 30m', '3h 0m', '12h 0m', '11h 5m', '26h 10m', '7h 55m', '8h 15m', '3h 0m', '2h 55m', '12h 15m', '4h 40m', '13h 45m', '15h 30m', '2h 50m', '6h 45m', '6h 10m', '12h 5m', '10h 30m', '21h 25m', '26h 40m', '21h 35m', '3h 10m', '11h 20m', '9h 30m', '16h 45m', '12h 30m', '9h 35m', '25h 0m', '10h 15m', '8h 40m', '8h 40m', '12h 30m', '1h 30m', '24h 55m', '19h 45m', '11h 5m', '2h 30m', '26h 50m', '7h 35m', '10h 30m', '24h 40m', '22h 30m', '11h 35m', '25h 55m', '5h 20m', '15h 25m', '21h 15m', '25h 30m', '2h 20m', '6h 35m', '2h 50m', '7h 35m', '1h 30m', '11h 0m', '3h 0m', '20h 25m', '2h 35m', '2h 50m', '18h 45m', '12h 35m', '1h 20m', '24h 35m', '1h 20m', '7h 15m', '16h 45m', '7h 25m', '26h 45m', '11h 45m', '21h 40m', '28h 0m', '8h 0m', '10h 15m', '15h 10m', '1h 30m', '2h 55m', '20h 20m', '14h 0m', '7h 35m', '2h 30m', '14h 35m', '8h 40m', '9h 50m', '11h 25m', '2h 55m', '3h 0m', '20h 0m', '28h 20m', '3h 15m', '8h 25m', '1h 15m', '12h 35m', '2h 50m', '6h 35m', '28h 50m', '1h 30m', '20h 0m', '23h 50m', '2h 50m', '13h 30m', '22h 55m', '11h 0m', '22h 45m', '21h 15m', '14h 50m', '11h 0m', '5h 5m', '1h 30m', '2h 20m', '1h 30m', '9h 0m', '3h 15m', '2h 45m', '6h 35m', '25h 25m', '7h 40m', '2h 30m', '13h 0m', '12h 0m', '7h 15m', '2h 50m', '2h 45m', '2h 40m', '6h 55m', '6h 5m', '19h 55m', '7h 0m', '23h 45m', '4h 50m', '5h 30m', '9h 5m', '24h 55m', '23h 50m', '6h 10m', '24h 15m', '2h 40m', '2h 25m', '3h 15m', '5h 30m', '1h 30m', '3h 0m', '13h 30m', '10h 55m', '12h 0m', '14h 0m', '24h 50m', '12h 40m', '2h 45m', '1h 30m', '4h 55m', '30h 55m', '2h 55m', '1h 30m', '2h 50m', '7h 35m', '3h 10m', '2h 45m', '24h 15m', '4h 30m', '9h 30m', '22h 5m', '29h 20m', '7h 30m', '5h 0m', '3h 0m', '1h 25m', '2h 40m', '2h 35m', '4h 45m', '7h 30m', '1h 25m', '23h 10m', '16h 50m', '1h 25m', '2h 45m', '3h 0m', '3h 0m', '9h 0m', '23h 10m', '38h 0m', '9h 50m', '6h 10m', '9h 30m', '12h 30m', '3h 15m', '4h 15m', '23h 40m', '3h 0m', '13h 30m', '2h 20m', '25h 10m', '2h 30m', '5h 5m', '5h 40m', '5h 50m', '9h 0m', '2h 25m', '7h 10m', '18h 15m', '1h 30m', '24h 50m', '2h 45m', '4h 25m', '11h 45m', '7h 30m', '6h 15m', '1h 30m', '1h 25m', '2h 50m', '28h 20m', '2h 20m', '13h 55m', '5h 5m', '10h 30m', '12h 20m', '1h 25m', '16h 10m', '2h 45m', '18h 45m', '4h 20m', '5h 15m', '2h 45m', '9h 30m', '1h 30m', '10h 35m', '10h 45m', '9h 5m', '2h 20m', '8h 0m', '20h 40m', '3h 0m', '13h 45m', '3h 5m', '5h 15m', '13h 30m', '8h 25m', '19h 25m', '13h 30m', '14h 35m', '20h 25m', '12h 10m', '15h 25m', '7h 50m', '15h 15m', '2h 55m', '6h 50m', '24h 10m', '23h 55m', '23h 35m', '14h 0m', '28h 50m', '3h 10m', '27h 35m', '7h 30m', '4h 55m', '11h 35m', '15h 10m', '23h 55m', '18h 20m', '22h 5m', '1h 30m', '22h 15m', '2h 55m', '24h 10m', '22h 0m', '7h 15m', '5h 15m', '23h 50m', '5h 20m', '14h 25m', '8h 0m', '17h 20m', '2h 55m', '2h 50m', '13h 55m', '10h 30m', '2h 50m', '2h 50m', '2h 50m', '13h 25m', '2h 45m', '12h 25m', '8h 15m', '27h 45m', '17h 55m', '2h 55m', '3h 40m', '15h 15m', '2h 45m', '12h 5m', '22h 0m', '12h 15m', '2h 20m', '10h 40m', '23h 25m', '6h 10m', '3h 0m', '7h 35m', '28h 0m', '5h 25m', '7h 15m', '12h 30m', '9h 0m', '15h 25m', '2h 35m', '8h 25m', '7h 15m', '15h 20m', '9h 50m', '1h 30m', '16h 45m', '2h 45m', '15h 20m', '2h 35m', '14h 30m', '2h 50m', '9h 10m', '18h 20m', '22h 55m', '1h 30m', '2h 45m', '15h 30m', '15h 20m', '3h 0m', '7h 40m', '10h 35m', '10h 45m', '10h 15m', '17h 10m', '12h 30m', '8h 0m', '11h 5m', '2h 55m', '1h 30m', '10h 55m', '2h 30m', '24h 20m', '2h 55m', '1h 30m', '13h 15m', '4h 40m', '13h 0m', '16h 0m', '17h 25m', '12h 10m', '9h 30m', '10h 0m', '1h 20m', '8h 0m', '5h 55m', '23h 40m', '24h 55m', '7h 30m', '26h 55m', '12h 10m', '6h 40m', '14h 20m', '5h 35m', '1h 30m', '2h 50m', '18h 30m', '9h 20m', '18h 10m', '2h 55m', '2h 50m', '8h 50m', '13h 20m', '29h 50m', '23h 50m', '5h 55m', '10h 25m', '10h 40m', '2h 50m', '7h 20m', '12h 15m', '9h 30m', '2h 35m', '13h 20m', '9h 30m', '10h 0m', '10h 30m', '28h 30m', '5h 35m', '3h 5m', '24h 40m', '13h 30m', '5h 50m', '12h 35m', '19h 40m', '27h 35m', '4h 35m', '10h 25m', '2h 40m', '1h 30m', '6h 30m', '2h 35m', '12h 10m', '2h 35m', '11h 5m', '9h 35m', '2h 35m', '1h 30m', '11h 0m', '6h 35m', '3h 15m', '26h 10m', '7h 40m', '27h 10m', '12h 30m', '12h 45m', '9h 40m', '26h 10m', '17h 35m', '24h 40m', '13h 10m', '15h 20m', '2h 35m', '11h 5m', '19h 20m', '2h 50m', '12h 0m', '23h 0m', '1h 30m', '8h 0m', '2h 50m', '4h 50m', '2h 50m', '2h 35m', '3h 0m', '2h 50m', '2h 20m', '17h 5m', '2h 50m', '1h 25m', '9h 50m', '1h 30m', '13h 20m', '15h 40m', '27h 0m', '3h 0m', '23h 55m', '9h 50m', '13h 20m', '8h 45m', '4h 55m', '7h 45m', '11h 5m', '2h 35m', '1h 30m', '12h 0m', '2h 50m', '15h 25m', '13h 15m', '1h 30m', '22h 5m', '11h 45m', '7h 30m', '15h 35m', '11h 0m', '9h 15m', '2h 30m', '22h 0m', '2h 40m', '14h 30m', '2h 50m', '2h 45m', '8h 0m', '2h 55m', '2h 35m', '25h 30m', '2h 35m', '7h 30m', '1h 30m', '2h 15m', '1h 30m', '7h 20m', '23h 35m', '9h 35m', '22h 55m', '3h 0m', '5h 0m', '27h 0m', '2h 35m', '20h 20m', '14h 55m', '19h 40m', '27h 20m', '5h 0m', '23h 25m', '14h 5m', '5h 35m', '1h 30m', '1h 25m', '17h 20m', '2h 30m', '25h 0m', '20h 25m', '2h 55m', '1h 25m', '7h 30m', '22h 55m', '9h 10m', '14h 45m', '2h 30m', '12h 25m', '2h 50m', '10h 50m', '17h 15m', '2h 20m', '5h 30m', '11h 30m', '2h 55m', '10h 40m', '14h 20m', '2h 50m', '1h 30m', '10h 0m', '2h 50m', '27h 20m', '23h 50m', '14h 35m', '17h 35m', '2h 45m', '2h 30m', '10h 25m', '8h 55m', '6h 5m', '13h 15m', '22h 30m', '2h 35m', '25h 30m', '2h 55m', '11h 55m', '2h 40m', '22h 30m', '2h 30m', '7h 40m', '2h 30m', '27h 5m', '8h 0m', '18h 20m', '6h 35m', '2h 55m', '11h 15m', '9h 25m', '26h 20m', '26h 55m', '24h 55m', '1h 30m', '10h 55m', '10h 55m', '2h 45m', '2h 25m', '8h 0m', '9h 35m', '29h 20m', '5h 30m', '22h 0m', '2h 15m', '12h 40m', '37h 25m', '23h 40m', '22h 15m', '17h 30m', '3h 0m', '10h 0m', '12h 10m', '9h 10m', '3h 15m', '12h 5m', '9h 35m', '14h 20m', '19h 15m', '15h 15m', '15h 20m', '21h 30m', '2h 30m', '2h 15m', '34h 25m', '1h 35m', '12h 15m', '12h 10m', '16h 55m', '22h 5m', '25h 45m', '7h 20m', '18h 35m', '12h 20m', '2h 45m', '15h 10m', '11h 25m', '26h 50m', '18h 10m', '7h 35m', '2h 25m', '21h 20m', '23h 30m', '2h 50m', '20h 0m', '2h 35m', '5h 35m', '12h 20m', '23h 30m', '16h 0m', '25h 50m', '2h 35m', '11h 30m', '3h 10m', '12h 40m', '2h 55m', '2h 45m', '26h 55m', '2h 50m', '23h 15m', '4h 55m', '29h 40m', '5h 20m', '3h 0m', '26h 20m', '13h 20m', '13h 30m', '2h 25m', '2h 35m', '2h 40m', '21h 10m', '6h 15m', '8h 5m', '26h 10m', '12h 45m', '2h 55m', '29h 35m', '2h 45m', '26h 5m', '2h 45m', '13h 0m', '2h 45m', '14h 25m', '2h 35m', '7h 30m', '2h 30m', '9h 25m', '2h 40m', '9h 10m', '8h 15m', '10h 50m', '11h 25m', '2h 55m', '29h 20m', '37h 20m', '10h 55m', '8h 10m', '20h 0m', '2h 45m', '29h 5m', '12h 5m', '9h 50m', '2h 50m', '2h 20m', '2h 50m', '9h 10m', '15h 45m', '38h 15m', '2h 50m', '12h 30m', '2h 45m', '22h 55m', '24h 0m', '27h 0m', '23h 50m', '23h 15m', '2h 35m', '14h 50m', '16h 50m', '27h 25m', '2h 35m', '20h 10m', '2h 50m', '5h 35m', '18h 20m', '7h 0m', '5h 30m', '18h 0m', '2h 20m', '13h 15m', '22h 55m', '27h 20m', '21h 35m', '27h 35m', '1h 25m', '21h 55m', '2h 50m', '2h 20m', '15h 55m', '12h 20m', '8h 0m', '11h 15m', '3h 15m', '16h 5m', '26h 20m', '2h 50m', '6h 5m', '3h 40m', '7h 55m', '1h 30m', '5h 35m', '28h 20m', '19h 5m', '13h 50m', '25h 40m', '27h 40m', '2h 55m', '21h 10m', '5h 25m', '2h 20m', '7h 40m', '8h 25m', '2h 30m', '1h 20m', '19h 25m', '2h 50m', '3h 0m', '6h 35m', '16h 35m', '21h 15m', '2h 55m', '38h 0m', '11h 15m', '22h 5m', '6h 30m', '1h 30m', '20h 45m', '1h 30m', '6h 40m', '5h 5m', '7h 5m', '11h 55m', '1h 30m', '14h 50m', '8h 40m', '27h 10m', '2h 20m', '2h 55m', '9h 50m', '2h 45m', '14h 5m', '12h 0m', '9h 30m', '2h 50m', '11h 45m', '6h 0m', '11h 55m', '12h 10m', '2h 50m', '10h 25m', '12h 45m', '21h 5m', '9h 30m', '8h 40m', '9h 15m', '21h 55m', '23h 50m', '9h 0m', '23h 15m', '9h 15m', '5h 35m', '2h 15m', '9h 30m', '8h 40m', '2h 45m', '25h 20m', '2h 50m', '3h 0m', '3h 0m', '2h 45m', '16h 35m', '26h 20m', '16h 15m', '6h 5m', '16h 10m', '2h 25m', '2h 50m', '11h 30m', '2h 50m', '23h 40m', '27h 0m', '3h 15m', '11h 30m', '2h 30m', '2h 45m', '10h 0m', '5h 15m', '23h 5m', '2h 50m', '12h 20m', '9h 45m', '8h 35m', '2h 45m', '1h 30m', '18h 25m', '2h 45m', '2h 30m', '6h 35m', '13h 30m', '11h 5m', '26h 10m', '5h 45m', '7h 35m', '6h 45m', '2h 45m', '12h 40m', '7h 15m', '11h 40m', '2h 15m', '12h 45m', '2h 50m', '1h 25m', '18h 0m', '2h 45m', '12h 55m', '15h 0m', '1h 15m', '24h 40m', '1h 30m', '13h 30m', '2h 55m', '2h 25m', '20h 10m', '12h 10m', '12h 15m', '24h 30m', '8h 30m', '1h 30m', '3h 15m', '2h 35m', '2h 30m', '13h 20m', '15h 35m', '5h 0m', '2h 50m', '2h 35m', '12h 0m', '2h 50m', '14h 20m', '9h 5m', '12h 25m', '25h 0m', '12h 10m', '12h 0m', '12h 5m', '12h 45m', '2h 35m', '2h 25m', '22h 55m', '5h 10m', '9h 45m', '3h 5m', '10h 0m', '10h 20m', '26h 10m', '12h 5m', '23h 10m', '2h 35m', '17h 5m', '2h 50m', '16h 30m', '11h 25m', '10h 0m', '13h 20m', '7h 30m', '16h 5m', '8h 20m', '27h 0m', '8h 25m', '2h 35m', '11h 30m', '2h 55m', '2h 55m', '2h 50m', '25h 50m', '1h 30m', '27h 5m', '24h 40m', '12h 30m', '26h 10m', '3h 5m', '3h 15m', '2h 55m', '21h 15m', '17h 25m', '21h 55m', '25h 20m', '14h 25m', '16h 50m', '3h 15m', '12h 15m', '1h 30m', '3h 0m', '2h 55m', '2h 30m', '24h 45m', '2h 20m', '8h 25m', '14h 50m', '2h 35m', '1h 25m', '2h 35m', '14h 5m', '25h 15m', '20h 20m', '8h 20m', '29h 20m', '9h 45m', '1h 20m', '27h 0m', '15h 40m', '5h 30m', '7h 30m', '2h 35m', '19h 25m', '2h 50m', '14h 35m', '8h 40m', '15h 25m', '28h 20m', '1h 30m', '13h 25m', '23h 30m', '10h 35m', '1h 25m', '18h 30m', '24h 50m', '5h 40m', '1h 30m', '15h 0m', '27h 20m', '12h 40m', '23h 0m', '2h 45m', '2h 45m', '2h 45m', '2h 50m', '6h 30m', '2h 45m', '2h 55m', '23h 55m', '25h 25m', '2h 50m', '14h 30m', '7h 15m', '22h 45m', '26h 55m', '2h 45m', '4h 45m', '10h 20m', '7h 45m', '7h 15m', '22h 30m', '7h 45m', '1h 20m', '2h 35m', '7h 55m', '12h 20m', '13h 0m', '17h 45m', '17h 5m', '2h 40m', '2h 45m', '5h 35m', '5h 40m', '9h 30m', '2h 15m', '17h 5m', '8h 25m', '16h 35m', '15h 10m', '26h 5m', '2h 55m', '5h 30m', '3h 5m', '1h 30m', '11h 10m', '2h 30m', '8h 10m', '24h 55m', '2h 40m', '12h 10m', '21h 35m', '34h 25m', '2h 55m', '14h 55m', '3h 0m', '6h 15m', '23h 30m', '2h 55m', '10h 25m', '2h 50m', '4h 40m', '6h 5m', '2h 25m', '14h 25m', '2h 45m', '27h 40m', '10h 0m', '22h 45m', '14h 20m', '15h 25m', '15h 0m', '16h 5m', '2h 55m', '15h 40m', '21h 15m', '1h 35m', '2h 45m', '6h 0m', '13h 20m', '4h 55m', '2h 40m', '9h 30m', '1h 20m', '3h 0m', '24h 35m', '2h 35m', '12h 10m', '15h 10m', '2h 40m', '1h 30m', '24h 55m', '7h 35m', '18h 45m', '6h 5m', '11h 5m', '9h 40m', '13h 30m', '14h 25m', '6h 25m', '2h 50m', '5h 55m', '14h 25m', '13h 20m', '6h 30m', '22h 35m', '11h 0m', '7h 45m', '2h 50m', '2h 20m', '6h 20m', '2h 30m', '10h 0m', '12h 5m', '2h 40m', '7h 45m', '17h 5m', '8h 40m', '2h 20m', '7h 20m', '18h 0m', '13h 20m', '11h 45m', '2h 40m', '12h 30m', '12h 35m', '3h 0m', '10h 15m', '2h 50m', '7h 55m', '10h 15m', '15h 30m', '3h 5m', '2h 25m', '2h 35m', '11h 30m', '13h 25m', '2h 35m', '14h 30m', '23h 25m', '2h 25m', '5h 30m', '17h 25m', '7h 50m', '26h 50m', '16h 45m', '2h 45m', '28h 5m', '14h 20m', '9h 45m', '2h 20m', '14h 25m', '3h 15m', '3h 0m', '5h 5m', '8h 5m', '10h 0m', '1h 30m', '20h 10m', '14h 25m', '26h 0m', '19h 0m', '18h 25m', '15h 30m', '5h 30m', '9h 30m', '14h 35m', '21h 25m', '9h 25m', '14h 25m', '5h 55m', '1h 30m', '2h 45m', '20h 45m', '13h 30m', '28h 55m', '4h 30m', '29h 5m', '12h 45m', '5h 5m', '18h 20m', '22h 35m', '4h 25m', '9h 40m', '10h 0m', '16h 50m', '5h 40m', '2h 50m', '2h 30m', '11h 30m', '10h 30m', '15h 20m', '9h 50m', '13h 20m', '23h 10m', '2h 20m', '25h 5m', '2h 35m', '2h 55m', '13h 10m', '2h 20m', '8h 35m', '14h 20m', '8h 0m', '2h 50m', '29h 10m', '1h 25m', '2h 55m', '5h 25m', '2h 50m', '2h 50m', '2h 20m', '8h 55m', '5h 15m', '11h 25m', '2h 55m', '2h 50m', '8h 30m', '3h 40m', '23h 45m', '13h 30m', '1h 30m', '26h 35m', '22h 55m', '34h 0m', '8h 0m', '14h 25m', '15h 25m', '2h 35m', '9h 25m', '2h 35m', '2h 50m', '2h 50m', '28h 25m', '1h 30m', '25h 5m', '14h 30m', '22h 30m', '7h 5m', '1h 30m', '18h 15m', '7h 15m', '17h 30m', '8h 55m', '2h 50m', '20h 35m', '20h 0m', '8h 10m', '17h 5m', '9h 15m', '2h 25m', '8h 25m', '13h 30m', '2h 50m', '6h 0m', '18h 25m', '14h 5m', '22h 30m', '25h 30m', '1h 30m', '2h 25m', '15h 35m', '2h 20m', '26h 15m', '3h 5m', '2h 35m', '13h 0m', '18h 45m', '3h 0m', '11h 25m', '11h 45m', '1h 30m', '22h 5m', '27h 45m', '15h 40m', '2h 30m', '24h 35m', '1h 30m', '5h 10m', '5h 25m', '13h 20m', '8h 35m', '1h 25m', '3h 0m', '10h 30m', '3h 0m', '2h 30m', '12h 5m', '22h 10m', '22h 10m', '3h 15m', '6h 20m', '24h 30m', '4h 15m', '6h 35m', '14h 50m', '2h 50m', '8h 25m', '2h 35m', '12h 0m', '18h 45m', '25h 25m', '8h 30m', '2h 55m', '20h 0m', '24h 45m', '8h 40m', '6h 5m', '10h 55m', '14h 5m', '18h 50m', '2h 30m', '7h 40m', '7h 15m', '3h 5m', '10h 25m', '2h 50m', '9h 10m', '11h 40m', '13h 50m', '2h 15m', '2h 30m', '5h 40m', '16h 15m', '2h 55m', '2h 45m', '9h 0m', '14h 25m', '15h 20m', '9h 30m', '2h 30m', '25h 50m', '30h 20m', '2h 55m', '1h 30m', '15h 40m', '20h 25m', '22h 5m', '3h 5m', '20h 15m', '21h 40m', '7h 35m', '6h 35m', '3h 0m', '23h 40m', '1h 30m', '9h 5m', '5h 25m', '9h 5m', '1h 30m', '21h 10m', '2h 30m', '24h 45m', '2h 45m', '16h 0m', '21h 40m', '2h 45m', '7h 5m', '15h 5m', '7h 20m', '2h 40m', '2h 35m', '25h 45m', '2h 20m', '2h 25m', '2h 45m', '27h 45m', '16h 15m', '2h 35m', '28h 50m', '9h 50m', '5h 15m', '25h 45m', '21h 20m', '2h 20m', '17h 5m', '10h 55m', '9h 10m', '16h 35m', '22h 5m', '2h 45m', '2h 40m', '8h 10m', '26h 0m', '12h 55m', '1h 25m', '2h 55m', '10h 55m', '2h 30m', '9h 25m', '13h 0m', '29h 20m', '11h 0m', '2h 55m', '11h 20m', '8h 20m', '27h 20m', '30h 40m', '25h 15m', '8h 35m', '15h 10m', '2h 20m', '1h 30m', '15h 5m', '7h 40m', '29h 5m', '12h 15m', '23h 50m', '28h 50m', '7h 35m', '10h 30m', '2h 50m', '21h 25m', '16h 5m', '3h 0m', '13h 45m', '9h 20m', '27h 20m', '12h 0m', '2h 55m', '12h 15m', '2h 55m', '24h 0m', '2h 45m', '2h 55m', '4h 55m', '7h 20m', '4h 55m', '23h 35m', '7h 15m', '1h 30m', '2h 30m', '4h 35m', '16h 20m', '2h 50m', '28h 55m', '15h 5m', '3h 0m', '2h 55m', '27h 10m', '2h 45m', '1h 25m', '5h 45m', '12h 15m', '3h 35m', '7h 30m', '15h 25m', '25h 20m', '2h 50m', '4h 50m', '16h 55m', '15h 25m', '10h 25m', '6h 15m', '8h 0m', '7h 5m', '1h 30m', '5h 55m', '9h 30m', '8h 40m', '18h 20m', '19h 40m', '22h 10m', '12h 45m', '23h 15m', '11h 0m', '2h 55m', '1h 30m', '15h 25m', '2h 15m', '2h 35m', '2h 45m', '21h 30m', '22h 55m', '18h 10m', '2h 20m', '14h 5m', '2h 45m', '25h 50m', '2h 30m', '2h 30m', '2h 50m', '14h 30m', '8h 55m', '2h 40m', '2h 25m', '2h 50m', '6h 25m', '10h 20m', '15h 40m', '11h 25m', '15h 10m', '23h 35m', '2h 20m', '2h 40m', '20h 20m', '8h 30m', '2h 15m', '6h 15m', '26h 50m', '30h 45m', '5h 0m', '27h 20m', '6h 25m', '2h 45m', '2h 50m', '5h 15m', '22h 55m', '14h 45m', '16h 45m', '18h 25m', '16h 35m', '2h 35m', '7h 50m', '12h 40m', '1h 25m', '19h 45m', '16h 55m', '2h 50m', '14h 15m', '27h 35m', '1h 30m', '22h 55m', '12h 20m', '2h 45m', '8h 40m', '2h 35m', '22h 5m', '24h 0m', '36h 10m', '14h 0m', '16h 50m', '27h 5m', '7h 15m', '20h 55m', '5h 0m', '7h 0m', '2h 30m', '5h 15m', '10h 50m', '5h 15m', '20h 55m', '8h 40m', '2h 15m', '12h 0m', '6h 15m', '8h 40m', '14h 10m', '32h 55m', '2h 50m', '6h 25m', '2h 30m', '2h 30m', '10h 40m', '19h 55m', '8h 40m', '11h 0m', '10h 5m', '4h 55m', '30h 55m', '11h 25m', '26h 35m', '3h 5m', '14h 35m', '2h 25m', '4h 50m', '3h 0m', '11h 30m', '35h 20m', '2h 40m', '28h 50m', '2h 35m', '2h 55m', '17h 25m', '14h 50m', '10h 30m', '5h 35m', '1h 30m', '2h 30m', '8h 55m', '1h 30m', '4h 30m', '12h 15m', '9h 30m', '14h 25m', '27h 20m', '26h 55m', '13h 30m', '12h 5m', '2h 30m', '22h 55m', '15h 40m', '5h 0m', '14h 5m', '2h 55m', '23h 15m', '21h 15m', '2h 55m', '2h 55m', '25h 50m', '5h 25m', '3h 0m', '3h 0m', '2h 40m', '17h 20m', '3h 10m', '8h 30m', '12h 5m', '8h 20m', '15h 0m', '13h 10m', '8h 30m', '26h 55m', '1h 30m', '25h 0m', '2h 55m', '9h 0m', '26h 20m', '1h 20m', '13h 30m', '9h 30m', '2h 30m', '1h 30m', '17h 45m', '11h 25m', '23h 35m', '2h 50m', '2h 55m', '2h 25m', '3h 15m', '5h 55m', '6h 10m', '18h 20m', '26h 10m', '21h 35m', '21h 15m', '23h 20m', '5h 30m', '3h 15m', '5h 55m', '13h 25m', '2h 35m', '26h 35m', '13h 15m', '2h 15m', '2h 30m', '2h 35m', '7h 40m', '2h 40m', '1h 30m', '2h 35m', '23h 30m', '6h 10m', '5h 30m', '1h 30m', '3h 10m', '13h 55m', '2h 50m', '7h 35m', '7h 55m', '2h 25m', '1h 30m', '9h 0m', '14h 35m', '11h 15m', '3h 0m', '2h 35m', '23h 40m', '4h 40m', '21h 15m', '23h 5m', '2h 55m', '8h 45m', '19h 55m', '2h 45m', '12h 35m', '2h 45m', '16h 10m', '30h 30m', '4h 40m', '27h 35m', '12h 45m', '11h 5m', '3h 0m', '11h 30m', '2h 50m', '20h 0m', '10h 10m', '2h 30m', '13h 10m', '2h 45m', '6h 40m', '27h 0m', '23h 45m', '5h 20m', '12h 30m', '27h 35m', '7h 35m', '11h 45m', '13h 30m', '3h 0m', '27h 40m', '7h 30m', '9h 30m', '13h 30m', '3h 5m', '20h 10m', '10h 15m', '9h 15m', '14h 25m', '8h 25m', '14h 50m', '2h 40m', '8h 30m', '2h 50m', '2h 45m', '23h 15m', '16h 50m', '2h 30m', '1h 25m', '6h 35m', '14h 25m', '12h 25m', '2h 20m', '1h 30m', '10h 40m', '1h 30m', '27h 10m', '12h 25m', '8h 50m', '2h 50m', '24h 0m', '20h 55m', '6h 5m', '12h 15m', '2h 30m', '2h 35m', '12h 30m', '12h 35m', '16h 5m', '21h 15m', '2h 20m', '2h 30m', '12h 15m', '23h 50m', '2h 50m', '23h 10m', '8h 5m', '10h 40m', '2h 30m', '7h 15m', '1h 30m', '10h 30m', '23h 15m', '2h 30m', '5h 0m', '25h 5m', '9h 45m', '2h 25m', '15h 25m', '13h 30m', '20h 15m', '15h 30m', '15h 0m', '21h 30m', '7h 5m', '2h 55m', '28h 20m', '2h 30m', '18h 10m', '21h 15m', '11h 5m', '10h 40m', '10h 0m', '4h 50m', '5h 30m', '13h 20m', '9h 30m', '26h 45m', '9h 15m', '1h 15m', '7h 35m', '1h 30m', '2h 50m', '5h 10m', '1h 30m', '2h 55m', '16h 45m', '2h 20m', '19h 55m', '3h 5m', '2h 55m', '2h 55m', '26h 0m', '2h 55m', '15h 25m', '11h 5m', '1h 30m', '16h 15m', '6h 20m', '26h 55m', '20h 45m', '24h 45m', '5h 45m', '9h 45m', '2h 40m', '5h 35m', '2h 45m', '3h 0m', '2h 35m', '24h 35m', '2h 35m', '2h 40m', '20h 20m', '2h 35m', '3h 0m', '6h 15m', '2h 20m', '2h 20m', '10h 40m', '8h 30m', '1h 30m', '15h 50m', '2h 30m', '12h 0m', '1h 30m', '21h 35m', '2h 45m', '26h 15m', '2h 50m', '1h 25m', '3h 0m', '2h 30m', '7h 30m', '2h 20m', '10h 30m', '2h 50m', '2h 45m', '14h 0m', '2h 50m', '1h 30m', '27h 35m', '6h 35m', '11h 40m', '2h 55m', '11h 50m', '9h 50m', '26h 50m', '2h 45m', '4h 55m', '2h 45m', '13h 10m', '27h 10m', '2h 45m', '15h 50m', '8h 25m', '2h 20m', '14h 5m', '2h 50m', '16h 20m', '25h 10m', '2h 50m', '38h 20m', '11h 5m', '2h 55m', '19h 55m', '15h 45m', '9h 15m', '2h 35m', '4h 55m', '13h 15m', '26h 0m', '18h 30m', '9h 0m', '27h 35m', '19h 15m', '11h 45m', '22h 55m', '8h 10m', '6h 55m', '12h 45m', '2h 35m', '2h 50m', '10h 15m', '3h 0m', '12h 30m', '4h 50m', '38h 0m', '13h 20m', '12h 45m', '26h 35m', '16h 40m', '2h 50m', '4h 15m', '2h 45m', '1h 30m', '2h 35m', '7h 30m', '29h 20m', '23h 0m', '2h 45m', '12h 10m', '7h 5m', '2h 40m', '15h 40m', '7h 45m', '5h 45m', '2h 30m', '10h 10m', '12h 10m', '1h 30m', '2h 50m', '12h 15m', '1h 30m', '9h 10m', '22h 5m', '10h 0m', '6h 15m', '2h 55m', '2h 35m', '9h 50m', '23h 50m', '5h 45m', '8h 15m', '10h 25m', '14h 15m', '13h 20m', '2h 45m', '34h 0m', '7h 5m', '8h 55m', '15h 30m', '11h 50m', '1h 30m', '9h 15m', '15h 30m', '3h 0m', '7h 30m', '2h 35m', '2h 35m', '14h 30m', '6h 15m', '10h 30m', '2h 50m', '7h 5m', '13h 10m', '13h 15m', '7h 15m', '26h 0m', '11h 0m', '24h 45m', '2h 35m', '27h 35m', '14h 25m', '20h 10m', '2h 45m', '12h 20m', '2h 15m', '8h 50m', '26h 10m', '2h 45m', '1h 25m', '10h 0m', '1h 30m', '5h 15m', '2h 50m', '20h 20m', '6h 35m', '12h 35m', '2h 35m', '2h 20m', '11h 45m', '2h 50m', '2h 20m', '1h 30m', '2h 20m', '1h 30m', '22h 5m', '7h 15m', '9h 15m', '27h 10m', '12h 45m', '4h 30m', '2h 55m', '14h 30m', '12h 10m', '22h 25m', '9h 10m', '10h 0m', '1h 30m', '2h 30m', '5h 30m', '12h 45m', '15h 10m', '23h 20m', '2h 20m', '8h 0m', '11h 15m', '19h 0m', '10h 0m', '2h 35m', '5h 15m', '8h 5m', '2h 15m', '11h 30m', '33h 15m', '1h 30m', '13h 5m', '2h 55m', '2h 55m', '2h 35m', '22h 55m', '21h 5m', '5h 10m', '13h 30m', '12h 15m', '2h 40m', '19h 35m', '28h 50m', '2h 35m', '18h 20m', '24h 10m', '2h 50m', '26h 50m', '2h 15m', '2h 55m', '24h 30m', '14h 10m', '22h 45m', '16h 35m', '5h 20m', '8h 30m', '9h 50m', '8h 40m', '21h 40m', '7h 30m', '13h 45m', '1h 30m', '38h 15m', '1h 30m', '16h 5m', '15h 10m', '20h 10m', '10h 55m', '5h 40m', '2h 45m', '2h 45m', '18h 20m', '13h 50m', '7h 35m', '23h 15m', '13h 20m', '23h 20m', '19h 25m', '13h 30m', '2h 30m', '23h 15m', '2h 20m', '1h 15m', '3h 10m', '11h 30m', '4h 50m', '22h 0m', '20h 15m', '11h 15m', '12h 45m', '12h 30m', '11h 30m', '17h 15m', '5h 0m', '1h 30m', '7h 35m', '2h 55m', '7h 25m', '5h 55m', '15h 45m', '11h 30m', '9h 45m', '12h 30m', '5h 0m', '22h 0m', '22h 5m', '16h 55m', '1h 25m', '2h 45m', '10h 0m', '1h 20m', '14h 25m', '18h 0m', '4h 55m', '7h 30m', '7h 55m', '2h 30m', '9h 45m', '2h 45m', '7h 5m', '9h 30m', '1h 30m', '15h 0m', '17h 5m', '24h 20m', '12h 30m', '24h 40m', '3h 5m', '2h 25m', '2h 45m', '7h 30m', '1h 30m', '4h 55m', '2h 45m', '8h 40m', '28h 50m', '7h 15m', '20h 15m', '2h 50m', '12h 45m', '30h 40m', '4h 5m', '10h 15m', '38h 15m', '21h 35m', '15h 25m', '2h 20m', '5h 20m', '2h 50m', '22h 45m', '2h 50m', '25h 50m', '6h 30m', '2h 25m', '14h 35m', '2h 55m', '12h 40m', '2h 15m', '9h 35m', '17h 20m', '11h 50m', '2h 55m', '1h 25m', '16h 55m', '2h 20m', '2h 55m', '9h 30m', '2h 40m', '7h 15m', '4h 55m', '19h 10m', '10h 45m', '22h 15m', '13h 20m', '10h 35m', '7h 15m', '18h 25m', '15h 40m', '7h 35m', '2h 40m', '16h 45m', '5h 35m', '11h 0m', '2h 45m', '7h 55m', '9h 30m', '5h 45m', '29h 20m', '1h 30m', '7h 5m', '4h 40m', '1h 25m', '26h 55m', '26h 30m', '1h 30m', '2h 45m', '3h 0m', '3h 0m', '2h 50m', '30h 30m', '2h 50m', '20h 45m', '22h 30m', '2h 50m', '26h 0m', '16h 25m', '9h 20m', '7h 5m', '24h 35m', '2h 20m', '22h 10m', '7h 35m', '26h 0m', '16h 5m', '38h 0m', '13h 15m', '10h 40m', '2h 50m', '16h 10m', '13h 20m', '6h 30m', '1h 30m', '10h 25m', '12h 45m', '32h 5m', '8h 15m', '3h 0m', '18h 45m', '29h 20m', '31h 40m', '2h 50m', '2h 55m', '28h 50m', '1h 15m', '18h 20m', '12h 15m', '2h 25m', '3h 0m', '33h 15m', '2h 50m', '14h 0m', '7h 50m', '7h 35m', '21h 15m', '2h 50m', '2h 40m', '25h 5m', '7h 35m', '7h 30m', '9h 15m', '2h 35m', '1h 30m', '8h 0m', '2h 30m', '15h 20m', '5h 50m', '2h 25m', '26h 10m', '2h 40m', '21h 20m', '2h 50m', '3h 0m', '4h 50m', '7h 45m', '10h 45m', '3h 0m', '9h 50m', '10h 0m', '6h 55m', '18h 30m', '2h 40m', '20h 10m', '2h 25m', '23h 15m', '11h 15m', '5h 30m', '10h 15m', '22h 55m', '1h 30m', '9h 0m', '16h 20m', '12h 15m', '6h 20m', '7h 20m', '1h 30m', '15h 15m', '1h 20m', '5h 30m', '9h 35m', '8h 55m', '2h 50m', '12h 20m', '23h 50m', '16h 55m', '2h 55m', '16h 5m', '23h 15m', '14h 25m', '1h 30m', '13h 20m', '3h 5m', '28h 50m', '14h 40m', '2h 45m', '5h 50m', '9h 5m', '1h 30m', '23h 30m', '8h 40m', '14h 20m', '2h 15m', '2h 45m', '5h 20m', '3h 0m', '5h 20m', '2h 50m', '2h 15m', '2h 55m', '8h 0m', '25h 40m', '23h 45m', '22h 35m', '8h 40m', '23h 40m', '7h 50m', '4h 50m', '2h 55m', '30h 40m', '14h 55m', '27h 20m', '23h 35m', '9h 0m', '20h 55m', '20h 10m', '14h 25m', '7h 35m', '7h 0m', '2h 55m', '1h 30m', '1h 25m', '9h 50m', '7h 20m', '14h 30m', '9h 50m', '2h 35m', '8h 0m', '2h 30m', '5h 20m', '2h 25m', '14h 55m', '25h 45m', '23h 50m', '10h 30m', '2h 55m', '6h 15m', '16h 10m', '23h 0m', '23h 20m', '7h 30m', '1h 30m', '14h 0m', '7h 5m', '2h 55m', '12h 15m', '2h 45m', '20h 15m', '27h 5m', '20h 15m', '2h 45m', '11h 45m', '1h 25m', '2h 45m', '3h 0m', '11h 0m', '24h 55m', '26h 35m', '23h 40m', '23h 35m', '25h 45m', '2h 45m', '1h 25m', '19h 15m', '15h 30m', '24h 30m', '13h 20m', '7h 35m', '2h 45m', '2h 50m', '10h 10m', '30h 30m', '2h 50m', '8h 25m', '1h 30m', '12h 25m', '24h 55m', '2h 35m', '21h 15m', '22h 55m', '2h 35m', '3h 0m', '8h 55m', '22h 30m', '1h 30m', '9h 5m', '21h 25m', '2h 40m', '13h 30m', '6h 25m', '20h 55m', '10h 10m', '26h 30m', '10h 15m', '7h 20m', '10h 45m', '7h 5m', '2h 20m', '12h 0m', '20h 20m', '11h 0m', '13h 50m', '9h 0m', '7h 50m', '16h 5m', '9h 0m', '12h 40m', '3h 5m', '1h 30m', '11h 15m', '12h 25m', '12h 20m', '2h 25m', '15h 35m', '2h 50m', '5h 5m', '6h 35m', '7h 5m', '2h 50m', '13h 30m', '2h 50m', '3h 0m', '33h 15m', '23h 10m', '2h 55m', '6h 30m', '2h 30m', '2h 55m', '10h 45m', '23h 40m', '2h 35m', '9h 0m', '1h 30m', '1h 35m', '11h 45m', '2h 55m', '15h 30m', '27h 35m', '2h 50m', '5h 15m', '14h 35m', '2h 40m', '7h 30m', '2h 50m', '1h 30m', '6h 35m', '2h 35m', '11h 40m', '2h 50m', '2h 45m', '5h 0m', '7h 15m', '8h 35m', '3h 0m', '17h 5m', '11h 0m', '3h 10m', '5h 20m', '9h 0m', '6h 30m', '15h 25m', '2h 45m', '6h 30m', '16h 5m', '12h 15m', '25h 30m', '12h 35m', '27h 45m', '6h 15m', '2h 55m', '6h 10m', '2h 40m', '7h 30m', '5h 20m', '22h 25m', '26h 30m', '3h 0m', '2h 40m', '7h 45m', '25h 5m', '9h 20m', '3h 5m', '9h 45m', '25h 35m', '2h 40m', '5h 15m', '24h 55m', '1h 30m', '2h 50m', '2h 15m', '26h 55m', '2h 15m', '24h 30m', '10h 15m', '5h 25m', '10h 20m', '7h 5m', '3h 0m', '23h 5m', '24h 50m', '12h 45m', '22h 10m', '8h 10m', '2h 30m', '9h 20m', '6h 5m', '24h 35m', '3h 0m', '11h 15m', '8h 25m', '2h 40m', '20h 20m', '1h 30m', '30h 20m', '15h 30m', '2h 45m', '7h 0m', '3h 5m', '7h 35m', '2h 50m', '13h 55m', '23h 45m', '2h 45m', '10h 15m', '10h 5m', '12h 45m', '2h 35m', '2h 50m', '14h 45m', '7h 20m', '23h 10m', '2h 20m', '5h 30m', '13h 45m', '2h 20m', '1h 30m', '2h 20m', '2h 55m', '12h 45m', '2h 20m', '24h 45m', '38h 0m', '4h 55m', '11h 45m', '11h 45m', '3h 10m', '2h 50m', '2h 35m', '6h 35m', '1h 20m', '2h 15m', '23h 40m', '5h 0m', '2h 40m', '23h 40m', '12h 10m', '7h 35m', '29h 20m', '2h 55m', '13h 20m', '12h 25m', '1h 20m', '28h 15m', '5h 20m', '1h 20m', '7h 5m', '1h 30m', '23h 20m', '2h 50m', '11h 30m', '2h 45m', '2h 35m', '7h 5m', '3h 15m', '2h 45m', '14h 30m', '28h 20m', '2h 50m', '2h 30m', '9h 50m', '6h 20m', '7h 0m', '2h 35m', '2h 40m', '8h 40m', '2h 40m', '10h 25m', '2h 25m', '13h 55m', '2h 35m', '2h 30m', '2h 30m', '25h 20m', '13h 0m', '5h 10m', '13h 20m', '4h 55m', '10h 35m', '18h 20m', '16h 5m', '7h 30m', '25h 5m', '11h 0m', '14h 35m', '1h 25m', '19h 55m', '2h 25m', '2h 55m', '5h 40m', '12h 10m', '11h 45m', '10h 15m', '1h 30m', '11h 35m', '2h 20m', '7h 20m', '6h 25m', '3h 0m', '11h 0m', '14h 30m', '12h 20m', '13h 15m', '11h 0m', '2h 45m', '25h 30m', '12h 0m', '15h 25m', '1h 25m', '7h 15m', '2h 35m', '16h 35m', '2h 55m', '1h 30m', '10h 45m', '7h 45m', '4h 45m', '12h 15m', '19h 25m', '2h 35m', '27h 20m', '2h 20m', '10h 30m', '25h 5m', '11h 15m', '24h 50m', '19h 50m', '2h 15m', '5h 10m', '29h 5m', '26h 0m', '9h 30m', '2h 35m', '2h 15m', '15h 55m', '2h 15m', '16h 5m', '23h 50m', '4h 50m', '16h 45m', '2h 20m', '15h 0m', '14h 5m', '13h 20m', '12h 30m', '7h 15m', '3h 5m', '2h 50m', '2h 55m', '2h 35m', '27h 35m', '1h 20m', '19h 55m', '3h 0m', '1h 30m', '14h 45m', '8h 35m', '19h 25m', '26h 35m', '5h 0m', '4h 50m', '7h 20m', '27h 45m', '3h 0m', '2h 50m', '2h 45m', '8h 35m', '3h 0m', '8h 5m', '2h 50m', '8h 30m', '11h 5m', '4h 30m', '2h 50m', '33h 45m', '2h 50m', '24h 45m', '30h 10m', '27h 5m', '15h 20m', '26h 10m', '21h 15m', '1h 30m', '17h 25m', '16h 45m', '3h 15m', '10h 20m', '10h 20m', '2h 35m', '2h 55m', '9h 35m', '7h 15m', '8h 55m', '2h 55m', '14h 5m', '18h 45m', '2h 35m', '2h 45m', '14h 10m', '1h 30m', '2h 35m', '2h 55m', '7h 20m', '11h 50m', '1h 20m', '7h 30m', '9h 20m', '24h 50m', '21h 15m', '24h 50m', '18h 20m', '2h 20m', '7h 25m', '2h 50m', '38h 0m', '1h 25m', '2h 40m', '3h 5m', '29h 55m', '2h 30m', '8h 0m', '14h 35m', '5h 15m', '1h 30m', '2h 45m', '2h 55m', '15h 55m', '2h 55m', '8h 25m', '7h 0m', '2h 50m', '21h 45m', '3h 5m', '11h 5m', '4h 55m', '23h 35m', '5h 15m', '22h 55m', '3h 15m', '21h 20m', '7h 30m', '1h 25m', '28h 50m', '10h 20m', '16h 40m', '7h 5m', '7h 20m', '2h 55m', '24h 35m', '24h 50m', '7h 35m', '11h 0m', '16h 15m', '14h 50m', '9h 50m', '13h 20m', '8h 25m', '27h 35m', '1h 30m', '2h 50m', '13h 15m', '25h 55m', '2h 35m', '22h 15m', '13h 40m', '10h 25m', '2h 50m', '15h 25m', '2h 50m', '22h 0m', '8h 25m', '25h 55m', '9h 30m', '12h 0m', '9h 45m', '23h 45m', '3h 15m', '15h 0m', '21h 25m', '8h 35m', '25h 20m', '21h 0m', '17h 35m', '1h 30m', '10h 50m', '23h 45m', '11h 25m', '2h 30m', '6h 35m', '2h 40m', '2h 25m', '13h 10m', '26h 35m', '1h 25m', '15h 30m', '14h 15m', '22h 0m', '10h 25m', '10h 25m', '14h 25m', '27h 0m', '8h 35m', '8h 0m', '12h 20m', '26h 35m', '3h 10m', '23h 50m', '25h 15m', '2h 20m', '28h 25m', '21h 30m', '12h 10m', '2h 50m', '22h 35m', '6h 15m', '2h 30m', '10h 55m', '13h 10m', '11h 45m', '9h 25m', '14h 15m', '12h 25m', '13h 30m', '20h 20m', '8h 10m', '16h 45m', '1h 30m', '2h 30m', '12h 10m', '6h 55m', '12h 40m', '3h 40m', '2h 40m', '21h 55m', '9h 50m', '2h 35m', '2h 45m', '1h 25m', '11h 45m', '6h 30m', '12h 5m', '16h 15m', '15h 10m', '19h 30m', '35h 5m', '29h 50m', '9h 40m', '11h 15m', '5h 45m', '21h 45m', '8h 55m', '13h 25m', '5h 30m', '2h 50m', '3h 0m', '9h 30m', '2h 45m', '24h 30m', '2h 50m', '2h 55m', '19h 5m', '2h 50m', '2h 30m', '7h 55m', '2h 50m', '1h 15m', '7h 45m', '3h 0m', '2h 45m', '19h 25m', '24h 10m', '4h 55m', '25h 0m', '2h 15m', '14h 10m', '8h 0m', '7h 50m', '2h 45m', '2h 30m', '16h 15m', '15h 40m', '18h 20m', '16h 15m', '19h 5m', '9h 30m', '5h 0m', '19h 15m', '27h 35m', '14h 35m', '4h 40m', '13h 25m', '7h 35m', '14h 0m', '2h 45m', '18h 25m', '21h 25m', '6h 35m', '11h 0m', '1h 30m', '5h 20m', '3h 0m', '28h 5m', '2h 40m', '2h 15m', '1h 15m', '24h 15m', '9h 20m', '2h 40m', '3h 0m', '3h 0m', '2h 45m', '5h 45m', '15h 0m', '23h 50m', '2h 50m', '16h 5m', '9h 5m', '23h 15m', '21h 15m', '11h 5m', '22h 0m', '2h 45m', '31h 30m', '1h 25m', '19h 55m', '5h 5m', '6h 15m', '5h 55m', '2h 55m', '21h 35m', '15h 10m', '25h 30m', '17h 5m', '2h 35m', '25h 40m', '5h 45m', '3h 5m', '9h 5m', '8h 0m', '5h 50m', '13h 25m', '2h 20m', '9h 30m', '27h 10m', '2h 40m', '20h 10m', '21h 10m', '2h 50m', '24h 0m', '15h 15m', '10h 30m', '4h 50m', '6h 5m', '2h 55m', '21h 35m', '9h 20m', '27h 20m', '2h 35m', '5h 15m', '4h 35m', '7h 30m', '2h 45m', '24h 30m', '7h 15m', '11h 55m', '8h 10m', '15h 40m', '10h 30m', '1h 25m', '10h 35m', '4h 55m', '21h 45m', '24h 5m', '2h 35m', '2h 35m', '10h 55m', '6h 20m', '7h 30m', '2h 45m', '22h 55m', '2h 50m', '2h 55m', '2h 45m', '3h 0m', '11h 40m', '26h 15m', '27h 0m', '11h 5m', '25h 45m', '1h 25m', '21h 25m', '1h 25m', '12h 20m', '5h 30m', '20h 35m', '9h 15m', '6h 30m', '2h 55m', '13h 50m', '22h 45m', '14h 35m', '3h 5m', '2h 20m', '6h 55m', '19h 55m', '18h 45m', '2h 50m', '13h 25m', '2h 55m', '2h 55m', '2h 45m', '5h 45m', '14h 45m', '2h 20m', '18h 20m', '13h 0m', '2h 45m', '8h 0m', '29h 5m', '10h 10m', '2h 35m', '15h 40m', '13h 20m', '2h 50m', '25h 45m', '2h 20m', '13h 0m', '4h 25m', '2h 50m', '22h 10m', '4h 30m', '13h 20m', '20h 20m', '3h 15m', '2h 35m', '2h 35m', '4h 50m', '10h 0m', '2h 50m', '11h 45m', '2h 35m', '2h 40m', '22h 10m', '25h 15m', '8h 55m', '6h 25m', '3h 0m', '19h 25m', '28h 5m', '2h 50m', '2h 50m', '25h 5m', '21h 35m', '21h 35m', '13h 0m', '7h 15m', '15h 55m', '7h 35m', '13h 20m', '2h 50m', '7h 0m', '12h 30m', '10h 50m', '1h 30m', '2h 35m', '2h 45m', '5h 40m', '2h 55m', '12h 25m', '2h 20m', '1h 20m', '20h 15m', '11h 35m', '27h 45m', '26h 10m', '5h 5m', '2h 55m', '23h 35m', '24h 10m', '3h 0m', '7h 0m', '21h 35m', '10h 25m', '15h 55m', '28h 20m', '2h 50m', '7h 20m', '2h 25m', '2h 35m', '3h 5m', '1h 30m', '2h 20m', '8h 40m', '30h 0m', '3h 0m', '25h 40m', '2h 55m', '2h 55m', '20h 10m', '6h 25m', '2h 50m', '27h 45m', '2h 45m', '13h 25m', '3h 40m', '18h 20m', '2h 25m', '11h 25m', '21h 40m', '30h 30m', '11h 0m', '7h 30m', '22h 40m', '1h 30m', '2h 45m', '13h 15m', '13h 55m', '9h 30m', '30h 20m', '1h 15m', '34h 30m', '3h 5m', '13h 45m', '23h 0m', '1h 25m', '14h 55m', '16h 45m', '26h 50m', '13h 20m', '8h 0m', '8h 0m', '21h 20m', '18h 20m', '2h 40m', '9h 35m', '15h 10m', '9h 50m', '20h 25m', '23h 50m', '10h 35m', '13h 20m', '14h 15m', '14h 20m', '24h 35m', '3h 0m', '1h 20m', '8h 0m', '2h 55m', '5h 5m', '7h 20m', '6h 30m', '21h 45m', '13h 20m', '18h 25m', '22h 0m', '25h 30m', '17h 25m', '2h 20m', '1h 30m', '15h 30m', '14h 25m', '2h 55m', '14h 35m', '4h 55m', '7h 35m', '9h 50m', '14h 40m', '8h 30m', '2h 50m', '14h 35m', '2h 35m', '2h 55m', '9h 35m', '13h 0m', '25h 55m', '25h 35m', '2h 15m', '24h 30m', '1h 25m', '10h 0m', '2h 50m', '2h 50m', '1h 30m', '12h 0m', '1h 30m', '21h 20m', '1h 30m', '12h 35m', '16h 45m', '13h 0m', '28h 0m', '2h 50m', '17h 10m', '9h 30m', '10h 20m', '7h 55m', '14h 0m', '2h 20m', '14h 25m', '2h 35m', '23h 30m', '16h 40m', '2h 45m', '2h 50m', '26h 35m', '12h 15m', '10h 20m', '15h 25m', '9h 0m', '2h 50m', '11h 20m', '2h 55m', '7h 40m', '11h 0m', '2h 35m', '5h 50m', '3h 10m', '25h 35m', '6h 15m', '2h 15m', '14h 5m', '2h 55m', '8h 20m', '19h 55m', '21h 25m', '4h 55m', '3h 0m', '3h 0m', '2h 55m', '5h 15m', '23h 0m', '18h 20m', '2h 50m', '2h 55m', '9h 30m', '1h 25m', '7h 45m', '12h 55m', '2h 40m', '2h 35m', '2h 50m', '15h 20m', '2h 55m', '9h 0m', '20h 25m', '13h 0m', '2h 50m', '15h 55m', '12h 45m', '19h 25m', '6h 40m', '24h 10m', '10h 20m', '2h 55m', '11h 5m', '19h 30m', '8h 20m', '7h 5m', '24h 40m', '3h 40m', '23h 0m', '14h 5m', '7h 20m', '1h 25m', '7h 30m', '2h 20m', '16h 0m', '2h 35m', '12h 10m', '1h 30m', '3h 5m', '8h 5m', '2h 55m', '21h 20m', '11h 45m', '1h 30m', '3h 0m', '4h 40m', '15h 20m', '2h 40m', '21h 35m', '25h 25m', '2h 30m', '1h 25m', '8h 40m', '19h 55m', '17h 5m', '1h 30m', '14h 25m', '26h 10m', '2h 30m', '10h 15m', '6h 25m', '11h 15m', '2h 35m', '27h 45m', '7h 35m', '10h 40m', '1h 25m', '2h 55m', '1h 20m', '2h 50m', '2h 45m', '5h 15m', '8h 45m', '18h 45m', '14h 20m', '1h 30m', '2h 30m', '26h 35m', '9h 30m', '7h 30m', '20h 10m', '5h 30m', '12h 45m', '2h 20m', '8h 40m', '7h 5m', '14h 50m', '19h 40m', '1h 30m', '13h 55m', '3h 5m', '5h 20m', '2h 35m', '14h 25m', '5h 0m', '14h 5m', '9h 0m', '2h 20m', '2h 20m', '1h 30m', '2h 50m', '11h 5m', '11h 25m', '2h 40m', '11h 45m', '2h 20m', '9h 0m', '22h 30m', '10h 35m', '11h 45m', '2h 20m', '1h 20m', '7h 15m', '21h 35m', '9h 5m', '11h 15m', '23h 20m', '2h 35m', '13h 30m', '8h 10m', '7h 15m', '2h 50m', '19h 25m', '21h 25m', '12h 20m', '2h 25m', '28h 15m', '2h 50m', '2h 55m', '2h 25m', '20h 55m', '6h 0m', '8h 20m', '3h 0m', '9h 20m', '2h 40m', '4h 15m', '18h 35m', '8h 40m', '2h 55m', '24h 45m', '24h 45m', '2h 20m', '1h 30m', '2h 35m', '23h 0m', '15h 30m', '2h 15m', '3h 5m', '2h 50m', '20h 0m', '17h 5m', '12h 45m', '24h 10m', '1h 30m', '26h 50m', '12h 25m', '9h 30m', '6h 25m', '1h 30m', '16h 15m', '24h 45m', '6h 20m', '21h 40m', '5h 15m', '27h 0m', '19h 40m', '14h 35m', '3h 40m', '2h 50m', '7h 5m', '2h 55m', '10h 0m', '33h 15m', '7h 45m', '2h 45m', '1h 20m', '12h 45m', '4h 30m', '8h 40m', '1h 20m', '1h 25m', '17h 20m', '12h 10m', '13h 30m', '1h 30m', '22h 0m', '25h 0m', '2h 15m', '1h 30m', '23h 30m', '13h 50m', '13h 30m', '2h 35m', '11h 30m', '3h 0m', '2h 55m', '2h 45m', '9h 45m', '6h 40m', '10h 55m', '2h 15m', '27h 10m', '7h 15m', '8h 20m', '15h 40m', '13h 45m', '21h 25m', '1h 30m', '7h 0m', '6h 10m', '14h 55m', '1h 30m', '19h 30m', '2h 55m', '1h 30m', '2h 55m', '12h 40m', '19h 55m', '2h 35m', '21h 35m', '5h 30m', '25h 30m', '26h 20m', '9h 10m', '8h 10m', '2h 25m', '8h 10m', '2h 30m', '23h 30m', '10h 40m', '2h 55m', '9h 50m', '2h 15m', '28h 5m', '17h 50m', '16h 30m', '25h 45m', '22h 45m', '2h 50m', '11h 45m', '1h 30m', '16h 45m', '9h 5m', '5h 30m', '7h 15m', '17h 25m', '13h 30m', '6h 30m', '2h 50m', '2h 55m', '2h 50m', '2h 20m', '2h 30m', '12h 10m', '8h 30m', '2h 50m', '2h 45m', '3h 0m', '16h 0m', '2h 35m', '2h 25m', '23h 35m', '22h 55m', '2h 15m', '3h 15m', '6h 5m', '5h 5m', '2h 20m', '26h 35m', '1h 30m', '2h 45m', '2h 50m', '11h 25m', '18h 50m', '2h 35m', '14h 20m', '2h 45m', '12h 10m', '5h 0m', '11h 0m', '2h 20m', '3h 0m', '19h 40m', '9h 30m', '2h 30m', '2h 50m', '2h 20m', '2h 45m', '16h 55m', '4h 30m', '25h 20m', '22h 0m', '22h 45m', '9h 20m', '2h 55m', '2h 45m', '2h 40m', '2h 35m', '21h 10m', '8h 20m', '23h 30m', '16h 55m', '5h 30m', '2h 25m', '24h 55m', '2h 55m', '27h 5m', '11h 45m', '2h 50m', '21h 15m', '5h 20m', '5h 45m', '11h 15m', '12h 55m', '21h 15m', '9h 30m', '12h 30m', '6h 35m', '3h 0m', '14h 10m', '2h 35m', '2h 35m', '14h 40m', '7h 45m', '2h 50m', '13h 30m', '1h 25m', '25h 45m', '21h 35m', '11h 0m', '7h 30m', '3h 15m', '2h 35m', '5h 50m', '2h 20m', '22h 55m', '11h 40m', '2h 35m', '2h 25m', '24h 0m', '3h 0m', '10h 35m', '36h 10m', '2h 25m', '2h 35m', '11h 30m', '2h 55m', '2h 50m', '8h 55m', '5h 15m', '12h 15m', '26h 40m', '8h 55m', '1h 20m', '23h 5m', '2h 15m', '8h 40m', '2h 30m', '5h 5m', '16h 55m', '15h 15m', '18h 45m', '20h 55m', '10h 0m', '10h 15m', '5h 40m', '28h 20m', '6h 30m', '15h 55m', '10h 40m', '26h 35m', '25h 45m', '5h 55m', '19h 45m', '9h 15m', '2h 40m', '11h 5m', '10h 15m', '2h 30m', '7h 30m', '6h 10m', '8h 30m', '2h 45m', '2h 35m', '4h 55m', '9h 20m', '12h 45m', '24h 50m', '9h 20m', '2h 55m', '2h 30m', '17h 55m', '2h 50m', '2h 30m', '3h 0m', '16h 50m', '1h 30m', '6h 0m', '2h 45m', '14h 15m', '11h 5m', '2h 40m', '20h 10m', '24h 55m', '3h 0m', '9h 50m', '12h 30m', '2h 50m', '9h 35m', '12h 0m', '2h 15m', '2h 50m', '1h 25m', '2h 35m', '9h 50m', '14h 45m', '12h 10m', '23h 45m', '21h 35m', '17h 55m', '2h 40m', '2h 25m', '2h 50m', '5h 30m', '14h 10m', '14h 5m', '14h 5m', '2h 45m', '5h 25m', '3h 40m', '9h 30m', '8h 40m', '9h 10m', '15h 20m', '3h 15m', '9h 50m', '23h 20m', '21h 5m', '10h 30m', '6h 35m', '1h 30m', '5h 15m', '10h 25m', '5h 5m', '9h 0m', '2h 55m', '7h 15m', '15h 30m', '11h 0m', '23h 30m', '15h 0m', '3h 0m', '29h 35m', '4h 25m', '11h 0m', '2h 35m', '8h 20m', '2h 45m', '11h 0m', '1h 30m', '10h 30m', '2h 45m', '13h 30m', '2h 50m', '25h 20m', '22h 5m', '9h 5m', '25h 30m', '13h 30m', '2h 50m', '5h 5m', '6h 15m', '2h 45m', '2h 35m', '5h 20m', '17h 30m', '14h 30m', '6h 15m', '22h 5m', '1h 30m', '3h 0m', '3h 10m', '5h 45m', '9h 15m', '2h 20m', '14h 55m', '2h 50m', '10h 5m', '14h 50m', '7h 15m', '25h 55m', '27h 35m', '3h 15m', '25h 30m', '2h 35m', '2h 45m', '1h 20m', '11h 45m', '9h 0m', '12h 50m', '2h 55m', '6h 15m', '23h 10m', '14h 20m', '10h 15m', '27h 50m', '3h 5m', '2h 30m', '26h 35m', '11h 50m', '7h 20m', '1h 25m', '2h 50m', '2h 15m', '2h 55m', '3h 0m', '16h 50m', '24h 50m', '16h 5m', '2h 20m', '13h 20m', '7h 30m', '18h 20m', '2h 50m', '25h 35m', '1h 35m', '21h 25m', '38h 35m', '2h 55m', '27h 40m', '27h 35m', '11h 15m', '1h 25m', '12h 0m', '1h 30m', '1h 30m', '15h 50m', '37h 25m', '8h 25m', '26h 20m', '10h 25m', '10h 25m', '2h 15m', '8h 55m', '14h 45m', '7h 15m', '12h 35m', '3h 0m', '2h 35m', '2h 55m', '9h 30m', '7h 35m', '2h 25m', '7h 20m', '6h 25m', '26h 10m', '9h 15m', '8h 25m', '11h 0m', '3h 0m', '19h 25m', '5h 25m', '2h 50m', '2h 45m', '8h 20m', '2h 15m', '8h 0m', '2h 40m', '1h 30m', '12h 35m', '1h 15m', '10h 25m', '3h 0m', '23h 55m', '16h 5m', '5h 20m', '24h 35m', '4h 55m', '6h 10m', '1h 30m', '2h 20m', '5h 15m', '7h 5m', '12h 30m', '2h 45m', '6h 15m', '20h 0m', '3h 15m', '8h 0m', '7h 40m', '13h 30m', '22h 45m', '2h 35m', '22h 45m', '10h 15m', '13h 30m', '2h 30m', '5h 15m', '6h 35m', '16h 5m', '3h 0m', '9h 50m', '23h 0m', '2h 50m', '5h 20m', '11h 0m', '14h 50m', '23h 30m', '36h 10m', '20h 55m', '3h 15m', '3h 15m', '9h 20m', '5h 15m', '1h 30m', '7h 30m', '2h 35m', '14h 20m', '21h 20m', '10h 30m', '24h 45m', '3h 15m', '22h 15m', '27h 20m', '6h 0m', '2h 50m', '7h 50m', '5h 0m', '3h 15m', '2h 50m', '2h 40m', '21h 55m', '8h 40m', '1h 30m', '15h 30m', '8h 40m', '6h 20m', '5h 35m', '12h 30m', '2h 50m', '11h 35m', '3h 5m', '26h 30m', '9h 0m', '2h 45m', '13h 20m', '20h 15m', '8h 15m', '1h 25m', '10h 30m', '20h 0m', '22h 25m', '9h 0m', '1h 30m', '5h 20m', '17h 5m', '13h 30m', '13h 25m', '2h 15m', '11h 50m', '2h 30m', '8h 0m', '11h 20m', '13h 30m', '13h 55m', '20h 55m', '10h 40m', '27h 5m', '3h 0m', '18h 50m', '22h 55m', '11h 15m', '2h 40m', '20h 10m', '15h 10m', '25h 55m', '5h 0m', '29h 50m', '7h 35m', '2h 50m', '28h 20m', '21h 40m', '22h 45m', '24h 10m', '7h 5m', '12h 40m', '2h 25m', '2h 45m', '24h 35m', '19h 0m', '2h 40m', '3h 0m', '23h 55m', '11h 5m', '1h 30m', '2h 50m', '2h 40m', '5h 10m', '27h 5m', '14h 0m', '2h 55m', '4h 50m', '10h 0m', '5h 55m', '12h 45m', '15h 15m', '12h 25m', '10h 0m', '3h 0m', '2h 30m', '10h 20m', '27h 5m', '1h 30m', '16h 15m', '13h 50m', '2h 35m', '23h 0m', '3h 5m', '3h 0m', '3h 0m', '2h 30m', '1h 30m', '20h 0m', '2h 40m', '2h 20m', '2h 40m', '8h 30m', '2h 45m', '7h 15m', '2h 25m', '2h 20m', '7h 30m', '4h 25m', '2h 50m', '14h 0m', '2h 55m', '13h 50m', '2h 55m', '20h 25m', '23h 40m', '9h 0m', '7h 15m', '2h 55m', '17h 55m', '8h 15m', '9h 15m', '16h 5m', '2h 45m', '2h 50m', '11h 35m', '5h 20m', '1h 25m', '15h 0m', '2h 35m', '20h 10m', '2h 50m', '2h 35m', '2h 50m', '5h 20m', '38h 15m', '4h 25m', '15h 15m', '12h 45m', '25h 5m', '12h 30m', '9h 35m', '1h 30m', '9h 20m', '11h 50m', '6h 25m', '5h 15m', '7h 30m', '1h 30m', '11h 55m', '7h 20m', '22h 45m', '2h 45m', '11h 30m', '26h 20m', '42h 5m', '13h 20m', '4h 25m', '2h 30m', '13h 50m', '4h 50m', '7h 0m', '3h 15m', '20h 20m', '2h 45m', '2h 20m', '2h 50m', '2h 30m', '3h 5m', '24h 35m', '30h 40m', '13h 20m', '2h 35m', '2h 35m', '7h 50m', '26h 35m', '29h 35m', '5h 30m', '16h 5m', '11h 50m', '12h 30m', '15h 5m', '30h 20m', '2h 50m', '26h 20m', '27h 5m', '28h 0m', '21h 15m', '27h 40m', '26h 10m', '4h 50m', '2h 25m', '1h 25m', '4h 35m', '1h 30m', '4h 50m', '27h 35m', '5h 0m', '17h 20m', '10h 0m', '8h 0m', '3h 5m', '2h 35m', '7h 20m', '23h 30m', '26h 55m', '9h 30m', '23h 35m', '28h 50m', '13h 20m', '16h 5m', '13h 55m', '2h 50m', '6h 30m', '12h 55m', '2h 25m', '2h 55m', '2h 55m', '7h 5m', '2h 30m', '2h 40m', '7h 15m', '12h 0m', '2h 50m', '2h 25m', '2h 30m', '21h 5m', '13h 30m', '15h 20m', '2h 55m', '3h 0m', '15h 10m', '7h 35m', '2h 20m', '2h 20m', '13h 50m', '1h 30m', '15h 55m', '6h 0m', '2h 35m', '22h 25m', '7h 40m', '23h 5m', '2h 20m', '2h 30m', '2h 45m', '21h 35m', '2h 15m', '2h 40m', '6h 15m', '23h 5m', '9h 50m', '3h 0m', '11h 5m', '21h 40m', '10h 30m', '3h 5m', '5h 5m', '2h 25m', '6h 0m', '4h 5m', '38h 35m', '2h 15m', '11h 30m', '16h 35m', '14h 25m', '2h 55m', '3h 0m', '6h 20m', '16h 5m', '5h 45m', '2h 50m', '9h 0m', '12h 45m', '2h 55m', '15h 20m', '7h 15m', '10h 25m', '12h 30m', '2h 30m', '2h 30m', '19h 30m', '2h 50m', '22h 0m', '2h 50m', '29h 55m', '13h 5m', '37h 20m', '13h 15m', '3h 0m', '9h 30m', '30h 45m', '12h 10m', '14h 5m', '4h 40m', '8h 5m', '15h 10m', '5h 45m', '1h 30m', '13h 10m', '2h 30m', '8h 55m', '2h 55m', '2h 55m', '7h 5m', '1h 20m', '18h 0m', '28h 40m', '7h 35m', '10h 40m', '24h 50m', '2h 50m', '22h 10m', '11h 40m', '5h 15m', '11h 25m', '13h 30m', '9h 0m', '6h 35m', '2h 55m', '2h 30m', '12h 30m', '2h 40m', '2h 35m', '5h 45m', '22h 10m', '25h 20m', '2h 15m', '33h 15m', '22h 45m', '8h 0m', '7h 40m', '2h 35m', '13h 20m', '3h 5m', '25h 0m', '21h 35m', '26h 55m', '6h 0m', '9h 0m', '2h 50m', '15h 0m', '12h 25m', '2h 50m', '1h 30m', '14h 10m', '2h 45m', '8h 35m', '21h 15m', '1h 20m', '25h 30m', '25h 50m', '25h 40m', '6h 35m', '3h 0m', '2h 50m', '11h 5m', '2h 50m', '2h 25m', '17h 40m', '3h 0m', '3h 0m', '9h 35m', '5h 30m', '17h 55m', '16h 15m', '2h 50m', '9h 40m', '15h 55m', '1h 25m', '5h 20m', '13h 5m', '22h 55m', '2h 25m', '8h 30m', '23h 40m', '2h 45m', '2h 55m', '7h 30m', '13h 55m', '19h 25m', '15h 10m', '10h 10m', '11h 30m', '2h 50m', '6h 15m', '21h 55m', '11h 45m', '8h 0m', '11h 30m', '18h 20m', '2h 25m', '8h 55m', '2h 30m', '17h 40m', '11h 35m', '5h 15m', '1h 30m', '3h 0m', '9h 0m', '2h 45m', '25h 45m', '3h 0m', '10h 35m', '15h 0m', '2h 45m', '2h 15m', '16h 55m', '25h 45m', '14h 55m', '9h 5m', '14h 5m', '8h 0m', '4h 10m', '10h 30m', '16h 45m', '8h 30m', '3h 40m', '23h 50m', '2h 30m', '21h 50m', '10h 15m', '2h 25m', '6h 40m', '10h 15m', '25h 15m', '2h 50m', '11h 10m', '2h 50m', '13h 20m', '12h 45m', '10h 30m', '2h 40m', '7h 35m', '12h 0m', '26h 10m', '14h 45m', '23h 15m', '5h 30m', '2h 35m', '1h 35m', '10h 10m', '10h 50m', '3h 5m', '2h 20m', '11h 45m', '10h 10m', '11h 40m', '28h 15m', '9h 0m', '24h 45m', '19h 10m', '1h 30m', '26h 35m', '12h 15m', '7h 50m', '12h 45m', '2h 40m', '2h 50m', '2h 30m', '1h 20m', '24h 45m', '7h 30m', '9h 0m', '2h 50m', '8h 0m', '14h 40m', '17h 25m', '14h 45m', '2h 45m', '26h 55m', '12h 10m', '2h 50m', '12h 30m', '6h 30m', '14h 25m', '16h 55m', '3h 15m', '2h 30m', '14h 25m', '1h 30m', '25h 45m', '19h 30m', '22h 55m', '11h 5m', '20h 55m', '6h 35m', '21h 20m', '3h 55m', '2h 50m', '12h 45m', '2h 50m', '6h 35m', '2h 20m', '2h 55m', '2h 20m', '12h 0m', '14h 25m', '2h 15m', '13h 30m', '25h 45m', '2h 50m', '24h 50m', '12h 35m', '11h 50m', '26h 55m', '8h 50m', '19h 25m', '12h 15m', '7h 35m', '19h 30m', '5h 20m', '8h 20m', '2h 45m', '28h 50m', '13h 20m', '23h 45m', '19h 0m', '22h 30m', '2h 35m', '2h 15m', '5h 30m', '2h 35m', '39h 5m', '9h 0m', '12h 30m', '4h 25m', '8h 55m', '12h 0m', '9h 15m', '2h 35m', '16h 0m', '27h 40m', '6h 30m', '12h 10m', '5h 15m', '2h 50m', '12h 45m', '8h 5m', '26h 55m', '19h 25m', '6h 30m', '1h 25m', '11h 45m', '10h 40m', '16h 25m', '2h 50m', '13h 30m', '5h 40m', '3h 50m', '1h 30m', '10h 30m', '2h 45m', '2h 35m', '1h 30m', '12h 35m', '5h 45m', '3h 5m', '2h 55m', '5h 50m', '4h 45m', '2h 55m', '12h 15m', '8h 25m', '27h 35m', '2h 30m', '8h 40m', '2h 55m', '3h 0m', '17h 20m', '2h 35m', '4h 55m', '2h 50m', '16h 15m', '5h 45m', '7h 50m', '2h 50m', '27h 35m', '14h 25m', '27h 45m', '6h 25m', '15h 10m', '3h 35m', '12h 15m', '5h 5m', '4h 55m', '3h 5m', '3h 40m', '22h 15m', '10h 30m', '2h 35m', '12h 55m', '2h 35m', '2h 50m', '7h 45m', '28h 5m', '12h 25m', '2h 45m', '25h 5m', '2h 35m', '13h 0m', '20h 35m', '21h 35m', '9h 50m', '12h 45m', '24h 45m', '1h 30m', '13h 45m', '4h 20m', '22h 30m', '2h 55m', '1h 20m', '14h 25m', '7h 15m', '3h 0m', '3h 10m', '3h 5m', '17h 25m', '14h 45m', '6h 10m', '2h 30m', '2h 55m', '2h 55m', '18h 25m', '22h 30m', '8h 0m', '28h 5m', '13h 45m', '2h 55m', '2h 55m', '2h 20m', '8h 25m', '28h 40m', '24h 55m', '1h 30m', '11h 15m', '5h 5m', '1h 30m', '24h 35m', '26h 50m', '9h 20m', '1h 30m', '24h 45m', '10h 30m', '13h 30m', '5h 45m', '26h 25m', '6h 5m', '11h 30m', '16h 0m', '13h 20m', '22h 55m', '3h 10m', '13h 20m', '9h 50m', '1h 30m', '3h 50m', '7h 50m', '5h 55m', '1h 15m', '4h 55m', '9h 30m', '7h 30m', '2h 15m', '2h 30m', '17h 20m', '14h 0m', '2h 20m', '20h 25m', '1h 30m', '2h 45m', '23h 50m', '12h 5m', '2h 45m', '11h 30m', '9h 30m', '0h 5m', '2h 50m', '38h 35m', '5h 30m', '26h 30m', '2h 55m', '1h 30m', '4h 25m', '1h 25m', '1h 25m', '4h 0m', '2h 55m', '5h 5m', '2h 40m', '8h 25m', '2h 50m', '13h 0m', '9h 30m', '20h 25m', '2h 40m', '30h 0m', '14h 50m', '2h 40m', '2h 50m', '2h 35m', '24h 0m', '13h 20m', '9h 35m', '1h 25m', '9h 45m', '16h 45m', '2h 45m', '11h 0m', '8h 15m', '2h 20m', '4h 25m', '24h 35m', '3h 0m', '21h 40m', '1h 35m', '2h 40m', '16h 15m', '12h 55m', '2h 40m', '11h 45m', '2h 20m', '2h 45m', '2h 50m', '3h 15m', '3h 15m', '2h 45m', '17h 5m', '2h 40m', '3h 15m', '2h 50m', '11h 55m', '14h 10m', '2h 35m', '23h 35m', '11h 45m', '2h 55m', '1h 30m', '7h 5m', '2h 20m', '14h 0m', '1h 25m', '10h 40m', '9h 30m', '25h 45m', '12h 0m', '2h 50m', '2h 50m', '21h 20m', '13h 20m', '6h 35m', '3h 15m', '1h 30m', '5h 35m', '8h 0m', '2h 45m', '2h 55m', '9h 50m', '5h 45m', '25h 45m', '2h 50m', '22h 25m', '11h 55m', '7h 30m', '3h 5m', '2h 35m', '7h 30m', '7h 30m', '14h 5m', '14h 45m', '22h 15m', '6h 15m', '6h 30m', '2h 55m', '2h 30m', '1h 15m', '4h 5m', '8h 25m', '14h 50m', '17h 35m', '3h 0m', '2h 50m', '18h 45m', '2h 35m', '1h 25m', '27h 10m', '2h 35m', '5h 45m', '6h 25m', '9h 30m', '8h 50m', '5h 55m', '5h 5m', '6h 35m', '2h 35m', '2h 55m', '2h 50m', '11h 15m', '7h 55m', '9h 0m', '23h 20m', '13h 55m', '10h 25m', '6h 35m', '7h 20m', '10h 25m', '12h 25m', '14h 20m', '12h 5m', '3h 0m', '3h 0m', '17h 25m', '27h 10m', '8h 55m', '15h 0m', '2h 45m', '2h 50m', '11h 0m', '15h 40m', '4h 0m', '23h 45m', '14h 5m', '14h 25m', '2h 55m', '2h 35m', '11h 45m', '13h 30m', '2h 30m', '12h 30m', '5h 55m', '15h 55m', '2h 50m', '2h 35m', '3h 0m', '8h 40m', '3h 0m', '15h 40m', '7h 20m', '2h 50m', '2h 45m', '8h 25m', '4h 25m', '7h 40m', '20h 35m', '7h 0m', '25h 30m', '2h 40m', '13h 45m', '13h 0m', '3h 0m', '26h 10m', '13h 30m', '10h 15m', '14h 55m', '4h 50m', '14h 55m', '2h 55m', '13h 50m', '2h 15m', '2h 45m', '21h 15m', '16h 30m', '3h 0m', '14h 30m', '16h 0m', '10h 55m', '5h 0m', '1h 25m', '6h 30m', '16h 5m', '23h 10m', '27h 40m', '26h 55m', '25h 55m', '16h 5m', '2h 45m', '2h 55m', '13h 10m', '2h 55m', '13h 0m', '10h 40m', '9h 15m', '10h 30m', '23h 35m', '16h 50m', '13h 40m', '22h 0m', '17h 45m', '10h 20m', '1h 30m', '17h 5m', '21h 35m', '12h 10m', '13h 0m', '1h 20m', '8h 55m', '14h 10m', '2h 25m', '3h 0m', '7h 55m', '2h 20m', '16h 5m', '2h 25m', '9h 15m', '13h 10m', '2h 55m', '2h 35m', '3h 0m', '2h 45m', '4h 0m', '5h 0m', '1h 30m', '19h 5m', '2h 30m', '7h 20m', '4h 30m', '1h 30m', '10h 35m', '2h 15m', '1h 30m', '14h 35m', '3h 0m', '2h 20m', '10h 55m', '7h 55m', '27h 35m', '1h 30m', '12h 40m', '13h 50m', '1h 30m', '3h 15m', '6h 35m', '19h 55m', '2h 50m', '5h 45m', '2h 30m', '10h 20m', '8h 55m', '2h 50m', '2h 20m', '3h 0m', '6h 35m', '15h 0m', '4h 50m', '13h 50m', '26h 5m', '2h 50m', '14h 45m', '6h 55m', '26h 30m', '24h 30m', '10h 25m', '9h 35m', '2h 20m', '2h 50m', '2h 30m', '15h 30m', '16h 10m', '2h 20m', '17h 5m', '18h 45m', '5h 0m', '14h 20m', '8h 25m', '5h 10m', '12h 15m', '9h 15m', '9h 50m', '2h 35m', '20h 15m', '16h 50m', '17h 45m', '2h 45m', '1h 30m', '16h 20m', '2h 50m', '9h 50m', '15h 0m', '15h 10m', '8h 20m', '25h 35m', '2h 15m', '14h 0m', '2h 50m', '24h 55m', '14h 30m', '13h 0m', '1h 15m', '7h 35m', '27h 40m', '2h 50m', '7h 20m', '1h 30m', '2h 55m', '2h 30m', '26h 20m', '2h 40m', '3h 0m', '2h 35m', '25h 55m', '6h 30m', '12h 25m', '5h 15m', '21h 10m', '2h 45m', '3h 0m', '29h 5m', '2h 55m', '15h 30m', '7h 5m', '18h 45m', '2h 15m', '2h 40m', '7h 50m', '27h 40m', '24h 40m', '7h 15m', '12h 25m', '6h 15m', '8h 0m', '6h 10m', '21h 40m', '15h 20m', '9h 45m', '23h 50m', '13h 25m', '14h 5m', '13h 0m', '2h 35m', '3h 15m', '9h 30m', '32h 5m', '2h 30m', '2h 30m', '23h 0m', '15h 30m', '11h 35m', '23h 0m', '2h 35m', '1h 30m', '8h 35m', '2h 55m', '2h 45m', '17h 15m', '2h 50m', '3h 0m', '20h 20m', '15h 40m', '2h 50m', '1h 30m', '2h 15m', '32h 30m', '14h 10m', '9h 35m', '20h 10m', '7h 30m', '4h 5m', '11h 15m', '2h 45m', '2h 35m', '9h 20m', '2h 35m', '8h 10m', '2h 55m', '8h 20m', '2h 35m', '3h 0m', '4h 55m', '5h 0m', '8h 55m', '6h 25m', '5h 0m', '24h 5m', '3h 0m', '2h 30m', '20h 10m', '15h 30m', '1h 30m', '1h 20m', '1h 20m', '2h 35m', '1h 30m', '3h 5m', '2h 55m', '4h 25m', '2h 50m', '38h 0m', '12h 55m', '9h 20m', '11h 25m', '2h 55m', '6h 5m', '2h 35m', '2h 50m', '20h 45m', '7h 5m', '15h 0m', '14h 5m', '23h 15m', '14h 50m', '26h 35m', '9h 0m', '2h 45m', '18h 10m', '2h 15m', '13h 20m', '9h 20m', '26h 45m', '3h 5m', '2h 35m', '2h 30m', '9h 40m', '5h 15m', '2h 40m', '12h 45m', '2h 45m', '19h 55m', '11h 15m', '25h 20m', '2h 50m', '2h 55m', '2h 20m', '15h 10m', '26h 20m', '9h 5m', '2h 50m', '10h 25m', '6h 25m', '15h 5m', '13h 30m', '27h 35m', '4h 25m', '14h 30m', '23h 40m', '24h 0m', '13h 20m', '2h 45m', '1h 30m', '2h 50m', '25h 30m', '11h 50m', '28h 0m', '17h 15m', '10h 0m', '2h 20m', '2h 50m', '12h 45m', '12h 25m', '2h 35m', '8h 20m', '2h 25m', '15h 10m', '5h 30m', '13h 30m', '5h 20m', '10h 40m', '17h 5m', '9h 15m', '11h 25m', '2h 30m', '12h 30m', '28h 50m', '2h 55m', '9h 15m', '24h 55m', '3h 40m', '9h 30m', '11h 0m', '2h 45m', '25h 5m', '23h 35m', '1h 30m', '19h 5m', '3h 15m', '29h 35m', '22h 45m', '28h 20m', '2h 35m', '2h 20m', '2h 30m', '2h 35m', '2h 50m', '24h 0m', '2h 50m', '8h 40m', '2h 50m', '16h 0m', '18h 50m', '22h 0m', '32h 5m', '20h 55m', '4h 50m', '2h 50m', '12h 40m', '23h 50m', '14h 55m', '1h 20m', '17h 5m', '1h 25m', '26h 50m', '2h 35m', '3h 0m', '21h 15m', '35h 15m', '7h 30m', '2h 55m', '2h 50m', '7h 5m', '12h 15m', '2h 50m', '2h 20m', '1h 30m', '22h 30m', '8h 20m', '2h 20m', '6h 25m', '18h 25m', '15h 25m', '21h 20m', '9h 15m', '2h 20m', '6h 15m', '2h 35m', '10h 40m', '13h 55m', '1h 25m', '2h 45m', '2h 25m', '2h 45m', '3h 0m', '2h 30m', '26h 30m', '14h 20m', '13h 25m', '8h 45m', '5h 20m', '5h 5m', '2h 45m', '3h 15m', '26h 50m', '12h 45m', '1h 30m', '2h 35m', '2h 55m', '2h 30m', '9h 20m', '26h 10m', '1h 20m', '7h 15m', '2h 35m', '5h 10m', '6h 15m', '8h 5m', '9h 20m', '7h 30m', '7h 45m', '2h 50m', '5h 45m', '12h 10m', '6h 40m', '2h 50m', '27h 10m', '7h 15m', '5h 40m', '13h 45m', '21h 5m', '7h 5m', '3h 15m', '2h 50m', '19h 10m', '14h 0m', '24h 30m', '2h 35m', '15h 15m', '2h 20m', '2h 50m', '11h 55m', '19h 30m', '8h 55m', '12h 10m', '2h 45m', '24h 25m', '2h 50m', '19h 45m', '9h 15m', '1h 30m', '2h 50m', '2h 40m', '20h 10m', '9h 50m', '18h 45m', '2h 20m', '2h 45m', '5h 35m', '2h 35m', '7h 35m', '7h 20m', '5h 30m', '1h 25m', '2h 45m', '2h 25m', '5h 20m', '31h 55m', '7h 40m', '28h 20m', '7h 25m', '21h 15m', '16h 5m', '2h 40m', '9h 50m', '2h 45m', '21h 40m', '2h 55m', '11h 0m', '21h 25m', '2h 50m', '28h 40m', '14h 20m', '20h 15m', '12h 10m', '10h 25m', '13h 30m', '5h 10m', '9h 0m', '2h 55m', '11h 0m', '30h 20m', '2h 50m', '4h 40m', '27h 35m', '3h 10m', '2h 50m', '28h 20m', '23h 50m', '12h 45m', '22h 0m', '5h 20m', '2h 55m', '8h 55m', '2h 55m', '4h 45m', '8h 5m', '2h 50m', '9h 0m', '2h 50m', '23h 40m', '2h 20m', '2h 30m', '17h 30m', '11h 30m', '2h 40m', '16h 20m', '15h 20m', '1h 25m', '15h 25m', '2h 50m', '3h 0m', '16h 45m', '18h 10m', '11h 15m', '12h 0m', '11h 30m', '3h 0m', '3h 40m', '2h 35m', '21h 15m', '10h 50m', '3h 0m', '16h 15m', '17h 35m', '9h 35m', '9h 0m', '10h 20m', '2h 35m', '17h 15m', '2h 55m', '2h 15m', '19h 25m', '16h 15m', '5h 5m', '2h 35m', '16h 55m', '8h 40m', '21h 35m', '5h 55m', '13h 30m', '9h 30m', '19h 55m', '2h 45m', '23h 50m', '20h 35m', '37h 25m', '2h 30m', '2h 50m', '15h 45m', '14h 5m', '2h 30m', '8h 25m', '7h 5m', '11h 30m', '23h 15m', '5h 45m', '1h 30m', '5h 30m', '2h 35m', '5h 55m', '11h 5m', '11h 40m', '3h 15m', '3h 5m', '24h 0m', '17h 35m', '22h 55m', '2h 40m', '15h 0m', '1h 20m', '4h 40m', '8h 55m', '16h 5m', '24h 30m', '2h 20m', '8h 40m', '4h 55m', '12h 55m', '1h 30m', '12h 30m', '2h 35m', '17h 55m', '24h 35m', '7h 30m', '2h 55m', '21h 15m', '2h 30m', '3h 0m', '37h 20m', '23h 30m', '13h 15m', '2h 55m', '9h 50m', '2h 50m', '1h 30m', '1h 15m', '21h 35m', '2h 50m', '6h 40m', '13h 25m', '10h 15m', '15h 10m', '18h 20m', '2h 15m', '26h 35m', '26h 25m', '6h 15m', '2h 55m', '13h 20m', '2h 50m', '7h 30m', '1h 30m', '15h 25m', '1h 25m', '7h 30m', '22h 55m', '20h 10m', '3h 15m', '11h 45m', '2h 30m', '9h 10m', '2h 45m', '15h 45m', '18h 25m', '11h 25m', '27h 45m', '15h 25m', '1h 30m', '5h 15m', '7h 15m', '9h 15m', '16h 5m', '25h 40m', '23h 30m', '2h 50m', '9h 0m', '3h 0m', '16h 15m', '2h 50m', '29h 20m', '2h 25m', '2h 30m', '16h 5m', '23h 10m', '2h 45m', '6h 20m', '15h 30m', '12h 10m', '1h 30m', '10h 25m', '12h 40m', '8h 35m', '7h 20m', '23h 40m', '1h 25m', '15h 30m', '16h 50m', '2h 50m', '18h 0m', '7h 20m', '17h 55m', '2h 50m', '38h 15m', '16h 45m', '9h 50m', '6h 35m', '13h 45m', '27h 45m', '6h 20m', '5h 45m', '2h 55m', '5h 20m', '1h 30m', '12h 0m', '15h 10m', '5h 5m', '2h 50m', '7h 20m', '14h 25m', '2h 35m', '3h 0m', '2h 55m', '25h 50m', '16h 50m', '2h 35m', '38h 20m', '14h 0m', '16h 10m', '11h 15m', '13h 15m', '1h 30m', '2h 50m', '7h 30m', '9h 25m', '3h 0m', '5h 15m', '24h 25m', '3h 0m', '5h 30m', '8h 55m', '18h 30m', '22h 55m', '2h 15m', '2h 30m', '10h 25m', '18h 25m', '2h 50m', '8h 20m', '27h 0m', '3h 40m', '14h 25m', '2h 50m', '13h 0m', '2h 20m', '16h 40m', '2h 40m', '2h 35m', '1h 30m', '1h 30m', '2h 50m', '2h 35m', '26h 40m', '7h 30m', '2h 15m', '18h 45m', '20h 15m', '2h 40m', '2h 45m', '5h 25m', '12h 0m', '12h 0m', '5h 15m', '2h 55m', '9h 30m', '2h 30m', '19h 15m', '2h 55m', '5h 50m', '8h 15m', '3h 0m', '26h 55m', '2h 25m', '12h 55m', '14h 5m', '14h 25m', '2h 50m', '2h 55m', '10h 10m', '1h 15m', '23h 25m', '3h 5m', '2h 50m', '8h 40m', '11h 30m', '4h 50m', '29h 55m', '7h 5m', '18h 45m', '30h 20m', '8h 10m', '2h 35m', '2h 30m', '5h 10m', '11h 0m', '10h 15m', '28h 10m', '3h 40m', '2h 50m', '1h 20m', '2h 50m', '2h 30m', '12h 15m', '8h 35m', '1h 35m', '27h 0m', '12h 45m', '13h 30m', '1h 30m', '26h 55m', '5h 25m', '1h 25m', '28h 50m', '11h 45m', '4h 35m', '20h 0m', '14h 55m', '2h 35m', '2h 15m', '2h 50m', '28h 20m', '16h 0m', '23h 15m', '2h 40m', '5h 35m', '2h 20m', '30h 20m', '6h 0m', '16h 50m', '7h 0m', '5h 45m', '2h 50m', '33h 20m', '13h 30m', '21h 35m', '16h 50m', '12h 10m', '2h 40m', '16h 10m', '6h 25m', '19h 55m', '6h 30m', '14h 30m', '11h 50m', '10h 30m', '7h 35m', '23h 30m', '2h 50m', '27h 45m', '9h 30m', '7h 20m', '2h 35m', '3h 0m', '7h 30m', '2h 35m', '27h 0m', '12h 0m', '8h 0m', '26h 35m', '9h 15m', '8h 30m', '16h 50m', '28h 10m', '2h 55m', '2h 50m', '12h 30m', '15h 10m', '1h 30m', '8h 35m', '23h 50m', '16h 50m', '9h 30m', '27h 0m', '2h 20m', '9h 30m', '2h 50m', '2h 50m', '2h 55m', '4h 0m', '22h 5m', '3h 0m', '19h 30m', '21h 35m', '2h 45m', '21h 5m', '27h 10m', '2h 30m', '5h 45m', '2h 45m', '2h 50m', '19h 30m', '2h 55m', '3h 10m', '2h 45m', '11h 35m', '1h 25m', '2h 55m', '2h 55m', '11h 0m', '13h 55m', '2h 45m', '6h 35m', '16h 10m', '2h 20m', '22h 55m', '2h 15m', '1h 30m', '2h 50m', '27h 0m', '3h 40m', '23h 45m', '12h 45m', '7h 20m', '24h 55m', '25h 10m', '10h 0m', '5h 55m', '25h 20m', '10h 20m', '6h 40m', '3h 0m', '25h 30m', '23h 0m', '2h 25m', '12h 40m', '20h 45m', '26h 15m', '2h 25m', '7h 55m', '3h 0m', '2h 55m', '11h 45m', '2h 55m', '7h 50m', '1h 30m', '14h 0m', '2h 50m', '13h 15m', '26h 20m', '12h 0m', '37h 25m', '10h 40m', '9h 35m', '5h 30m', '25h 30m', '1h 30m', '2h 20m', '2h 35m', '7h 5m', '9h 15m', '2h 30m', '1h 30m', '1h 20m', '5h 45m', '8h 25m', '6h 0m', '3h 0m', '2h 20m', '2h 55m', '8h 25m', '2h 35m', '7h 5m', '9h 5m', '6h 20m', '2h 55m', '20h 10m', '2h 25m', '10h 15m', '26h 50m', '14h 20m', '10h 20m', '13h 0m', '5h 0m', '27h 30m', '8h 55m', '24h 0m', '26h 55m', '16h 5m', '18h 55m', '28h 15m', '24h 50m', '3h 10m', '7h 20m', '2h 55m', '2h 25m', '2h 30m', '23h 55m', '11h 5m', '6h 15m', '16h 5m', '1h 25m', '20h 25m', '7h 35m', '5h 10m', '23h 10m', '1h 30m', '12h 45m', '8h 40m', '36h 10m', '38h 35m', '21h 25m', '12h 15m', '12h 40m', '8h 0m', '10h 30m', '26h 20m', '13h 25m', '24h 0m', '9h 5m', '8h 55m', '2h 50m', '13h 20m', '24h 0m', '34h 5m', '15h 25m', '23h 15m', '25h 45m', '10h 25m', '10h 0m', '4h 35m', '2h 55m', '27h 35m', '2h 50m', '1h 30m', '3h 15m', '8h 55m', '6h 55m', '12h 10m', '6h 5m', '16h 25m', '5h 15m', '13h 30m', '13h 20m', '2h 55m', '23h 0m', '20h 0m', '25h 55m', '23h 0m', '7h 15m', '23h 20m', '26h 55m', '8h 10m', '12h 45m', '5h 0m', '2h 15m', '10h 15m', '8h 45m', '7h 15m', '5h 55m', '4h 30m', '2h 20m', '11h 20m', '9h 15m', '13h 30m', '3h 0m', '2h 50m', '2h 20m', '2h 50m', '2h 50m', '27h 20m', '5h 5m', '14h 0m', '12h 20m', '26h 40m', '9h 35m', '2h 35m', '1h 25m', '2h 35m', '23h 40m', '28h 5m', '2h 50m', '16h 5m', '3h 15m', '20h 10m', '12h 35m', '3h 0m', '11h 5m', '16h 5m', '22h 30m', '24h 30m', '15h 30m', '12h 15m', '14h 20m', '22h 0m', '22h 40m', '14h 10m', '15h 45m', '2h 20m', '3h 0m', '14h 35m', '24h 50m', '2h 50m', '5h 15m', '4h 50m', '13h 30m', '12h 0m', '2h 30m', '7h 15m', '10h 25m', '5h 15m', '11h 25m', '9h 0m', '25h 45m', '26h 15m', '8h 40m', '2h 50m', '3h 0m', '2h 30m', '2h 35m', '2h 35m', '2h 15m', '12h 25m', '13h 30m', '2h 40m', '7h 20m', '3h 0m', '5h 40m', '2h 25m', '3h 0m', '4h 0m', '2h 35m', '9h 15m', '2h 55m', '3h 0m', '4h 30m', '17h 35m', '13h 15m', '24h 55m', '7h 15m', '2h 30m', '22h 0m', '2h 50m', '11h 30m', '2h 55m', '12h 25m', '2h 20m', '14h 0m', '30h 30m', '21h 20m', '9h 25m', '19h 30m', '29h 20m', '7h 15m', '8h 15m', '2h 55m', '13h 25m', '1h 15m', '24h 15m', '10h 20m', '20h 55m', '5h 15m', '1h 30m', '2h 50m', '9h 0m', '13h 30m', '2h 45m', '14h 25m', '2h 50m', '21h 5m', '18h 45m', '2h 50m', '6h 55m', '6h 35m', '2h 50m', '5h 30m', '13h 20m', '9h 0m', '10h 15m', '13h 20m', '2h 45m', '2h 45m', '13h 45m', '9h 20m', '2h 20m', '2h 40m', '8h 55m', '2h 50m', '2h 15m', '2h 55m', '24h 30m', '23h 10m', '22h 55m', '9h 20m', '23h 10m', '3h 5m', '18h 0m', '10h 15m', '2h 35m', '25h 25m', '16h 15m', '2h 45m', '2h 55m', '27h 35m', '9h 55m', '2h 40m', '1h 30m', '18h 30m', '21h 25m', '1h 20m', '3h 5m', '2h 30m', '3h 0m', '2h 30m', '25h 35m', '13h 25m', '2h 15m', '2h 15m', '7h 55m', '2h 50m', '10h 0m', '1h 30m', '17h 45m', '2h 45m', '3h 0m', '5h 5m', '15h 0m', '11h 30m', '4h 50m', '11h 50m', '2h 20m', '2h 40m', '1h 25m', '2h 55m', '1h 30m', '3h 10m', '2h 20m', '2h 40m', '2h 45m', '1h 30m', '25h 55m', '2h 45m', '17h 5m', '17h 20m', '23h 0m', '19h 5m', '2h 55m', '8h 25m', '2h 35m', '26h 20m', '2h 25m', '9h 30m', '2h 35m', '24h 40m', '18h 25m', '8h 0m', '2h 20m', '2h 45m', '1h 30m', '2h 20m', '16h 0m', '16h 10m', '2h 55m', '4h 30m', '16h 15m', '5h 30m', '2h 20m', '21h 15m', '5h 0m', '24h 30m', '2h 55m', '11h 45m', '5h 55m', '26h 25m', '38h 0m', '13h 55m', '6h 15m', '17h 25m', '2h 20m', '14h 30m', '2h 20m', '1h 25m', '8h 10m', '7h 55m', '23h 10m', '6h 45m', '2h 50m', '2h 30m', '27h 20m', '2h 45m', '3h 0m', '27h 25m', '10h 15m', '6h 5m', '23h 40m', '9h 40m', '23h 40m', '5h 30m', '2h 45m', '9h 30m', '7h 50m', '22h 30m', '25h 35m', '6h 5m', '41h 20m', '26h 0m', '9h 0m', '22h 10m', '7h 50m', '2h 45m', '13h 30m', '6h 5m', '8h 40m', '11h 20m', '2h 45m', '8h 25m', '5h 30m', '13h 30m', '8h 40m', '7h 30m', '6h 15m', '30h 30m', '15h 55m', '26h 55m', '2h 30m', '14h 35m', '26h 50m', '2h 45m', '2h 50m', '1h 25m', '2h 20m', '16h 50m', '2h 50m', '3h 0m', '4h 40m', '2h 45m', '10h 50m', '4h 55m', '1h 25m', '16h 50m', '27h 0m', '6h 0m', '7h 30m', '11h 25m', '24h 50m', '24h 45m', '8h 5m', '9h 30m', '15h 55m', '13h 20m', '1h 30m', '18h 20m', '2h 20m', '2h 45m', '2h 15m', '5h 30m', '12h 20m', '5h 35m', '26h 0m', '2h 20m', '19h 30m', '2h 50m', '11h 0m', '13h 50m', '3h 15m', '3h 0m', '10h 30m', '2h 50m', '26h 50m', '26h 40m', '23h 45m', '4h 40m', '1h 25m', '5h 20m', '32h 30m', '5h 0m', '27h 5m', '7h 55m', '25h 45m', '5h 0m', '27h 35m', '4h 55m', '18h 20m', '14h 30m', '23h 15m', '2h 35m', '9h 30m', '23h 30m', '2h 20m', '10h 20m', '1h 30m', '8h 25m', '15h 25m', '6h 20m', '2h 55m', '3h 5m', '5h 30m', '5h 30m', '22h 45m', '12h 5m', '2h 30m', '16h 5m', '23h 45m', '4h 35m', '26h 0m', '7h 15m', '24h 0m', '16h 5m', '14h 5m', '23h 15m', '10h 0m', '3h 50m', '20h 10m', '2h 40m', '9h 25m', '2h 15m', '2h 45m', '27h 20m', '15h 10m', '2h 35m', '12h 40m', '25h 15m', '18h 20m', '20h 5m', '2h 40m', '5h 45m', '12h 20m', '26h 25m', '5h 45m', '3h 0m', '18h 50m', '27h 10m', '1h 20m', '15h 40m', '6h 30m', '12h 55m', '5h 45m', '6h 55m', '10h 30m', '20h 25m', '20h 10m', '9h 35m', '2h 35m', '1h 25m', '5h 30m', '16h 50m', '2h 45m', '26h 40m', '11h 0m', '13h 30m', '28h 5m', '11h 0m', '2h 50m', '9h 0m', '15h 15m', '2h 50m', '2h 50m', '5h 0m', '3h 0m', '1h 30m', '2h 45m', '5h 30m', '5h 10m', '33h 15m', '7h 35m', '12h 30m', '21h 50m', '18h 45m', '2h 45m', '24h 45m', '2h 50m', '2h 35m', '5h 5m', '2h 45m', '29h 5m', '14h 25m', '13h 15m', '2h 55m', '7h 45m', '16h 5m', '13h 55m', '11h 30m', '23h 55m', '1h 30m', '21h 35m', '19h 40m', '1h 30m', '10h 20m', '2h 20m', '1h 25m', '2h 50m', '4h 40m', '2h 20m', '24h 55m', '2h 40m', '10h 20m', '9h 30m', '26h 0m', '18h 45m', '1h 30m', '2h 15m', '14h 0m', '8h 45m', '23h 50m', '2h 50m', '19h 5m', '18h 45m', '15h 20m', '1h 30m', '10h 20m', '26h 0m', '2h 20m', '8h 0m', '10h 30m', '1h 25m', '2h 20m', '2h 50m', '9h 30m', '5h 15m', '14h 45m', '2h 45m', '10h 20m', '2h 50m', '9h 25m', '26h 35m', '38h 15m', '13h 25m', '7h 35m', '11h 15m', '1h 25m', '2h 50m', '8h 20m', '3h 5m', '23h 40m', '2h 20m', '22h 55m', '23h 40m', '5h 40m', '2h 30m', '20h 55m', '3h 5m', '13h 20m', '2h 20m', '1h 25m', '2h 35m', '3h 40m', '26h 55m', '7h 30m', '11h 0m', '27h 20m', '2h 50m', '38h 0m', '19h 25m', '13h 30m', '3h 0m', '27h 0m', '4h 55m', '6h 0m', '10h 25m', '12h 30m', '3h 0m', '8h 5m', '2h 20m', '13h 20m', '5h 25m', '19h 5m', '2h 45m', '14h 30m', '24h 5m', '1h 30m', '26h 55m', '2h 20m', '23h 40m', '8h 30m', '23h 30m', '8h 0m', '30h 20m', '2h 50m', '23h 30m', '22h 55m', '29h 55m', '5h 15m', '15h 20m', '6h 25m', '10h 40m', '2h 45m', '23h 40m', '16h 0m', '10h 0m', '4h 50m', '5h 5m', '20h 10m', '14h 55m', '30h 30m', '2h 30m', '2h 55m', '1h 25m', '2h 50m', '11h 5m', '5h 5m', '30h 30m', '2h 50m', '13h 25m', '3h 0m', '10h 15m', '20h 55m', '10h 45m', '8h 0m', '12h 10m', '21h 25m', '8h 25m', '9h 10m', '8h 10m', '4h 55m', '21h 15m', '3h 0m', '14h 20m', '2h 35m', '6h 35m', '9h 30m', '10h 20m', '1h 30m', '8h 10m', '2h 45m', '14h 5m', '16h 15m', '21h 20m', '5h 20m', '6h 20m', '6h 25m', '2h 30m', '13h 55m', '2h 35m', '8h 55m', '22h 30m', '13h 30m', '13h 30m', '2h 20m', '3h 5m', '5h 0m', '5h 0m', '10h 25m', '11h 55m', '14h 5m', '18h 45m', '30h 20m', '26h 40m', '6h 20m', '8h 40m', '24h 20m', '2h 55m', '6h 40m', '16h 20m', '2h 45m', '19h 55m', '6h 5m', '3h 0m', '2h 55m', '33h 15m', '2h 35m', '2h 35m', '3h 0m', '2h 30m', '15h 20m', '2h 30m', '18h 15m', '9h 20m', '2h 30m', '2h 20m', '7h 15m', '6h 25m', '27h 20m', '8h 55m', '26h 20m', '13h 30m', '7h 30m', '11h 50m', '4h 25m', '6h 35m', '22h 15m', '1h 30m', '1h 35m', '2h 20m', '14h 25m', '2h 30m', '22h 55m', '2h 20m', '9h 50m', '26h 10m', '18h 0m', '16h 5m', '2h 45m', '14h 55m', '5h 25m', '8h 40m', '2h 45m', '22h 25m', '13h 20m', '3h 15m', '2h 30m', '1h 25m', '6h 20m', '7h 35m', '23h 35m', '2h 20m', '19h 15m', '2h 55m', '9h 35m', '22h 55m', '3h 0m', '2h 30m', '1h 30m', '1h 30m', '30h 30m', '12h 30m', '25h 5m', '6h 0m', '21h 15m', '10h 30m', '2h 20m', '15h 10m', '2h 50m', '7h 5m', '5h 30m', '2h 40m', '7h 40m', '2h 45m', '2h 35m', '2h 35m', '2h 20m', '2h 35m', '1h 30m', '2h 25m', '13h 25m', '1h 30m', '6h 5m', '10h 50m', '18h 20m', '14h 35m', '2h 50m', '11h 5m', '2h 30m', '23h 50m', '26h 55m', '3h 0m', '7h 35m', '31h 50m', '3h 15m', '7h 15m', '15h 10m', '18h 45m', '18h 20m', '25h 55m', '1h 30m', '23h 30m', '5h 0m', '2h 45m', '7h 50m', '38h 20m', '3h 10m', '5h 10m', '8h 0m', '3h 5m', '7h 35m', '9h 50m', '20h 10m', '21h 35m', '2h 20m', '2h 55m', '2h 50m', '4h 40m', '12h 30m', '10h 40m', '22h 45m', '16h 45m', '2h 35m', '24h 55m', '5h 30m', '2h 35m', '26h 35m', '5h 0m', '21h 15m', '1h 30m', '9h 40m', '12h 25m', '2h 50m', '9h 45m', '5h 30m', '9h 50m', '4h 5m', '18h 45m', '2h 50m', '2h 35m', '2h 30m', '10h 5m', '16h 5m', '1h 30m', '5h 0m', '4h 55m', '2h 45m', '2h 45m', '14h 0m', '9h 15m', '12h 0m', '1h 30m', '2h 45m', '21h 25m', '42h 45m', '2h 55m', '2h 45m', '38h 20m', '1h 30m', '1h 30m', '2h 45m', '23h 40m', '2h 55m', '2h 40m', '12h 15m', '8h 15m', '2h 50m', '1h 25m', '11h 0m', '3h 15m', '9h 30m', '4h 55m', '6h 0m', '1h 30m', '10h 10m', '1h 30m', '6h 40m', '2h 35m', '16h 25m', '22h 45m', '7h 50m', '26h 20m', '2h 50m', '19h 30m', '3h 5m', '3h 15m', '2h 20m', '9h 10m', '2h 15m', '6h 0m', '9h 50m', '29h 50m', '6h 25m', '2h 20m', '6h 15m', '2h 40m', '6h 15m', '24h 35m', '5h 45m', '3h 15m', '14h 55m', '3h 40m', '8h 5m', '13h 25m', '1h 25m', '2h 50m', '15h 35m', '7h 20m', '13h 55m', '2h 30m', '2h 50m', '3h 15m', '2h 40m', '26h 15m', '2h 50m', '6h 15m', '3h 0m', '4h 40m', '1h 25m', '12h 0m', '13h 10m', '9h 0m', '6h 10m', '3h 25m', '1h 30m', '2h 30m', '3h 15m', '1h 30m', '10h 15m', '8h 45m', '2h 45m', '5h 0m', '2h 45m', '5h 55m', '3h 35m', '3h 0m', '17h 40m', '2h 50m', '9h 10m', '9h 45m', '2h 55m', '26h 55m', '11h 55m', '11h 30m', '20h 55m', '5h 5m', '19h 45m', '17h 55m', '26h 0m', '11h 45m', '12h 55m', '13h 20m', '13h 30m', '7h 35m', '3h 15m', '18h 25m', '24h 15m', '2h 50m', '2h 40m', '2h 20m', '1h 30m', '2h 50m', '1h 30m', '10h 20m', '12h 25m', '8h 40m', '5h 25m', '2h 55m', '20h 55m', '21h 25m', '1h 30m', '24h 40m', '2h 50m', '2h 15m', '23h 30m', '29h 20m', '5h 15m', '7h 5m', '7h 0m', '1h 30m', '7h 5m', '19h 25m', '29h 35m', '17h 5m', '12h 0m', '2h 45m', '8h 40m', '6h 5m', '13h 20m', '2h 25m', '9h 50m', '13h 40m', '18h 0m', '6h 30m', '8h 30m', '10h 40m', '9h 30m', '4h 30m', '2h 30m', '10h 25m', '2h 45m', '12h 35m', '27h 45m', '21h 45m', '29h 20m', '2h 30m', '15h 30m', '23h 0m', '16h 45m', '4h 40m', '7h 30m', '13h 30m', '10h 35m', '17h 5m', '27h 50m', '13h 25m', '13h 0m', '11h 0m', '15h 5m', '14h 55m', '23h 35m', '23h 35m', '13h 20m', '2h 25m', '2h 30m', '8h 20m', '1h 30m', '14h 10m', '2h 20m', '7h 15m', '5h 25m', '9h 0m', '14h 50m', '1h 25m', '3h 0m', '12h 55m', '2h 35m', '6h 15m', '26h 0m', '1h 30m', '14h 5m', '8h 0m', '12h 10m', '10h 30m', '3h 0m', '5h 15m', '38h 0m', '23h 30m', '27h 50m', '2h 45m', '6h 35m', '8h 0m', '16h 45m', '7h 50m', '10h 30m', '2h 50m', '4h 50m', '3h 0m', '26h 35m', '9h 50m', '2h 50m', '1h 30m', '6h 35m', '12h 10m', '9h 50m', '25h 20m', '37h 10m', '11h 40m', '1h 30m', '2h 35m', '7h 5m', '2h 35m', '19h 55m', '1h 25m', '11h 5m', '4h 40m', '13h 30m', '7h 35m', '1h 25m', '1h 30m', '13h 50m', '8h 35m', '3h 15m', '10h 25m', '2h 20m', '23h 30m', '11h 0m', '18h 0m', '2h 15m', '2h 15m', '12h 35m', '14h 20m', '2h 45m', '15h 40m', '2h 45m', '2h 30m', '2h 20m', '9h 15m', '18h 40m', '2h 50m', '25h 25m', '1h 20m', '2h 30m', '2h 50m', '3h 15m', '25h 45m', '2h 35m', '2h 35m', '8h 10m', '23h 40m', '11h 45m', '9h 20m', '14h 35m', '21h 35m', '6h 25m', '5h 35m', '25h 55m', '10h 15m', '1h 20m', '10h 20m', '2h 15m', '3h 0m', '23h 45m', '13h 15m', '3h 15m', '9h 50m', '18h 20m', '29h 20m', '7h 45m', '2h 25m', '7h 35m', '2h 20m', '3h 10m', '6h 25m', '16h 45m', '10h 25m', '13h 0m', '2h 55m', '2h 35m', '2h 50m', '13h 30m', '13h 15m', '13h 30m', '36h 10m', '2h 25m', '2h 25m', '2h 50m', '12h 10m', '8h 25m', '22h 15m', '3h 5m', '2h 35m', '22h 55m', '2h 15m', '26h 20m', '27h 40m', '16h 45m', '2h 50m', '12h 30m', '5h 15m', '2h 50m', '7h 30m', '11h 55m', '13h 5m', '7h 20m', '2h 20m', '18h 0m', '8h 40m', '2h 50m', '20h 10m', '8h 0m', '27h 20m', '2h 20m', '2h 20m', '38h 0m', '7h 35m', '5h 45m', '2h 50m', '2h 45m', '27h 35m', '3h 0m', '14h 25m', '9h 20m', '9h 50m', '2h 20m', '6h 30m', '7h 35m', '2h 55m', '2h 50m', '17h 55m', '1h 20m', '21h 25m', '1h 30m', '1h 30m', '5h 20m', '10h 0m', '12h 10m', '16h 45m', '2h 50m', '10h 40m', '27h 35m', '25h 50m', '16h 10m', '30h 30m', '20h 10m', '2h 50m', '30h 30m', '26h 55m', '3h 15m', '6h 40m', '3h 0m', '8h 0m', '27h 35m', '2h 50m', '25h 40m', '9h 35m', '2h 30m', '2h 20m', '10h 15m', '7h 5m', '1h 30m', '11h 30m', '2h 45m', '13h 15m', '14h 30m', '7h 5m', '12h 45m', '2h 50m', '2h 50m', '1h 30m', '25h 45m', '2h 30m', '27h 40m', '22h 35m', '2h 55m', '3h 5m', '2h 55m', '6h 30m', '14h 20m', '20h 0m', '7h 45m', '18h 45m', '6h 40m', '2h 55m', '14h 20m', '13h 0m', '2h 20m', '16h 55m', '5h 45m', '19h 20m', '3h 5m', '27h 45m', '2h 45m', '2h 20m', '12h 45m', '17h 45m', '3h 0m', '16h 35m', '26h 10m', '7h 35m', '13h 0m', '2h 40m', '3h 0m', '4h 40m', '23h 50m', '8h 10m', '29h 20m', '2h 45m', '2h 50m', '2h 35m', '19h 5m', '9h 30m', '8h 40m', '22h 5m', '26h 0m', '2h 35m', '7h 50m', '10h 45m', '10h 30m', '14h 5m', '13h 20m', '2h 50m', '1h 30m', '19h 40m', '2h 55m', '23h 20m', '2h 40m', '16h 15m', '1h 30m', '9h 15m', '20h 35m', '2h 15m', '2h 25m', '3h 5m', '2h 50m', '5h 40m', '18h 40m', '25h 0m', '13h 15m', '2h 30m', '8h 20m', '7h 0m', '25h 50m', '2h 55m', '9h 10m', '8h 40m', '2h 50m', '21h 45m', '6h 40m', '1h 30m', '7h 20m', '4h 0m', '14h 5m', '12h 15m', '30h 30m', '27h 0m', '16h 10m', '9h 0m', '5h 55m', '1h 25m', '3h 0m', '7h 5m', '2h 50m', '6h 5m', '2h 45m', '15h 20m', '23h 35m', '23h 50m', '13h 50m', '2h 35m', '4h 5m', '7h 40m', '2h 20m', '9h 35m', '9h 35m', '11h 25m', '12h 10m', '2h 55m', '1h 30m', '3h 10m', '12h 25m', '11h 45m', '11h 5m', '9h 45m', '17h 25m', '15h 0m', '6h 20m', '12h 45m', '1h 30m', '25h 45m', '21h 0m', '9h 20m', '22h 15m', '8h 15m', '12h 30m', '8h 30m', '11h 50m', '10h 30m', '12h 10m', '5h 0m', '2h 35m', '17h 25m', '5h 10m', '9h 30m', '10h 40m', '8h 40m', '9h 40m', '2h 15m', '11h 15m', '23h 30m', '8h 40m', '6h 20m', '23h 50m', '12h 55m', '5h 0m', '13h 15m', '2h 30m', '7h 0m', '6h 35m', '18h 10m', '21h 25m', '24h 55m', '2h 50m', '13h 15m', '22h 10m', '2h 45m', '14h 25m', '2h 20m', '2h 30m', '7h 30m', '5h 45m', '21h 25m', '1h 30m', '7h 15m', '12h 30m', '23h 15m', '12h 5m', '10h 55m', '25h 20m', '1h 30m', '2h 55m', '4h 0m', '20h 10m', '13h 0m', '2h 30m', '7h 5m', '19h 0m', '26h 55m', '12h 20m', '10h 50m', '9h 45m', '9h 35m', '18h 45m', '13h 0m', '2h 40m', '2h 30m', '2h 30m', '5h 55m', '8h 30m', '21h 0m', '2h 50m', '3h 15m', '14h 20m', '8h 40m', '21h 55m', '8h 40m', '2h 50m', '11h 45m', '7h 15m', '5h 0m', '6h 40m', '24h 0m', '5h 25m', '27h 0m', '7h 0m', '10h 5m', '3h 0m', '9h 10m', '15h 0m', '2h 35m', '5h 0m', '1h 20m', '1h 30m', '24h 40m', '2h 45m', '18h 45m', '2h 50m', '2h 40m', '12h 0m', '11h 5m', '26h 20m', '21h 25m', '5h 45m', '14h 0m', '1h 30m', '2h 50m', '22h 35m', '2h 55m', '17h 5m', '1h 30m', '14h 35m', '2h 35m', '12h 45m', '3h 0m', '12h 35m', '2h 20m', '17h 50m', '12h 20m', '14h 25m', '29h 20m', '2h 50m', '25h 50m', '22h 55m', '13h 0m', '22h 35m', '7h 20m', '2h 20m', '13h 20m', '8h 40m', '12h 25m', '2h 50m', '2h 45m', '2h 35m', '3h 15m', '30h 55m', '9h 30m', '13h 20m', '15h 20m', '23h 40m', '5h 45m', '8h 20m', '1h 25m', '2h 20m', '20h 55m', '3h 0m', '9h 20m', '1h 25m', '20h 5m', '22h 25m', '22h 30m', '9h 50m', '18h 10m', '2h 20m', '11h 45m', '11h 0m', '1h 25m', '26h 10m', '23h 40m', '15h 20m', '11h 0m', '2h 50m', '5h 25m', '19h 40m', '15h 10m', '1h 30m', '27h 5m', '32h 5m', '13h 30m', '26h 10m', '23h 40m', '6h 55m', '3h 0m', '2h 30m', '15h 25m', '2h 35m', '2h 50m', '6h 30m', '25h 40m', '2h 50m', '2h 35m', '8h 30m', '12h 15m', '7h 35m', '10h 30m', '2h 30m', '9h 30m', '8h 35m', '16h 15m', '3h 15m', '5h 15m', '2h 50m', '2h 50m', '16h 0m', '22h 55m', '6h 55m', '2h 35m', '2h 35m', '9h 15m', '26h 10m', '12h 0m', '21h 40m', '2h 45m', '12h 0m', '27h 20m', '23h 50m', '12h 30m', '9h 10m', '12h 20m', '1h 30m', '5h 30m', '28h 0m', '3h 0m', '1h 30m', '2h 45m', '5h 20m', '26h 30m', '26h 55m', '11h 5m', '2h 30m', '1h 30m', '7h 30m', '29h 5m', '17h 35m', '24h 55m', '29h 20m', '3h 0m', '2h 40m', '5h 25m', '23h 50m', '30h 40m', '2h 45m', '11h 50m', '2h 35m', '20h 25m', '27h 0m', '2h 40m', '1h 30m', '1h 30m', '2h 30m', '2h 35m', '2h 50m', '2h 20m', '2h 45m', '2h 25m', '5h 40m', '27h 40m', '2h 20m', '5h 0m', '2h 35m', '11h 30m', '26h 15m', '16h 45m', '18h 10m', '1h 30m', '13h 25m', '12h 0m', '2h 15m', '15h 10m', '6h 0m', '23h 15m', '7h 15m', '11h 30m', '12h 35m', '10h 0m', '3h 0m', '23h 50m', '2h 40m', '19h 0m', '1h 30m', '2h 50m', '2h 50m', '14h 40m', '2h 45m', '1h 30m', '30h 30m', '6h 0m', '29h 30m', '2h 30m', '15h 10m', '26h 50m', '28h 5m', '10h 10m', '7h 30m', '8h 40m', '34h 30m', '26h 55m', '2h 55m', '13h 15m', '1h 35m', '2h 45m', '2h 40m', '2h 35m', '27h 5m', '20h 35m', '3h 0m', '3h 15m', '4h 30m', '3h 5m', '11h 0m', '27h 5m', '6h 35m', '26h 10m', '23h 55m', '2h 30m', '13h 30m', '6h 30m', '2h 35m', '5h 30m', '12h 10m', '18h 20m', '22h 55m', '2h 45m', '11h 30m', '8h 20m', '4h 45m', '28h 0m', '2h 20m', '3h 0m', '9h 20m', '22h 10m', '2h 45m', '8h 25m', '15h 20m', '2h 45m', '5h 20m', '19h 30m', '3h 0m', '2h 35m', '13h 30m', '26h 0m', '2h 45m', '2h 30m', '25h 45m', '24h 10m', '15h 55m', '5h 40m', '26h 25m', '2h 20m', '9h 50m', '8h 0m', '29h 35m', '37h 25m', '7h 35m', '6h 35m', '9h 30m', '14h 15m', '7h 5m', '8h 0m', '1h 30m', '1h 25m', '13h 15m', '1h 25m', '2h 45m', '18h 10m', '25h 40m', '22h 0m', '5h 10m', '5h 15m', '2h 55m', '24h 0m', '6h 40m', '17h 40m', '26h 35m', '2h 35m', '17h 5m', '3h 15m', '3h 15m', '2h 35m', '12h 15m', '3h 35m', '11h 40m', '7h 5m', '1h 30m', '16h 5m', '13h 20m', '1h 25m', '24h 15m', '2h 55m', '19h 5m', '1h 30m', '26h 10m', '11h 45m', '27h 35m', '3h 0m', '1h 25m', '12h 45m', '24h 0m', '15h 55m', '28h 50m', '14h 0m', '2h 35m', '14h 35m', '2h 30m', '22h 30m', '3h 0m', '27h 0m', '27h 20m', '2h 40m', '11h 45m', '22h 25m', '2h 50m', '2h 40m', '2h 25m', '8h 25m', '3h 5m', '10h 40m', '20h 0m', '14h 50m', '21h 25m', '6h 0m', '4h 30m', '27h 10m', '2h 55m', '4h 50m', '2h 25m', '20h 0m', '2h 35m', '23h 10m', '10h 10m', '1h 30m', '10h 25m', '5h 35m', '9h 0m', '17h 45m', '11h 15m', '6h 15m', '13h 30m', '26h 35m', '9h 0m', '2h 40m', '7h 35m', '14h 45m', '6h 10m', '2h 45m', '7h 40m', '1h 30m', '14h 25m', '11h 30m', '3h 15m', '8h 30m', '2h 15m', '2h 45m', '4h 30m', '3h 40m', '14h 0m', '1h 30m', '9h 25m', '2h 15m', '2h 55m', '13h 20m', '2h 20m', '6h 40m', '11h 45m', '4h 55m', '8h 35m', '16h 5m', '5h 5m', '6h 5m', '6h 25m', '9h 50m', '1h 20m', '19h 25m', '9h 20m', '16h 45m', '8h 5m', '2h 50m', '17h 25m', '2h 15m', '19h 55m', '14h 20m', '6h 15m', '12h 0m', '5h 15m', '22h 55m', '3h 0m', '13h 15m', '26h 0m', '26h 0m', '15h 30m', '3h 0m', '2h 30m', '24h 0m', '20h 55m', '22h 0m', '2h 40m', '9h 35m', '3h 0m', '2h 45m', '8h 0m', '15h 0m', '37h 25m', '13h 20m', '11h 50m', '9h 45m', '2h 20m', '2h 50m', '2h 50m', '33h 15m', '17h 45m', '13h 50m', '4h 30m', '2h 50m', '13h 50m', '2h 25m', '2h 40m', '13h 55m', '9h 10m', '13h 25m', '14h 35m', '2h 55m', '18h 45m', '5h 55m', '26h 30m', '8h 40m', '12h 10m', '2h 40m', '23h 15m', '12h 25m', '3h 0m', '13h 55m', '14h 5m', '3h 0m', '3h 10m', '2h 50m', '4h 35m', '11h 55m', '5h 40m', '11h 45m', '6h 10m', '13h 50m', '11h 25m', '20h 20m', '3h 0m', '3h 10m', '23h 40m', '9h 35m', '13h 45m', '12h 45m', '6h 25m', '13h 50m', '2h 35m', '2h 20m', '2h 45m', '6h 35m', '1h 15m', '3h 0m', '13h 25m', '12h 35m', '24h 30m', '29h 20m', '1h 25m', '9h 30m', '2h 30m', '8h 30m', '2h 50m', '2h 20m', '10h 15m', '2h 30m', '7h 5m', '10h 15m', '3h 15m', '2h 50m', '10h 25m', '10h 30m', '10h 55m', '2h 50m', '11h 40m', '18h 45m', '6h 25m', '1h 30m', '2h 20m', '7h 5m', '4h 25m', '10h 30m', '5h 10m', '2h 50m', '22h 25m', '10h 0m', '38h 0m', '1h 30m', '26h 35m', '12h 10m', '9h 30m', '2h 55m', '24h 40m', '4h 35m', '16h 5m', '2h 15m', '10h 15m', '2h 45m', '8h 0m', '13h 55m', '12h 25m', '18h 25m', '17h 45m', '1h 20m', '2h 55m', '2h 50m', '15h 20m', '14h 5m', '1h 30m', '18h 25m', '2h 50m', '6h 0m', '2h 50m', '12h 25m', '2h 50m', '1h 20m', '1h 30m', '11h 35m', '9h 20m', '27h 5m', '2h 55m', '15h 10m', '23h 15m', '8h 10m', '2h 35m', '12h 10m', '9h 30m', '6h 35m', '7h 5m', '9h 50m', '32h 5m', '14h 55m', '29h 20m', '9h 20m', '25h 0m', '25h 25m', '7h 45m', '2h 30m', '2h 50m', '6h 25m', '28h 10m', '26h 40m', '6h 10m', '23h 15m', '6h 35m', '3h 10m', '15h 25m', '20h 10m', '2h 50m', '25h 35m', '1h 25m', '2h 40m', '11h 5m', '38h 15m', '2h 50m', '9h 50m', '8h 0m', '9h 30m', '5h 50m', '6h 0m', '2h 35m', '5h 0m', '8h 15m', '3h 0m', '9h 0m', '2h 15m', '7h 0m', '2h 35m', '7h 30m', '8h 40m', '13h 20m', '27h 0m', '27h 10m', '1h 30m', '9h 0m', '27h 10m', '3h 5m', '4h 0m', '5h 55m', '2h 15m', '22h 55m', '6h 40m', '5h 30m', '23h 0m', '15h 10m', '7h 30m', '14h 0m', '3h 0m', '18h 45m', '2h 50m', '18h 50m', '17h 5m', '21h 25m', '2h 55m', '12h 15m', '2h 35m', '14h 20m', '1h 30m', '3h 0m', '2h 50m', '2h 45m', '3h 40m', '6h 0m', '1h 30m', '25h 15m', '2h 55m', '4h 25m', '5h 0m', '7h 5m', '26h 55m', '9h 20m', '13h 0m', '6h 0m', '29h 20m', '2h 15m', '24h 45m', '26h 25m', '19h 15m', '22h 55m', '2h 50m', '15h 20m', '16h 0m', '14h 45m', '6h 25m', '22h 55m', '5h 0m', '1h 30m', '2h 15m', '2h 30m', '26h 55m', '5h 45m', '1h 30m', '5h 5m', '2h 50m', '15h 35m', '25h 0m', '2h 50m', '13h 20m', '28h 50m', '7h 20m', '2h 30m', '2h 20m', '9h 30m', '2h 20m', '9h 15m', '2h 40m', '1h 30m', '1h 25m', '13h 20m', '8h 55m', '11h 40m', '27h 0m', '13h 15m', '1h 30m', '12h 30m', '11h 40m', '6h 55m', '7h 50m', '2h 55m', '15h 50m', '14h 35m', '13h 30m', '8h 40m', '22h 45m', '1h 30m', '24h 45m', '15h 55m', '2h 50m', '7h 15m', '5h 50m', '15h 20m', '14h 25m', '21h 25m', '2h 20m', '8h 40m', '38h 15m', '3h 15m', '14h 40m', '4h 55m', '12h 25m', '22h 0m', '15h 40m', '13h 0m', '23h 5m', '2h 20m', '16h 50m', '3h 0m', '3h 0m', '2h 35m', '3h 0m', '2h 35m', '6h 5m', '9h 35m', '5h 30m', '16h 5m', '11h 15m', '2h 40m', '13h 45m', '7h 45m', '2h 50m', '22h 35m', '5h 15m', '1h 30m', '10h 30m', '5h 20m', '37h 20m', '15h 25m', '19h 45m', '14h 55m', '25h 30m', '3h 0m', '15h 20m', '24h 40m', '2h 15m', '21h 35m', '2h 45m', '11h 45m', '8h 20m', '11h 30m', '23h 40m', '15h 35m', '27h 20m', '15h 10m', '8h 40m', '8h 0m', '14h 5m', '2h 55m', '8h 20m', '7h 35m', '13h 20m', '3h 0m', '18h 35m', '21h 10m', '13h 30m', '12h 35m', '15h 45m', '18h 10m', '21h 45m', '22h 5m', '6h 20m', '22h 0m', '15h 30m', '24h 0m', '19h 25m', '4h 55m', '22h 30m', '16h 45m', '20h 25m', '26h 35m', '25h 15m', '2h 55m', '9h 0m', '5h 10m', '2h 55m', '7h 30m', '24h 45m', '2h 50m', '16h 20m', '14h 35m', '14h 20m', '2h 50m', '13h 30m', '2h 50m', '2h 35m', '2h 20m', '2h 35m', '3h 10m', '25h 0m', '14h 30m', '5h 5m', '26h 15m', '8h 10m', '1h 25m', '24h 50m', '28h 0m', '8h 25m', '7h 5m', '5h 0m', '2h 20m', '28h 20m', '14h 10m', '7h 45m', '14h 0m', '25h 0m', '11h 30m', '4h 35m', '2h 45m', '10h 15m', '15h 10m', '12h 10m', '21h 35m', '25h 50m', '6h 30m', '6h 35m', '9h 0m', '2h 55m', '3h 0m', '18h 45m', '6h 5m', '13h 0m', '9h 5m', '2h 20m', '2h 30m', '5h 10m', '7h 5m', '1h 15m', '2h 50m', '7h 5m', '14h 30m', '18h 25m', '13h 30m', '30h 20m', '29h 35m', '6h 35m', '26h 40m', '6h 5m', '14h 5m', '2h 30m', '7h 30m', '16h 5m', '2h 55m', '27h 20m', '20h 15m', '10h 35m', '6h 20m', '4h 0m', '2h 45m', '2h 20m', '2h 55m', '9h 30m', '6h 20m', '2h 55m', '8h 35m', '3h 0m', '13h 50m', '21h 0m', '24h 25m', '23h 0m', '27h 20m', '5h 25m', '2h 25m', '16h 5m', '11h 30m', '24h 10m', '17h 55m', '5h 45m', '2h 55m', '25h 5m', '8h 15m', '2h 20m', '39h 5m', '5h 0m', '2h 50m', '2h 50m', '24h 10m', '2h 50m', '12h 0m', '2h 45m', '23h 30m', '15h 0m', '2h 35m', '21h 50m', '2h 55m', '2h 15m', '22h 15m', '4h 30m', '2h 15m', '21h 35m', '16h 5m', '14h 50m', '16h 55m', '7h 15m', '19h 30m', '2h 30m', '7h 0m', '9h 45m', '23h 45m', '8h 40m', '14h 25m', '7h 15m', '13h 50m', '6h 25m', '3h 0m', '10h 30m', '14h 40m', '2h 45m', '14h 25m', '14h 35m', '9h 10m', '21h 15m', '18h 10m', '2h 35m', '13h 25m', '26h 35m', '8h 20m', '1h 30m', '11h 30m', '3h 15m', '12h 0m', '1h 30m', '11h 5m', '1h 25m', '7h 15m', '2h 50m', '24h 0m', '25h 35m', '1h 35m', '2h 55m', '18h 45m', '6h 50m', '2h 45m', '9h 20m', '12h 30m', '5h 15m', '3h 0m', '15h 20m', '24h 30m', '2h 25m', '13h 20m', '13h 50m', '7h 35m', '13h 20m', '8h 20m', '8h 55m', '23h 50m', '9h 5m', '26h 30m', '1h 30m', '10h 10m', '2h 25m', '22h 35m', '1h 30m', '7h 50m', '2h 30m', '3h 10m', '1h 15m', '1h 30m', '2h 20m', '2h 25m', '25h 45m', '26h 20m', '28h 0m', '2h 55m', '1h 20m', '25h 25m', '27h 5m', '2h 35m', '2h 50m', '5h 30m', '3h 10m', '5h 45m', '9h 45m', '9h 50m', '22h 5m', '8h 25m', '26h 30m', '13h 45m', '7h 45m', '1h 30m', '11h 0m', '7h 50m', '33h 15m', '14h 55m', '6h 0m', '19h 10m', '25h 45m', '9h 35m', '21h 20m', '26h 20m', '24h 35m', '3h 0m', '5h 30m', '2h 25m', '2h 45m', '2h 55m', '21h 15m', '23h 40m', '32h 20m', '16h 5m', '9h 35m', '13h 50m', '10h 25m', '3h 0m', '10h 30m', '9h 50m', '2h 25m', '2h 20m', '12h 45m', '26h 50m', '4h 55m', '10h 30m', '18h 20m', '8h 25m', '7h 15m', '7h 15m', '2h 15m', '10h 45m', '1h 30m', '10h 25m', '11h 45m', '2h 50m', '2h 50m', '13h 30m', '11h 55m', '5h 20m', '13h 15m', '2h 55m', '10h 45m', '2h 35m', '9h 0m', '9h 35m', '2h 50m', '4h 30m', '2h 20m', '2h 20m', '11h 40m', '3h 40m', '2h 20m', '12h 15m', '9h 5m', '23h 15m', '13h 30m', '38h 15m', '1h 30m', '24h 45m', '1h 25m', '18h 20m', '8h 40m', '6h 45m', '5h 30m', '14h 5m', '26h 55m', '1h 30m', '2h 35m', '2h 50m', '28h 5m', '27h 0m', '2h 50m', '9h 45m', '12h 10m', '5h 0m', '2h 15m', '21h 10m', '17h 35m', '1h 25m', '22h 15m', '2h 35m', '14h 55m', '9h 50m', '2h 20m', '1h 30m', '15h 55m', '11h 55m', '7h 15m', '2h 35m', '17h 5m', '7h 5m', '12h 35m', '26h 35m', '1h 30m', '20h 25m', '3h 5m', '19h 40m', '22h 55m', '7h 20m', '14h 30m', '2h 50m', '2h 50m', '5h 0m', '13h 30m', '2h 50m', '20h 35m', '13h 20m', '11h 15m', '22h 40m', '2h 50m', '2h 35m', '9h 50m', '2h 20m', '10h 30m', '8h 55m', '6h 15m', '2h 35m', '2h 20m', '13h 25m', '10h 30m', '2h 50m', '11h 5m', '13h 45m', '25h 40m', '8h 20m', '14h 35m', '2h 55m', '5h 5m', '8h 55m', '2h 50m', '1h 35m', '2h 40m', '2h 20m', '29h 5m', '5h 30m', '17h 25m', '12h 0m', '6h 30m', '2h 45m', '2h 55m', '26h 50m', '24h 40m', '27h 5m', '4h 55m', '20h 50m', '2h 15m', '14h 20m', '2h 40m', '22h 55m', '6h 15m', '3h 15m', '2h 55m', '6h 40m', '11h 0m', '4h 35m', '2h 45m', '28h 0m', '31h 40m', '27h 20m', '2h 45m', '8h 45m', '14h 55m', '2h 15m', '16h 25m', '11h 5m', '5h 0m', '11h 5m', '5h 45m', '14h 45m', '2h 30m', '1h 30m', '1h 30m', '28h 15m', '23h 20m', '7h 35m', '21h 25m', '10h 45m', '2h 35m', '12h 15m', '2h 50m', '25h 50m', '23h 0m', '26h 0m', '10h 55m', '5h 45m', '7h 15m', '12h 15m', '15h 20m', '2h 35m', '11h 55m', '7h 5m', '14h 55m', '10h 50m', '27h 35m', '11h 50m', '5h 30m', '8h 35m', '11h 0m', '2h 50m', '4h 45m', '9h 15m', '13h 25m', '6h 30m', '1h 25m', '7h 45m', '18h 20m', '10h 0m', '20h 10m', '8h 10m', '11h 40m', '10h 50m', '12h 10m', '9h 20m', '2h 45m', '8h 0m', '9h 5m', '2h 30m', '1h 30m', '5h 30m', '23h 5m', '1h 25m', '16h 5m', '3h 0m', '13h 25m', '1h 30m', '13h 20m', '3h 0m', '21h 25m', '5h 10m', '22h 0m', '2h 30m', '24h 40m', '9h 0m', '1h 30m', '2h 50m', '24h 45m', '30h 40m', '12h 5m', '3h 5m', '16h 55m', '2h 50m', '2h 50m', '25h 35m', '22h 0m', '9h 55m', '20h 20m', '28h 20m', '7h 15m', '2h 20m', '22h 25m', '16h 45m', '6h 55m', '5h 10m', '2h 35m', '9h 50m', '27h 10m', '2h 55m', '1h 20m', '3h 0m', '4h 30m', '16h 5m', '10h 15m', '14h 25m', '12h 45m', '4h 40m', '2h 30m', '25h 40m', '28h 50m', '2h 20m', '10h 35m', '12h 15m', '2h 45m', '5h 0m', '2h 45m', '26h 55m', '9h 35m', '17h 25m', '10h 25m', '17h 25m', '2h 45m', '7h 55m', '24h 50m', '13h 55m', '10h 30m', '10h 15m', '13h 20m', '8h 40m', '9h 25m', '3h 10m', '3h 15m', '7h 30m', '3h 0m', '2h 45m', '7h 35m', '2h 30m', '21h 40m', '2h 50m', '26h 10m', '16h 10m', '3h 5m', '1h 30m', '21h 15m', '26h 55m', '26h 20m', '23h 0m', '2h 35m', '22h 45m', '24h 55m', '2h 15m', '8h 5m', '10h 0m', '3h 0m', '23h 10m', '5h 35m', '23h 15m', '1h 30m', '15h 20m', '9h 30m', '8h 25m', '10h 10m', '1h 25m', '27h 5m', '22h 35m', '14h 25m', '4h 55m', '24h 0m', '30h 20m', '23h 10m', '1h 30m', '6h 35m', '12h 0m', '2h 30m', '12h 25m', '1h 15m', '13h 30m', '2h 30m', '13h 10m', '21h 35m', '2h 30m', '5h 45m', '11h 15m', '2h 15m', '9h 30m', '2h 25m', '24h 0m', '1h 20m', '2h 15m', '21h 5m', '2h 50m', '7h 30m', '5h 15m', '8h 30m', '4h 55m', '1h 30m', '3h 0m', '2h 50m', '8h 30m', '23h 15m', '14h 25m', '2h 50m', '19h 0m', '2h 55m', '40h 20m', '2h 35m', '2h 45m', '10h 40m', '9h 20m', '8h 40m', '9h 0m', '31h 55m', '6h 35m', '3h 0m', '2h 45m', '5h 55m', '10h 25m', '13h 20m', '14h 25m', '8h 30m', '2h 20m', '13h 0m', '22h 15m', '2h 50m', '2h 35m', '23h 45m', '23h 40m', '1h 30m', '28h 20m', '13h 35m', '2h 50m', '21h 0m', '12h 35m', '1h 20m', '1h 30m', '14h 0m', '2h 20m', '9h 25m', '26h 0m', '7h 55m', '6h 5m', '15h 10m', '4h 40m', '2h 50m', '14h 30m', '1h 30m', '8h 50m', '2h 35m', '12h 25m', '27h 20m', '2h 35m', '1h 25m', '2h 45m', '27h 0m', '2h 50m', '26h 30m', '16h 45m', '13h 0m', '2h 55m', '14h 25m', '11h 5m', '22h 5m', '1h 15m', '7h 35m', '2h 35m', '7h 5m', '1h 30m', '19h 25m', '2h 35m', '6h 55m', '29h 20m', '2h 45m', '16h 55m', '9h 50m', '18h 45m', '28h 20m', '3h 15m', '16h 25m', '2h 55m', '3h 0m', '11h 45m', '6h 15m', '25h 55m', '2h 15m', '26h 35m', '2h 55m', '23h 45m', '25h 45m', '10h 0m', '12h 35m', '2h 50m', '3h 0m', '9h 45m', '3h 5m', '2h 35m', '2h 55m', '2h 20m', '5h 25m', '26h 35m', '6h 5m', '9h 5m', '2h 50m', '15h 20m', '2h 30m', '3h 0m', '11h 30m', '24h 10m', '2h 35m', '3h 0m', '2h 30m', '2h 55m', '1h 30m', '13h 55m', '4h 5m', '9h 50m', '7h 15m', '7h 15m', '14h 20m', '2h 55m', '20h 35m', '3h 0m', '7h 20m', '7h 55m', '30h 20m', '2h 25m', '4h 55m', '19h 5m', '27h 40m', '14h 25m', '27h 40m', '24h 35m', '26h 55m', '9h 5m', '3h 15m', '47h 40m', '11h 45m', '7h 45m', '1h 20m', '1h 30m', '2h 45m', '1h 25m', '1h 25m', '6h 45m', '2h 50m', '13h 25m', '2h 50m', '2h 55m', '2h 15m', '2h 30m', '5h 20m', '2h 55m', '23h 10m', '13h 50m', '24h 45m', '13h 25m', '2h 50m', '23h 40m', '20h 10m', '2h 45m', '5h 10m', '16h 15m', '22h 45m', '21h 25m', '2h 20m', '10h 15m', '8h 25m', '2h 50m', '2h 25m', '3h 10m', '11h 0m', '7h 40m', '1h 25m', '3h 15m', '13h 20m', '3h 0m', '17h 5m', '16h 50m', '2h 45m', '18h 10m', '8h 35m', '1h 30m', '2h 45m', '14h 30m', '14h 0m', '23h 30m', '8h 30m', '15h 30m', '3h 15m', '2h 55m', '26h 40m', '3h 0m', '1h 20m', '8h 20m', '2h 45m', '2h 45m', '2h 50m', '19h 55m', '2h 35m', '22h 5m', '2h 35m', '10h 20m', '1h 35m', '7h 20m', '13h 0m', '18h 45m', '8h 20m', '11h 15m', '3h 0m', '4h 0m', '1h 25m', '2h 35m', '2h 40m', '2h 25m', '12h 15m', '10h 30m', '6h 15m', '15h 10m', '12h 45m', '24h 30m', '1h 25m', '5h 40m', '2h 45m', '7h 35m', '2h 45m', '25h 45m', '13h 30m', '26h 35m', '5h 30m', '2h 30m', '24h 50m', '9h 35m', '13h 25m', '13h 30m', '30h 40m', '20h 50m', '2h 55m', '13h 30m', '22h 15m', '19h 15m', '18h 55m', '25h 55m', '21h 5m', '2h 50m', '28h 15m', '27h 20m', '5h 45m', '2h 20m', '2h 20m', '20h 55m', '20h 0m', '8h 40m', '26h 35m', '4h 25m', '20h 20m', '1h 30m', '20h 55m', '12h 15m', '9h 15m', '19h 25m', '10h 15m', '6h 40m', '10h 15m', '24h 45m', '7h 15m', '2h 55m', '6h 20m', '1h 35m', '22h 55m', '2h 45m', '23h 0m', '17h 5m', '4h 30m', '13h 30m', '9h 30m', '26h 35m', '2h 55m', '24h 45m', '26h 40m', '8h 10m', '10h 40m', '26h 40m', '5h 25m', '2h 50m', '2h 55m', '11h 25m', '16h 25m', '22h 10m', '1h 30m', '2h 20m', '1h 25m', '13h 20m', '3h 5m', '15h 15m', '2h 55m', '26h 55m', '1h 30m', '2h 35m', '5h 45m', '2h 35m', '2h 35m', '16h 10m', '19h 55m', '26h 20m', '7h 20m', '2h 55m', '22h 15m', '5h 30m', '9h 5m', '26h 45m', '5h 45m', '17h 55m', '7h 15m', '26h 55m', '13h 45m', '5h 30m', '3h 5m', '14h 0m', '38h 0m', '24h 35m', '2h 20m', '26h 50m', '6h 30m', '8h 25m', '8h 25m', '13h 30m', '3h 15m', '26h 20m', '2h 40m', '8h 25m', '7h 40m', '25h 35m', '21h 55m', '2h 40m', '1h 25m', '2h 40m', '13h 20m', '2h 55m', '2h 50m', '2h 55m', '6h 15m', '20h 10m', '17h 5m', '2h 55m', '2h 30m', '24h 45m', '21h 25m', '7h 20m', '11h 15m', '17h 25m', '1h 20m', '19h 55m', '15h 0m', '24h 45m', '1h 20m', '8h 40m', '2h 40m', '2h 30m', '2h 35m', '3h 0m', '2h 40m', '8h 20m']\n"
          ],
          "name": "stdout"
        }
      ]
    },
    {
      "cell_type": "code",
      "metadata": {
        "id": "KiwwcGAybKuE"
      },
      "source": [
        "# Adding duration_hours and duration_mins list to train_data dataframe\n",
        "dataset[\"Duration_hours\"] = duration_hours\n",
        "dataset[\"Duration_mins\"] = duration_mins"
      ],
      "execution_count": null,
      "outputs": []
    },
    {
      "cell_type": "code",
      "metadata": {
        "id": "HqF7eN4dbKuE"
      },
      "source": [
        "dataset.drop([\"Duration\"], axis = 1, inplace = True)"
      ],
      "execution_count": null,
      "outputs": []
    },
    {
      "cell_type": "code",
      "metadata": {
        "id": "TliyVCARbKuE",
        "colab": {
          "base_uri": "https://localhost:8080/",
          "height": 402
        },
        "outputId": "a7089b93-edd8-4327-e506-8efe15c1221b"
      },
      "source": [
        "dataset"
      ],
      "execution_count": null,
      "outputs": [
        {
          "output_type": "execute_result",
          "data": {
            "text/html": [
              "<div>\n",
              "<style scoped>\n",
              "    .dataframe tbody tr th:only-of-type {\n",
              "        vertical-align: middle;\n",
              "    }\n",
              "\n",
              "    .dataframe tbody tr th {\n",
              "        vertical-align: top;\n",
              "    }\n",
              "\n",
              "    .dataframe thead th {\n",
              "        text-align: right;\n",
              "    }\n",
              "</style>\n",
              "<table border=\"1\" class=\"dataframe\">\n",
              "  <thead>\n",
              "    <tr style=\"text-align: right;\">\n",
              "      <th></th>\n",
              "      <th>Airline</th>\n",
              "      <th>Source</th>\n",
              "      <th>Destination</th>\n",
              "      <th>Total_Stops</th>\n",
              "      <th>Price</th>\n",
              "      <th>Journey_day</th>\n",
              "      <th>Journey_month</th>\n",
              "      <th>Dep_hour</th>\n",
              "      <th>Dep_min</th>\n",
              "      <th>Arrival_hour</th>\n",
              "      <th>Arrival_min</th>\n",
              "      <th>Duration_hours</th>\n",
              "      <th>Duration_mins</th>\n",
              "    </tr>\n",
              "  </thead>\n",
              "  <tbody>\n",
              "    <tr>\n",
              "      <th>0</th>\n",
              "      <td>IndiGo</td>\n",
              "      <td>Banglore</td>\n",
              "      <td>New Delhi</td>\n",
              "      <td>non-stop</td>\n",
              "      <td>3897</td>\n",
              "      <td>24</td>\n",
              "      <td>3</td>\n",
              "      <td>22</td>\n",
              "      <td>20</td>\n",
              "      <td>1</td>\n",
              "      <td>10</td>\n",
              "      <td>2</td>\n",
              "      <td>50</td>\n",
              "    </tr>\n",
              "    <tr>\n",
              "      <th>1</th>\n",
              "      <td>Air India</td>\n",
              "      <td>Kolkata</td>\n",
              "      <td>Banglore</td>\n",
              "      <td>2 stops</td>\n",
              "      <td>7662</td>\n",
              "      <td>1</td>\n",
              "      <td>5</td>\n",
              "      <td>5</td>\n",
              "      <td>50</td>\n",
              "      <td>13</td>\n",
              "      <td>15</td>\n",
              "      <td>7</td>\n",
              "      <td>25</td>\n",
              "    </tr>\n",
              "    <tr>\n",
              "      <th>2</th>\n",
              "      <td>Jet Airways</td>\n",
              "      <td>Delhi</td>\n",
              "      <td>Cochin</td>\n",
              "      <td>2 stops</td>\n",
              "      <td>13882</td>\n",
              "      <td>9</td>\n",
              "      <td>6</td>\n",
              "      <td>9</td>\n",
              "      <td>25</td>\n",
              "      <td>4</td>\n",
              "      <td>25</td>\n",
              "      <td>19</td>\n",
              "      <td>0</td>\n",
              "    </tr>\n",
              "    <tr>\n",
              "      <th>3</th>\n",
              "      <td>IndiGo</td>\n",
              "      <td>Kolkata</td>\n",
              "      <td>Banglore</td>\n",
              "      <td>1 stop</td>\n",
              "      <td>6218</td>\n",
              "      <td>12</td>\n",
              "      <td>5</td>\n",
              "      <td>18</td>\n",
              "      <td>5</td>\n",
              "      <td>23</td>\n",
              "      <td>30</td>\n",
              "      <td>5</td>\n",
              "      <td>25</td>\n",
              "    </tr>\n",
              "    <tr>\n",
              "      <th>4</th>\n",
              "      <td>IndiGo</td>\n",
              "      <td>Banglore</td>\n",
              "      <td>New Delhi</td>\n",
              "      <td>1 stop</td>\n",
              "      <td>13302</td>\n",
              "      <td>1</td>\n",
              "      <td>3</td>\n",
              "      <td>16</td>\n",
              "      <td>50</td>\n",
              "      <td>21</td>\n",
              "      <td>35</td>\n",
              "      <td>4</td>\n",
              "      <td>45</td>\n",
              "    </tr>\n",
              "    <tr>\n",
              "      <th>...</th>\n",
              "      <td>...</td>\n",
              "      <td>...</td>\n",
              "      <td>...</td>\n",
              "      <td>...</td>\n",
              "      <td>...</td>\n",
              "      <td>...</td>\n",
              "      <td>...</td>\n",
              "      <td>...</td>\n",
              "      <td>...</td>\n",
              "      <td>...</td>\n",
              "      <td>...</td>\n",
              "      <td>...</td>\n",
              "      <td>...</td>\n",
              "    </tr>\n",
              "    <tr>\n",
              "      <th>10678</th>\n",
              "      <td>Air Asia</td>\n",
              "      <td>Kolkata</td>\n",
              "      <td>Banglore</td>\n",
              "      <td>non-stop</td>\n",
              "      <td>4107</td>\n",
              "      <td>9</td>\n",
              "      <td>4</td>\n",
              "      <td>19</td>\n",
              "      <td>55</td>\n",
              "      <td>22</td>\n",
              "      <td>25</td>\n",
              "      <td>2</td>\n",
              "      <td>30</td>\n",
              "    </tr>\n",
              "    <tr>\n",
              "      <th>10679</th>\n",
              "      <td>Air India</td>\n",
              "      <td>Kolkata</td>\n",
              "      <td>Banglore</td>\n",
              "      <td>non-stop</td>\n",
              "      <td>4145</td>\n",
              "      <td>27</td>\n",
              "      <td>4</td>\n",
              "      <td>20</td>\n",
              "      <td>45</td>\n",
              "      <td>23</td>\n",
              "      <td>20</td>\n",
              "      <td>2</td>\n",
              "      <td>35</td>\n",
              "    </tr>\n",
              "    <tr>\n",
              "      <th>10680</th>\n",
              "      <td>Jet Airways</td>\n",
              "      <td>Banglore</td>\n",
              "      <td>Delhi</td>\n",
              "      <td>non-stop</td>\n",
              "      <td>7229</td>\n",
              "      <td>27</td>\n",
              "      <td>4</td>\n",
              "      <td>8</td>\n",
              "      <td>20</td>\n",
              "      <td>11</td>\n",
              "      <td>20</td>\n",
              "      <td>3</td>\n",
              "      <td>0</td>\n",
              "    </tr>\n",
              "    <tr>\n",
              "      <th>10681</th>\n",
              "      <td>Vistara</td>\n",
              "      <td>Banglore</td>\n",
              "      <td>New Delhi</td>\n",
              "      <td>non-stop</td>\n",
              "      <td>12648</td>\n",
              "      <td>1</td>\n",
              "      <td>3</td>\n",
              "      <td>11</td>\n",
              "      <td>30</td>\n",
              "      <td>14</td>\n",
              "      <td>10</td>\n",
              "      <td>2</td>\n",
              "      <td>40</td>\n",
              "    </tr>\n",
              "    <tr>\n",
              "      <th>10682</th>\n",
              "      <td>Air India</td>\n",
              "      <td>Delhi</td>\n",
              "      <td>Cochin</td>\n",
              "      <td>2 stops</td>\n",
              "      <td>11753</td>\n",
              "      <td>9</td>\n",
              "      <td>5</td>\n",
              "      <td>10</td>\n",
              "      <td>55</td>\n",
              "      <td>19</td>\n",
              "      <td>15</td>\n",
              "      <td>8</td>\n",
              "      <td>20</td>\n",
              "    </tr>\n",
              "  </tbody>\n",
              "</table>\n",
              "<p>10682 rows × 13 columns</p>\n",
              "</div>"
            ],
            "text/plain": [
              "           Airline    Source  ... Duration_hours Duration_mins\n",
              "0           IndiGo  Banglore  ...              2            50\n",
              "1        Air India   Kolkata  ...              7            25\n",
              "2      Jet Airways     Delhi  ...             19             0\n",
              "3           IndiGo   Kolkata  ...              5            25\n",
              "4           IndiGo  Banglore  ...              4            45\n",
              "...            ...       ...  ...            ...           ...\n",
              "10678     Air Asia   Kolkata  ...              2            30\n",
              "10679    Air India   Kolkata  ...              2            35\n",
              "10680  Jet Airways  Banglore  ...              3             0\n",
              "10681      Vistara  Banglore  ...              2            40\n",
              "10682    Air India     Delhi  ...              8            20\n",
              "\n",
              "[10682 rows x 13 columns]"
            ]
          },
          "metadata": {
            "tags": []
          },
          "execution_count": 35
        }
      ]
    },
    {
      "cell_type": "code",
      "metadata": {
        "id": "Rkuud5kFbKuE"
      },
      "source": [
        "#since source,destination,airlines are the nominal categorical data\n",
        "#we need to perform one-hot encoding"
      ],
      "execution_count": null,
      "outputs": []
    },
    {
      "cell_type": "code",
      "metadata": {
        "colab": {
          "base_uri": "https://localhost:8080/"
        },
        "id": "Fd1y6575QI8Y",
        "outputId": "1d51f7d7-6fb2-434e-c042-dade8d3465bd"
      },
      "source": [
        "dataset[['Airline']].value_counts()"
      ],
      "execution_count": null,
      "outputs": [
        {
          "output_type": "execute_result",
          "data": {
            "text/plain": [
              "Airline                          \n",
              "Jet Airways                          3849\n",
              "IndiGo                               2053\n",
              "Air India                            1751\n",
              "Multiple carriers                    1196\n",
              "SpiceJet                              818\n",
              "Vistara                               479\n",
              "Air Asia                              319\n",
              "GoAir                                 194\n",
              "Multiple carriers Premium economy      13\n",
              "Jet Airways Business                    6\n",
              "Vistara Premium economy                 3\n",
              "Trujet                                  1\n",
              "dtype: int64"
            ]
          },
          "metadata": {
            "tags": []
          },
          "execution_count": 56
        }
      ]
    },
    {
      "cell_type": "code",
      "metadata": {
        "id": "MWWZAHQ-bKuF",
        "colab": {
          "base_uri": "https://localhost:8080/",
          "height": 249
        },
        "outputId": "b5b98cb4-1a2c-4500-e941-97e326615cb3"
      },
      "source": [
        "Airline = dataset[[\"Airline\"]]\n",
        "Airline = pd.get_dummies(Airline)\n",
        "Airline.head()"
      ],
      "execution_count": null,
      "outputs": [
        {
          "output_type": "execute_result",
          "data": {
            "text/html": [
              "<div>\n",
              "<style scoped>\n",
              "    .dataframe tbody tr th:only-of-type {\n",
              "        vertical-align: middle;\n",
              "    }\n",
              "\n",
              "    .dataframe tbody tr th {\n",
              "        vertical-align: top;\n",
              "    }\n",
              "\n",
              "    .dataframe thead th {\n",
              "        text-align: right;\n",
              "    }\n",
              "</style>\n",
              "<table border=\"1\" class=\"dataframe\">\n",
              "  <thead>\n",
              "    <tr style=\"text-align: right;\">\n",
              "      <th></th>\n",
              "      <th>Airline_Air Asia</th>\n",
              "      <th>Airline_Air India</th>\n",
              "      <th>Airline_GoAir</th>\n",
              "      <th>Airline_IndiGo</th>\n",
              "      <th>Airline_Jet Airways</th>\n",
              "      <th>Airline_Jet Airways Business</th>\n",
              "      <th>Airline_Multiple carriers</th>\n",
              "      <th>Airline_Multiple carriers Premium economy</th>\n",
              "      <th>Airline_SpiceJet</th>\n",
              "      <th>Airline_Trujet</th>\n",
              "      <th>Airline_Vistara</th>\n",
              "      <th>Airline_Vistara Premium economy</th>\n",
              "    </tr>\n",
              "  </thead>\n",
              "  <tbody>\n",
              "    <tr>\n",
              "      <th>0</th>\n",
              "      <td>0</td>\n",
              "      <td>0</td>\n",
              "      <td>0</td>\n",
              "      <td>1</td>\n",
              "      <td>0</td>\n",
              "      <td>0</td>\n",
              "      <td>0</td>\n",
              "      <td>0</td>\n",
              "      <td>0</td>\n",
              "      <td>0</td>\n",
              "      <td>0</td>\n",
              "      <td>0</td>\n",
              "    </tr>\n",
              "    <tr>\n",
              "      <th>1</th>\n",
              "      <td>0</td>\n",
              "      <td>1</td>\n",
              "      <td>0</td>\n",
              "      <td>0</td>\n",
              "      <td>0</td>\n",
              "      <td>0</td>\n",
              "      <td>0</td>\n",
              "      <td>0</td>\n",
              "      <td>0</td>\n",
              "      <td>0</td>\n",
              "      <td>0</td>\n",
              "      <td>0</td>\n",
              "    </tr>\n",
              "    <tr>\n",
              "      <th>2</th>\n",
              "      <td>0</td>\n",
              "      <td>0</td>\n",
              "      <td>0</td>\n",
              "      <td>0</td>\n",
              "      <td>1</td>\n",
              "      <td>0</td>\n",
              "      <td>0</td>\n",
              "      <td>0</td>\n",
              "      <td>0</td>\n",
              "      <td>0</td>\n",
              "      <td>0</td>\n",
              "      <td>0</td>\n",
              "    </tr>\n",
              "    <tr>\n",
              "      <th>3</th>\n",
              "      <td>0</td>\n",
              "      <td>0</td>\n",
              "      <td>0</td>\n",
              "      <td>1</td>\n",
              "      <td>0</td>\n",
              "      <td>0</td>\n",
              "      <td>0</td>\n",
              "      <td>0</td>\n",
              "      <td>0</td>\n",
              "      <td>0</td>\n",
              "      <td>0</td>\n",
              "      <td>0</td>\n",
              "    </tr>\n",
              "    <tr>\n",
              "      <th>4</th>\n",
              "      <td>0</td>\n",
              "      <td>0</td>\n",
              "      <td>0</td>\n",
              "      <td>1</td>\n",
              "      <td>0</td>\n",
              "      <td>0</td>\n",
              "      <td>0</td>\n",
              "      <td>0</td>\n",
              "      <td>0</td>\n",
              "      <td>0</td>\n",
              "      <td>0</td>\n",
              "      <td>0</td>\n",
              "    </tr>\n",
              "  </tbody>\n",
              "</table>\n",
              "</div>"
            ],
            "text/plain": [
              "   Airline_Air Asia  ...  Airline_Vistara Premium economy\n",
              "0                 0  ...                                0\n",
              "1                 0  ...                                0\n",
              "2                 0  ...                                0\n",
              "3                 0  ...                                0\n",
              "4                 0  ...                                0\n",
              "\n",
              "[5 rows x 12 columns]"
            ]
          },
          "metadata": {
            "tags": []
          },
          "execution_count": 42
        }
      ]
    },
    {
      "cell_type": "code",
      "metadata": {
        "colab": {
          "base_uri": "https://localhost:8080/"
        },
        "id": "hd_OzLaHNFRk",
        "outputId": "2282011c-55ff-4e12-d21c-4ddedf33f764"
      },
      "source": [
        "Airline.shape"
      ],
      "execution_count": null,
      "outputs": [
        {
          "output_type": "execute_result",
          "data": {
            "text/plain": [
              "(10682, 12)"
            ]
          },
          "metadata": {
            "tags": []
          },
          "execution_count": 43
        }
      ]
    },
    {
      "cell_type": "code",
      "metadata": {
        "id": "ZWILa-PobKuF"
      },
      "source": [
        "from sklearn.compose import ColumnTransformer\n",
        "from sklearn.preprocessing import OneHotEncoder"
      ],
      "execution_count": null,
      "outputs": []
    },
    {
      "cell_type": "code",
      "metadata": {
        "colab": {
          "base_uri": "https://localhost:8080/"
        },
        "id": "yC7_mD9iPd_i",
        "outputId": "f097b68c-5b2a-4dc8-fb82-3e42f2f1d606"
      },
      "source": [
        "dataset[['Destination']].value_counts()"
      ],
      "execution_count": null,
      "outputs": [
        {
          "output_type": "execute_result",
          "data": {
            "text/plain": [
              "Destination\n",
              "Cochin         4536\n",
              "Banglore       2871\n",
              "Delhi          1265\n",
              "New Delhi       932\n",
              "Hyderabad       697\n",
              "Kolkata         381\n",
              "dtype: int64"
            ]
          },
          "metadata": {
            "tags": []
          },
          "execution_count": 51
        }
      ]
    },
    {
      "cell_type": "code",
      "metadata": {
        "id": "th617v17bKuF",
        "colab": {
          "base_uri": "https://localhost:8080/",
          "height": 195
        },
        "outputId": "2b2657c4-4d62-4982-dd79-29e102d1517a"
      },
      "source": [
        "Destination = dataset[[\"Destination\"]]\n",
        "Destination = pd.get_dummies(Destination)\n",
        "Destination.head()"
      ],
      "execution_count": null,
      "outputs": [
        {
          "output_type": "execute_result",
          "data": {
            "text/html": [
              "<div>\n",
              "<style scoped>\n",
              "    .dataframe tbody tr th:only-of-type {\n",
              "        vertical-align: middle;\n",
              "    }\n",
              "\n",
              "    .dataframe tbody tr th {\n",
              "        vertical-align: top;\n",
              "    }\n",
              "\n",
              "    .dataframe thead th {\n",
              "        text-align: right;\n",
              "    }\n",
              "</style>\n",
              "<table border=\"1\" class=\"dataframe\">\n",
              "  <thead>\n",
              "    <tr style=\"text-align: right;\">\n",
              "      <th></th>\n",
              "      <th>Destination_Banglore</th>\n",
              "      <th>Destination_Cochin</th>\n",
              "      <th>Destination_Delhi</th>\n",
              "      <th>Destination_Hyderabad</th>\n",
              "      <th>Destination_Kolkata</th>\n",
              "      <th>Destination_New Delhi</th>\n",
              "    </tr>\n",
              "  </thead>\n",
              "  <tbody>\n",
              "    <tr>\n",
              "      <th>0</th>\n",
              "      <td>0</td>\n",
              "      <td>0</td>\n",
              "      <td>0</td>\n",
              "      <td>0</td>\n",
              "      <td>0</td>\n",
              "      <td>1</td>\n",
              "    </tr>\n",
              "    <tr>\n",
              "      <th>1</th>\n",
              "      <td>1</td>\n",
              "      <td>0</td>\n",
              "      <td>0</td>\n",
              "      <td>0</td>\n",
              "      <td>0</td>\n",
              "      <td>0</td>\n",
              "    </tr>\n",
              "    <tr>\n",
              "      <th>2</th>\n",
              "      <td>0</td>\n",
              "      <td>1</td>\n",
              "      <td>0</td>\n",
              "      <td>0</td>\n",
              "      <td>0</td>\n",
              "      <td>0</td>\n",
              "    </tr>\n",
              "    <tr>\n",
              "      <th>3</th>\n",
              "      <td>1</td>\n",
              "      <td>0</td>\n",
              "      <td>0</td>\n",
              "      <td>0</td>\n",
              "      <td>0</td>\n",
              "      <td>0</td>\n",
              "    </tr>\n",
              "    <tr>\n",
              "      <th>4</th>\n",
              "      <td>0</td>\n",
              "      <td>0</td>\n",
              "      <td>0</td>\n",
              "      <td>0</td>\n",
              "      <td>0</td>\n",
              "      <td>1</td>\n",
              "    </tr>\n",
              "  </tbody>\n",
              "</table>\n",
              "</div>"
            ],
            "text/plain": [
              "   Destination_Banglore  ...  Destination_New Delhi\n",
              "0                     0  ...                      1\n",
              "1                     1  ...                      0\n",
              "2                     0  ...                      0\n",
              "3                     1  ...                      0\n",
              "4                     0  ...                      1\n",
              "\n",
              "[5 rows x 6 columns]"
            ]
          },
          "metadata": {
            "tags": []
          },
          "execution_count": 54
        }
      ]
    },
    {
      "cell_type": "code",
      "metadata": {
        "colab": {
          "base_uri": "https://localhost:8080/"
        },
        "id": "pp5U6-t0P9eA",
        "outputId": "a60e58a0-1fad-44c7-cf94-e63d9da4ffe1"
      },
      "source": [
        "Destination.shape"
      ],
      "execution_count": null,
      "outputs": [
        {
          "output_type": "execute_result",
          "data": {
            "text/plain": [
              "(10682, 6)"
            ]
          },
          "metadata": {
            "tags": []
          },
          "execution_count": 55
        }
      ]
    },
    {
      "cell_type": "code",
      "metadata": {
        "colab": {
          "base_uri": "https://localhost:8080/"
        },
        "id": "6P43MDDoQRsB",
        "outputId": "7d2f548a-9131-4b74-da75-0d8ff92c09c0"
      },
      "source": [
        "dataset[['Source']].value_counts()"
      ],
      "execution_count": null,
      "outputs": [
        {
          "output_type": "execute_result",
          "data": {
            "text/plain": [
              "Source  \n",
              "Delhi       4536\n",
              "Kolkata     2871\n",
              "Banglore    2197\n",
              "Mumbai       697\n",
              "Chennai      381\n",
              "dtype: int64"
            ]
          },
          "metadata": {
            "tags": []
          },
          "execution_count": 57
        }
      ]
    },
    {
      "cell_type": "code",
      "metadata": {
        "id": "n8j5VYJlbKuG",
        "colab": {
          "base_uri": "https://localhost:8080/",
          "height": 195
        },
        "outputId": "8838c82b-dadc-46c2-b287-dd497b9d637c"
      },
      "source": [
        "Source = dataset[[\"Source\"]]\n",
        "Source = pd.get_dummies(Source)\n",
        "Source.head()"
      ],
      "execution_count": null,
      "outputs": [
        {
          "output_type": "execute_result",
          "data": {
            "text/html": [
              "<div>\n",
              "<style scoped>\n",
              "    .dataframe tbody tr th:only-of-type {\n",
              "        vertical-align: middle;\n",
              "    }\n",
              "\n",
              "    .dataframe tbody tr th {\n",
              "        vertical-align: top;\n",
              "    }\n",
              "\n",
              "    .dataframe thead th {\n",
              "        text-align: right;\n",
              "    }\n",
              "</style>\n",
              "<table border=\"1\" class=\"dataframe\">\n",
              "  <thead>\n",
              "    <tr style=\"text-align: right;\">\n",
              "      <th></th>\n",
              "      <th>Source_Banglore</th>\n",
              "      <th>Source_Chennai</th>\n",
              "      <th>Source_Delhi</th>\n",
              "      <th>Source_Kolkata</th>\n",
              "      <th>Source_Mumbai</th>\n",
              "    </tr>\n",
              "  </thead>\n",
              "  <tbody>\n",
              "    <tr>\n",
              "      <th>0</th>\n",
              "      <td>1</td>\n",
              "      <td>0</td>\n",
              "      <td>0</td>\n",
              "      <td>0</td>\n",
              "      <td>0</td>\n",
              "    </tr>\n",
              "    <tr>\n",
              "      <th>1</th>\n",
              "      <td>0</td>\n",
              "      <td>0</td>\n",
              "      <td>0</td>\n",
              "      <td>1</td>\n",
              "      <td>0</td>\n",
              "    </tr>\n",
              "    <tr>\n",
              "      <th>2</th>\n",
              "      <td>0</td>\n",
              "      <td>0</td>\n",
              "      <td>1</td>\n",
              "      <td>0</td>\n",
              "      <td>0</td>\n",
              "    </tr>\n",
              "    <tr>\n",
              "      <th>3</th>\n",
              "      <td>0</td>\n",
              "      <td>0</td>\n",
              "      <td>0</td>\n",
              "      <td>1</td>\n",
              "      <td>0</td>\n",
              "    </tr>\n",
              "    <tr>\n",
              "      <th>4</th>\n",
              "      <td>1</td>\n",
              "      <td>0</td>\n",
              "      <td>0</td>\n",
              "      <td>0</td>\n",
              "      <td>0</td>\n",
              "    </tr>\n",
              "  </tbody>\n",
              "</table>\n",
              "</div>"
            ],
            "text/plain": [
              "   Source_Banglore  Source_Chennai  Source_Delhi  Source_Kolkata  Source_Mumbai\n",
              "0                1               0             0               0              0\n",
              "1                0               0             0               1              0\n",
              "2                0               0             1               0              0\n",
              "3                0               0             0               1              0\n",
              "4                1               0             0               0              0"
            ]
          },
          "metadata": {
            "tags": []
          },
          "execution_count": 58
        }
      ]
    },
    {
      "cell_type": "code",
      "metadata": {
        "colab": {
          "base_uri": "https://localhost:8080/"
        },
        "id": "gQsGxxAzQdq3",
        "outputId": "acc52958-8cb0-4847-a959-01606d6c679d"
      },
      "source": [
        "Source.shape"
      ],
      "execution_count": null,
      "outputs": [
        {
          "output_type": "execute_result",
          "data": {
            "text/plain": [
              "(10682, 5)"
            ]
          },
          "metadata": {
            "tags": []
          },
          "execution_count": 59
        }
      ]
    },
    {
      "cell_type": "code",
      "metadata": {
        "id": "xfzsZ3Z5bKuG"
      },
      "source": [
        "#The prices vary depends on the number of stops so the stop columns fall in ordinal data\n",
        "#we need to perform label encoding for stops"
      ],
      "execution_count": null,
      "outputs": []
    },
    {
      "cell_type": "code",
      "metadata": {
        "colab": {
          "base_uri": "https://localhost:8080/"
        },
        "id": "QMppMikIQn0L",
        "outputId": "d4f59142-7c7c-40fb-eb6d-7a3e45b4675e"
      },
      "source": [
        "dataset[['Total_Stops']].value_counts()"
      ],
      "execution_count": null,
      "outputs": [
        {
          "output_type": "execute_result",
          "data": {
            "text/plain": [
              "Total_Stops\n",
              "1 stop         5625\n",
              "non-stop       3491\n",
              "2 stops        1520\n",
              "3 stops          45\n",
              "4 stops           1\n",
              "dtype: int64"
            ]
          },
          "metadata": {
            "tags": []
          },
          "execution_count": 60
        }
      ]
    },
    {
      "cell_type": "code",
      "metadata": {
        "id": "J8amNd90Lnwf"
      },
      "source": [
        "dict_Stops = {'non-stop':0, '1 stop':1, '2 stops':2, '3 stops':3, '4 stops':4}"
      ],
      "execution_count": null,
      "outputs": []
    },
    {
      "cell_type": "code",
      "metadata": {
        "id": "pO7HPByQRCtp"
      },
      "source": [
        "dataset['Total_Stops'] = dataset['Total_Stops'].map(dict_Stops)"
      ],
      "execution_count": null,
      "outputs": []
    },
    {
      "cell_type": "code",
      "metadata": {
        "id": "_vqC4py_bKuG",
        "colab": {
          "base_uri": "https://localhost:8080/",
          "height": 195
        },
        "outputId": "3f79d4d4-1376-4a23-c072-ee27364c26c8"
      },
      "source": [
        "dataset.head()"
      ],
      "execution_count": null,
      "outputs": [
        {
          "output_type": "execute_result",
          "data": {
            "text/html": [
              "<div>\n",
              "<style scoped>\n",
              "    .dataframe tbody tr th:only-of-type {\n",
              "        vertical-align: middle;\n",
              "    }\n",
              "\n",
              "    .dataframe tbody tr th {\n",
              "        vertical-align: top;\n",
              "    }\n",
              "\n",
              "    .dataframe thead th {\n",
              "        text-align: right;\n",
              "    }\n",
              "</style>\n",
              "<table border=\"1\" class=\"dataframe\">\n",
              "  <thead>\n",
              "    <tr style=\"text-align: right;\">\n",
              "      <th></th>\n",
              "      <th>Airline</th>\n",
              "      <th>Source</th>\n",
              "      <th>Destination</th>\n",
              "      <th>Total_Stops</th>\n",
              "      <th>Price</th>\n",
              "      <th>Journey_day</th>\n",
              "      <th>Journey_month</th>\n",
              "      <th>Dep_hour</th>\n",
              "      <th>Dep_min</th>\n",
              "      <th>Arrival_hour</th>\n",
              "      <th>Arrival_min</th>\n",
              "      <th>Duration_hours</th>\n",
              "      <th>Duration_mins</th>\n",
              "    </tr>\n",
              "  </thead>\n",
              "  <tbody>\n",
              "    <tr>\n",
              "      <th>0</th>\n",
              "      <td>IndiGo</td>\n",
              "      <td>Banglore</td>\n",
              "      <td>New Delhi</td>\n",
              "      <td>0</td>\n",
              "      <td>3897</td>\n",
              "      <td>24</td>\n",
              "      <td>3</td>\n",
              "      <td>22</td>\n",
              "      <td>20</td>\n",
              "      <td>1</td>\n",
              "      <td>10</td>\n",
              "      <td>2</td>\n",
              "      <td>50</td>\n",
              "    </tr>\n",
              "    <tr>\n",
              "      <th>1</th>\n",
              "      <td>Air India</td>\n",
              "      <td>Kolkata</td>\n",
              "      <td>Banglore</td>\n",
              "      <td>2</td>\n",
              "      <td>7662</td>\n",
              "      <td>1</td>\n",
              "      <td>5</td>\n",
              "      <td>5</td>\n",
              "      <td>50</td>\n",
              "      <td>13</td>\n",
              "      <td>15</td>\n",
              "      <td>7</td>\n",
              "      <td>25</td>\n",
              "    </tr>\n",
              "    <tr>\n",
              "      <th>2</th>\n",
              "      <td>Jet Airways</td>\n",
              "      <td>Delhi</td>\n",
              "      <td>Cochin</td>\n",
              "      <td>2</td>\n",
              "      <td>13882</td>\n",
              "      <td>9</td>\n",
              "      <td>6</td>\n",
              "      <td>9</td>\n",
              "      <td>25</td>\n",
              "      <td>4</td>\n",
              "      <td>25</td>\n",
              "      <td>19</td>\n",
              "      <td>0</td>\n",
              "    </tr>\n",
              "    <tr>\n",
              "      <th>3</th>\n",
              "      <td>IndiGo</td>\n",
              "      <td>Kolkata</td>\n",
              "      <td>Banglore</td>\n",
              "      <td>1</td>\n",
              "      <td>6218</td>\n",
              "      <td>12</td>\n",
              "      <td>5</td>\n",
              "      <td>18</td>\n",
              "      <td>5</td>\n",
              "      <td>23</td>\n",
              "      <td>30</td>\n",
              "      <td>5</td>\n",
              "      <td>25</td>\n",
              "    </tr>\n",
              "    <tr>\n",
              "      <th>4</th>\n",
              "      <td>IndiGo</td>\n",
              "      <td>Banglore</td>\n",
              "      <td>New Delhi</td>\n",
              "      <td>1</td>\n",
              "      <td>13302</td>\n",
              "      <td>1</td>\n",
              "      <td>3</td>\n",
              "      <td>16</td>\n",
              "      <td>50</td>\n",
              "      <td>21</td>\n",
              "      <td>35</td>\n",
              "      <td>4</td>\n",
              "      <td>45</td>\n",
              "    </tr>\n",
              "  </tbody>\n",
              "</table>\n",
              "</div>"
            ],
            "text/plain": [
              "       Airline    Source  ... Duration_hours  Duration_mins\n",
              "0       IndiGo  Banglore  ...              2             50\n",
              "1    Air India   Kolkata  ...              7             25\n",
              "2  Jet Airways     Delhi  ...             19              0\n",
              "3       IndiGo   Kolkata  ...              5             25\n",
              "4       IndiGo  Banglore  ...              4             45\n",
              "\n",
              "[5 rows x 13 columns]"
            ]
          },
          "metadata": {
            "tags": []
          },
          "execution_count": 63
        }
      ]
    },
    {
      "cell_type": "code",
      "metadata": {
        "id": "LwEzh4ATbKuH"
      },
      "source": [
        "dtrain = pd.concat([Source, Destination, dataset, Airline], axis = 1)"
      ],
      "execution_count": null,
      "outputs": []
    },
    {
      "cell_type": "code",
      "metadata": {
        "id": "pl1EIkgZbKuH"
      },
      "source": [
        "dtrain.drop([\"Airline\", \"Source\", \"Destination\"], axis = 1, inplace = True)"
      ],
      "execution_count": null,
      "outputs": []
    },
    {
      "cell_type": "code",
      "metadata": {
        "id": "mMZEp5n-bKuH",
        "colab": {
          "base_uri": "https://localhost:8080/",
          "height": 249
        },
        "outputId": "a6262ba5-27b0-422c-d4d8-5ddd161f5c1d"
      },
      "source": [
        "dtrain.head()"
      ],
      "execution_count": null,
      "outputs": [
        {
          "output_type": "execute_result",
          "data": {
            "text/html": [
              "<div>\n",
              "<style scoped>\n",
              "    .dataframe tbody tr th:only-of-type {\n",
              "        vertical-align: middle;\n",
              "    }\n",
              "\n",
              "    .dataframe tbody tr th {\n",
              "        vertical-align: top;\n",
              "    }\n",
              "\n",
              "    .dataframe thead th {\n",
              "        text-align: right;\n",
              "    }\n",
              "</style>\n",
              "<table border=\"1\" class=\"dataframe\">\n",
              "  <thead>\n",
              "    <tr style=\"text-align: right;\">\n",
              "      <th></th>\n",
              "      <th>Source_Banglore</th>\n",
              "      <th>Source_Chennai</th>\n",
              "      <th>Source_Delhi</th>\n",
              "      <th>Source_Kolkata</th>\n",
              "      <th>Source_Mumbai</th>\n",
              "      <th>Destination_Banglore</th>\n",
              "      <th>Destination_Cochin</th>\n",
              "      <th>Destination_Delhi</th>\n",
              "      <th>Destination_Hyderabad</th>\n",
              "      <th>Destination_Kolkata</th>\n",
              "      <th>Destination_New Delhi</th>\n",
              "      <th>Total_Stops</th>\n",
              "      <th>Price</th>\n",
              "      <th>Journey_day</th>\n",
              "      <th>Journey_month</th>\n",
              "      <th>Dep_hour</th>\n",
              "      <th>Dep_min</th>\n",
              "      <th>Arrival_hour</th>\n",
              "      <th>Arrival_min</th>\n",
              "      <th>Duration_hours</th>\n",
              "      <th>Duration_mins</th>\n",
              "      <th>Airline_Air Asia</th>\n",
              "      <th>Airline_Air India</th>\n",
              "      <th>Airline_GoAir</th>\n",
              "      <th>Airline_IndiGo</th>\n",
              "      <th>Airline_Jet Airways</th>\n",
              "      <th>Airline_Jet Airways Business</th>\n",
              "      <th>Airline_Multiple carriers</th>\n",
              "      <th>Airline_Multiple carriers Premium economy</th>\n",
              "      <th>Airline_SpiceJet</th>\n",
              "      <th>Airline_Trujet</th>\n",
              "      <th>Airline_Vistara</th>\n",
              "      <th>Airline_Vistara Premium economy</th>\n",
              "    </tr>\n",
              "  </thead>\n",
              "  <tbody>\n",
              "    <tr>\n",
              "      <th>0</th>\n",
              "      <td>1</td>\n",
              "      <td>0</td>\n",
              "      <td>0</td>\n",
              "      <td>0</td>\n",
              "      <td>0</td>\n",
              "      <td>0</td>\n",
              "      <td>0</td>\n",
              "      <td>0</td>\n",
              "      <td>0</td>\n",
              "      <td>0</td>\n",
              "      <td>1</td>\n",
              "      <td>0</td>\n",
              "      <td>3897</td>\n",
              "      <td>24</td>\n",
              "      <td>3</td>\n",
              "      <td>22</td>\n",
              "      <td>20</td>\n",
              "      <td>1</td>\n",
              "      <td>10</td>\n",
              "      <td>2</td>\n",
              "      <td>50</td>\n",
              "      <td>0</td>\n",
              "      <td>0</td>\n",
              "      <td>0</td>\n",
              "      <td>1</td>\n",
              "      <td>0</td>\n",
              "      <td>0</td>\n",
              "      <td>0</td>\n",
              "      <td>0</td>\n",
              "      <td>0</td>\n",
              "      <td>0</td>\n",
              "      <td>0</td>\n",
              "      <td>0</td>\n",
              "    </tr>\n",
              "    <tr>\n",
              "      <th>1</th>\n",
              "      <td>0</td>\n",
              "      <td>0</td>\n",
              "      <td>0</td>\n",
              "      <td>1</td>\n",
              "      <td>0</td>\n",
              "      <td>1</td>\n",
              "      <td>0</td>\n",
              "      <td>0</td>\n",
              "      <td>0</td>\n",
              "      <td>0</td>\n",
              "      <td>0</td>\n",
              "      <td>2</td>\n",
              "      <td>7662</td>\n",
              "      <td>1</td>\n",
              "      <td>5</td>\n",
              "      <td>5</td>\n",
              "      <td>50</td>\n",
              "      <td>13</td>\n",
              "      <td>15</td>\n",
              "      <td>7</td>\n",
              "      <td>25</td>\n",
              "      <td>0</td>\n",
              "      <td>1</td>\n",
              "      <td>0</td>\n",
              "      <td>0</td>\n",
              "      <td>0</td>\n",
              "      <td>0</td>\n",
              "      <td>0</td>\n",
              "      <td>0</td>\n",
              "      <td>0</td>\n",
              "      <td>0</td>\n",
              "      <td>0</td>\n",
              "      <td>0</td>\n",
              "    </tr>\n",
              "    <tr>\n",
              "      <th>2</th>\n",
              "      <td>0</td>\n",
              "      <td>0</td>\n",
              "      <td>1</td>\n",
              "      <td>0</td>\n",
              "      <td>0</td>\n",
              "      <td>0</td>\n",
              "      <td>1</td>\n",
              "      <td>0</td>\n",
              "      <td>0</td>\n",
              "      <td>0</td>\n",
              "      <td>0</td>\n",
              "      <td>2</td>\n",
              "      <td>13882</td>\n",
              "      <td>9</td>\n",
              "      <td>6</td>\n",
              "      <td>9</td>\n",
              "      <td>25</td>\n",
              "      <td>4</td>\n",
              "      <td>25</td>\n",
              "      <td>19</td>\n",
              "      <td>0</td>\n",
              "      <td>0</td>\n",
              "      <td>0</td>\n",
              "      <td>0</td>\n",
              "      <td>0</td>\n",
              "      <td>1</td>\n",
              "      <td>0</td>\n",
              "      <td>0</td>\n",
              "      <td>0</td>\n",
              "      <td>0</td>\n",
              "      <td>0</td>\n",
              "      <td>0</td>\n",
              "      <td>0</td>\n",
              "    </tr>\n",
              "    <tr>\n",
              "      <th>3</th>\n",
              "      <td>0</td>\n",
              "      <td>0</td>\n",
              "      <td>0</td>\n",
              "      <td>1</td>\n",
              "      <td>0</td>\n",
              "      <td>1</td>\n",
              "      <td>0</td>\n",
              "      <td>0</td>\n",
              "      <td>0</td>\n",
              "      <td>0</td>\n",
              "      <td>0</td>\n",
              "      <td>1</td>\n",
              "      <td>6218</td>\n",
              "      <td>12</td>\n",
              "      <td>5</td>\n",
              "      <td>18</td>\n",
              "      <td>5</td>\n",
              "      <td>23</td>\n",
              "      <td>30</td>\n",
              "      <td>5</td>\n",
              "      <td>25</td>\n",
              "      <td>0</td>\n",
              "      <td>0</td>\n",
              "      <td>0</td>\n",
              "      <td>1</td>\n",
              "      <td>0</td>\n",
              "      <td>0</td>\n",
              "      <td>0</td>\n",
              "      <td>0</td>\n",
              "      <td>0</td>\n",
              "      <td>0</td>\n",
              "      <td>0</td>\n",
              "      <td>0</td>\n",
              "    </tr>\n",
              "    <tr>\n",
              "      <th>4</th>\n",
              "      <td>1</td>\n",
              "      <td>0</td>\n",
              "      <td>0</td>\n",
              "      <td>0</td>\n",
              "      <td>0</td>\n",
              "      <td>0</td>\n",
              "      <td>0</td>\n",
              "      <td>0</td>\n",
              "      <td>0</td>\n",
              "      <td>0</td>\n",
              "      <td>1</td>\n",
              "      <td>1</td>\n",
              "      <td>13302</td>\n",
              "      <td>1</td>\n",
              "      <td>3</td>\n",
              "      <td>16</td>\n",
              "      <td>50</td>\n",
              "      <td>21</td>\n",
              "      <td>35</td>\n",
              "      <td>4</td>\n",
              "      <td>45</td>\n",
              "      <td>0</td>\n",
              "      <td>0</td>\n",
              "      <td>0</td>\n",
              "      <td>1</td>\n",
              "      <td>0</td>\n",
              "      <td>0</td>\n",
              "      <td>0</td>\n",
              "      <td>0</td>\n",
              "      <td>0</td>\n",
              "      <td>0</td>\n",
              "      <td>0</td>\n",
              "      <td>0</td>\n",
              "    </tr>\n",
              "  </tbody>\n",
              "</table>\n",
              "</div>"
            ],
            "text/plain": [
              "   Source_Banglore  ...  Airline_Vistara Premium economy\n",
              "0                1  ...                                0\n",
              "1                0  ...                                0\n",
              "2                0  ...                                0\n",
              "3                0  ...                                0\n",
              "4                1  ...                                0\n",
              "\n",
              "[5 rows x 33 columns]"
            ]
          },
          "metadata": {
            "tags": []
          },
          "execution_count": 166
        }
      ]
    },
    {
      "cell_type": "code",
      "metadata": {
        "colab": {
          "base_uri": "https://localhost:8080/"
        },
        "id": "CHCHklV2ZLC_",
        "outputId": "aa2afdac-39b1-4c22-b31f-7c089a368271"
      },
      "source": [
        "dtrain.shape"
      ],
      "execution_count": null,
      "outputs": [
        {
          "output_type": "execute_result",
          "data": {
            "text/plain": [
              "(10682, 33)"
            ]
          },
          "metadata": {
            "tags": []
          },
          "execution_count": 167
        }
      ]
    },
    {
      "cell_type": "markdown",
      "metadata": {
        "id": "AquCekzAbKuI"
      },
      "source": [
        "## TEST SET"
      ]
    },
    {
      "cell_type": "code",
      "metadata": {
        "id": "JN5td775bKuI"
      },
      "source": [
        "dtest=pd.read_excel(\"Flight_Test_set.xlsx\")"
      ],
      "execution_count": null,
      "outputs": []
    },
    {
      "cell_type": "code",
      "metadata": {
        "id": "kLNuu-0wbKuI",
        "colab": {
          "base_uri": "https://localhost:8080/",
          "height": 195
        },
        "outputId": "d3e4aa0c-f24c-4de5-cd72-b24d33c74f2d"
      },
      "source": [
        "dtest.head()"
      ],
      "execution_count": null,
      "outputs": [
        {
          "output_type": "execute_result",
          "data": {
            "text/html": [
              "<div>\n",
              "<style scoped>\n",
              "    .dataframe tbody tr th:only-of-type {\n",
              "        vertical-align: middle;\n",
              "    }\n",
              "\n",
              "    .dataframe tbody tr th {\n",
              "        vertical-align: top;\n",
              "    }\n",
              "\n",
              "    .dataframe thead th {\n",
              "        text-align: right;\n",
              "    }\n",
              "</style>\n",
              "<table border=\"1\" class=\"dataframe\">\n",
              "  <thead>\n",
              "    <tr style=\"text-align: right;\">\n",
              "      <th></th>\n",
              "      <th>Airline</th>\n",
              "      <th>Date_of_Journey</th>\n",
              "      <th>Source</th>\n",
              "      <th>Destination</th>\n",
              "      <th>Route</th>\n",
              "      <th>Dep_Time</th>\n",
              "      <th>Arrival_Time</th>\n",
              "      <th>Duration</th>\n",
              "      <th>Total_Stops</th>\n",
              "      <th>Additional_Info</th>\n",
              "    </tr>\n",
              "  </thead>\n",
              "  <tbody>\n",
              "    <tr>\n",
              "      <th>0</th>\n",
              "      <td>Jet Airways</td>\n",
              "      <td>6/06/2019</td>\n",
              "      <td>Delhi</td>\n",
              "      <td>Cochin</td>\n",
              "      <td>DEL → BOM → COK</td>\n",
              "      <td>17:30</td>\n",
              "      <td>04:25 07 Jun</td>\n",
              "      <td>10h 55m</td>\n",
              "      <td>1 stop</td>\n",
              "      <td>No info</td>\n",
              "    </tr>\n",
              "    <tr>\n",
              "      <th>1</th>\n",
              "      <td>IndiGo</td>\n",
              "      <td>12/05/2019</td>\n",
              "      <td>Kolkata</td>\n",
              "      <td>Banglore</td>\n",
              "      <td>CCU → MAA → BLR</td>\n",
              "      <td>06:20</td>\n",
              "      <td>10:20</td>\n",
              "      <td>4h</td>\n",
              "      <td>1 stop</td>\n",
              "      <td>No info</td>\n",
              "    </tr>\n",
              "    <tr>\n",
              "      <th>2</th>\n",
              "      <td>Jet Airways</td>\n",
              "      <td>21/05/2019</td>\n",
              "      <td>Delhi</td>\n",
              "      <td>Cochin</td>\n",
              "      <td>DEL → BOM → COK</td>\n",
              "      <td>19:15</td>\n",
              "      <td>19:00 22 May</td>\n",
              "      <td>23h 45m</td>\n",
              "      <td>1 stop</td>\n",
              "      <td>In-flight meal not included</td>\n",
              "    </tr>\n",
              "    <tr>\n",
              "      <th>3</th>\n",
              "      <td>Multiple carriers</td>\n",
              "      <td>21/05/2019</td>\n",
              "      <td>Delhi</td>\n",
              "      <td>Cochin</td>\n",
              "      <td>DEL → BOM → COK</td>\n",
              "      <td>08:00</td>\n",
              "      <td>21:00</td>\n",
              "      <td>13h</td>\n",
              "      <td>1 stop</td>\n",
              "      <td>No info</td>\n",
              "    </tr>\n",
              "    <tr>\n",
              "      <th>4</th>\n",
              "      <td>Air Asia</td>\n",
              "      <td>24/06/2019</td>\n",
              "      <td>Banglore</td>\n",
              "      <td>Delhi</td>\n",
              "      <td>BLR → DEL</td>\n",
              "      <td>23:55</td>\n",
              "      <td>02:45 25 Jun</td>\n",
              "      <td>2h 50m</td>\n",
              "      <td>non-stop</td>\n",
              "      <td>No info</td>\n",
              "    </tr>\n",
              "  </tbody>\n",
              "</table>\n",
              "</div>"
            ],
            "text/plain": [
              "             Airline Date_of_Journey  ... Total_Stops              Additional_Info\n",
              "0        Jet Airways       6/06/2019  ...      1 stop                      No info\n",
              "1             IndiGo      12/05/2019  ...      1 stop                      No info\n",
              "2        Jet Airways      21/05/2019  ...      1 stop  In-flight meal not included\n",
              "3  Multiple carriers      21/05/2019  ...      1 stop                      No info\n",
              "4           Air Asia      24/06/2019  ...    non-stop                      No info\n",
              "\n",
              "[5 rows x 10 columns]"
            ]
          },
          "metadata": {
            "tags": []
          },
          "execution_count": 169
        }
      ]
    },
    {
      "cell_type": "code",
      "metadata": {
        "id": "5O8ZDZMGbKuI",
        "colab": {
          "base_uri": "https://localhost:8080/"
        },
        "outputId": "01f1652b-10b1-4889-d42b-df6a9fceb2f7"
      },
      "source": [
        "dtest.shape"
      ],
      "execution_count": null,
      "outputs": [
        {
          "output_type": "execute_result",
          "data": {
            "text/plain": [
              "(2671, 10)"
            ]
          },
          "metadata": {
            "tags": []
          },
          "execution_count": 170
        }
      ]
    },
    {
      "cell_type": "code",
      "metadata": {
        "id": "JmlfN6LybKuJ",
        "colab": {
          "base_uri": "https://localhost:8080/"
        },
        "outputId": "878b6914-1a36-4ed1-89b3-8309c32167a2"
      },
      "source": [
        "dtest.columns"
      ],
      "execution_count": null,
      "outputs": [
        {
          "output_type": "execute_result",
          "data": {
            "text/plain": [
              "Index(['Airline', 'Date_of_Journey', 'Source', 'Destination', 'Route',\n",
              "       'Dep_Time', 'Arrival_Time', 'Duration', 'Total_Stops',\n",
              "       'Additional_Info'],\n",
              "      dtype='object')"
            ]
          },
          "metadata": {
            "tags": []
          },
          "execution_count": 171
        }
      ]
    },
    {
      "cell_type": "code",
      "metadata": {
        "id": "ydTBK7jBbKuJ",
        "colab": {
          "base_uri": "https://localhost:8080/"
        },
        "outputId": "bdd9e99c-5eb6-401d-dea1-4c824245e598"
      },
      "source": [
        "dtest['Additional_Info'].value_counts()"
      ],
      "execution_count": null,
      "outputs": [
        {
          "output_type": "execute_result",
          "data": {
            "text/plain": [
              "No info                         2148\n",
              "In-flight meal not included      444\n",
              "No check-in baggage included      76\n",
              "1 Long layover                     1\n",
              "Change airports                    1\n",
              "Business class                     1\n",
              "Name: Additional_Info, dtype: int64"
            ]
          },
          "metadata": {
            "tags": []
          },
          "execution_count": 172
        }
      ]
    },
    {
      "cell_type": "code",
      "metadata": {
        "id": "B7TDMBwubKuK",
        "colab": {
          "base_uri": "https://localhost:8080/"
        },
        "outputId": "b5b578b5-5bbc-46ac-f371-dc09b21b5400"
      },
      "source": [
        "dtest['Additional_Info'].count()"
      ],
      "execution_count": null,
      "outputs": [
        {
          "output_type": "execute_result",
          "data": {
            "text/plain": [
              "2671"
            ]
          },
          "metadata": {
            "tags": []
          },
          "execution_count": 173
        }
      ]
    },
    {
      "cell_type": "code",
      "metadata": {
        "id": "xnTm6LgTbKuK"
      },
      "source": [
        "## of 2671 observations 2148 observations contain No info... so its better to \n",
        "## remove the additional info column"
      ],
      "execution_count": null,
      "outputs": []
    },
    {
      "cell_type": "code",
      "metadata": {
        "id": "K48JG_-zbKuK",
        "colab": {
          "base_uri": "https://localhost:8080/"
        },
        "outputId": "72eeac8f-4334-491b-adf8-cdedd39a3f10"
      },
      "source": [
        "dtest.drop(['Additional_Info'],axis=1,inplace=True)\n",
        "dtest.columns"
      ],
      "execution_count": null,
      "outputs": [
        {
          "output_type": "execute_result",
          "data": {
            "text/plain": [
              "Index(['Airline', 'Date_of_Journey', 'Source', 'Destination', 'Route',\n",
              "       'Dep_Time', 'Arrival_Time', 'Duration', 'Total_Stops'],\n",
              "      dtype='object')"
            ]
          },
          "metadata": {
            "tags": []
          },
          "execution_count": 175
        }
      ]
    },
    {
      "cell_type": "code",
      "metadata": {
        "id": "hmr2E5EGbKuL",
        "colab": {
          "base_uri": "https://localhost:8080/"
        },
        "outputId": "91525ebf-6995-4e71-dfdb-0ff13596fe3a"
      },
      "source": [
        "## preprocessing\n",
        "\n",
        "print(\"test data info\")\n",
        "print(\"-\"*75)\n",
        "print(dtest.info())\n",
        "\n",
        "print()\n",
        "print()\n",
        "\n",
        "print(\"the null values\")\n",
        "print(\"-\"*75)\n",
        "dtest.dropna(inplace=True)\n",
        "print(dtest.isnull().sum())\n",
        "\n"
      ],
      "execution_count": null,
      "outputs": [
        {
          "output_type": "stream",
          "text": [
            "test data info\n",
            "---------------------------------------------------------------------------\n",
            "<class 'pandas.core.frame.DataFrame'>\n",
            "RangeIndex: 2671 entries, 0 to 2670\n",
            "Data columns (total 9 columns):\n",
            " #   Column           Non-Null Count  Dtype \n",
            "---  ------           --------------  ----- \n",
            " 0   Airline          2671 non-null   object\n",
            " 1   Date_of_Journey  2671 non-null   object\n",
            " 2   Source           2671 non-null   object\n",
            " 3   Destination      2671 non-null   object\n",
            " 4   Route            2671 non-null   object\n",
            " 5   Dep_Time         2671 non-null   object\n",
            " 6   Arrival_Time     2671 non-null   object\n",
            " 7   Duration         2671 non-null   object\n",
            " 8   Total_Stops      2671 non-null   object\n",
            "dtypes: object(9)\n",
            "memory usage: 187.9+ KB\n",
            "None\n",
            "\n",
            "\n",
            "the null values\n",
            "---------------------------------------------------------------------------\n",
            "Airline            0\n",
            "Date_of_Journey    0\n",
            "Source             0\n",
            "Destination        0\n",
            "Route              0\n",
            "Dep_Time           0\n",
            "Arrival_Time       0\n",
            "Duration           0\n",
            "Total_Stops        0\n",
            "dtype: int64\n"
          ],
          "name": "stdout"
        }
      ]
    },
    {
      "cell_type": "code",
      "metadata": {
        "id": "8jU4lTswbKuL"
      },
      "source": [
        "## EDA\n",
        "\n",
        "## Date of journey\n",
        "dtest['day']=pd.to_datetime(dtest['Date_of_Journey'],format=\"%d/%m/%Y\").dt.day\n",
        "dtest['month']=pd.to_datetime(dtest['Date_of_Journey'],format=\"%d/%m/%Y\").dt.month\n",
        "dtest.drop(['Date_of_Journey'],axis=1,inplace=True)\n",
        "\n",
        "##departure time\n",
        "dtest['dep_hour']=pd.to_datetime(dtest['Dep_Time']).dt.hour\n",
        "dtest['dep_min']=pd.to_datetime(dtest['Dep_Time']).dt.minute\n",
        "dtest.drop(['Dep_Time'],axis=1,inplace=True)\n",
        "\n",
        "## Arrival time\n",
        "dtest['Arr_hour']=pd.to_datetime(dtest['Arrival_Time']).dt.hour\n",
        "dtest['Arr_min']=pd.to_datetime(dtest['Arrival_Time']).dt.minute\n",
        "dtest.drop(['Arrival_Time'],axis=1,inplace=True)"
      ],
      "execution_count": null,
      "outputs": []
    },
    {
      "cell_type": "code",
      "metadata": {
        "id": "gX2WOPzcbKuL"
      },
      "source": [
        "## Duration\n",
        "duration=list(dtest['Duration'])\n",
        "dur_hr=[]\n",
        "dur_min=[]\n",
        "\n",
        "for i in range(len(duration)):\n",
        "    if len(duration[i].split())!=2:\n",
        "        if \"h\" in duration[i]:\n",
        "            duration[i]=duration[i].strip()+\" 0m\"\n",
        "        else:\n",
        "            duration[i]=\"0h \"+duration[i]\n",
        "\n",
        "for i in range(len(duration)):\n",
        "    dur_hr.append(int(duration[i].split(sep= \"h\")[0]))\n",
        "    dur_min.append(int(duration[i].split(sep= \"m\")[0].split()[-1]))\n",
        "    \n",
        "## Adding duration hours and duration mins columns\n",
        "dtest['dur_hr']=dur_hr\n",
        "dtest['dur_min']=dur_min\n",
        "dtest.drop(['Duration'],axis=1,inplace=True)"
      ],
      "execution_count": null,
      "outputs": []
    },
    {
      "cell_type": "code",
      "metadata": {
        "colab": {
          "base_uri": "https://localhost:8080/"
        },
        "id": "PMWLEC4CUg2v",
        "outputId": "8a194797-8e3d-45f8-979e-d940170befec"
      },
      "source": [
        "dtest[['Airline']].value_counts()"
      ],
      "execution_count": null,
      "outputs": [
        {
          "output_type": "execute_result",
          "data": {
            "text/plain": [
              "Airline                          \n",
              "Jet Airways                          897\n",
              "IndiGo                               511\n",
              "Air India                            440\n",
              "Multiple carriers                    347\n",
              "SpiceJet                             208\n",
              "Vistara                              129\n",
              "Air Asia                              86\n",
              "GoAir                                 46\n",
              "Multiple carriers Premium economy      3\n",
              "Vistara Premium economy                2\n",
              "Jet Airways Business                   2\n",
              "dtype: int64"
            ]
          },
          "metadata": {
            "tags": []
          },
          "execution_count": 179
        }
      ]
    },
    {
      "cell_type": "code",
      "metadata": {
        "colab": {
          "base_uri": "https://localhost:8080/",
          "height": 229
        },
        "id": "LzFPU2WIVOwQ",
        "outputId": "f705eab5-5899-4d13-cf87-e6edd9959bf5"
      },
      "source": [
        "Airline = dtest[[\"Airline\"]]\n",
        "Airline = pd.get_dummies(Airline)\n",
        "Airline.head()"
      ],
      "execution_count": null,
      "outputs": [
        {
          "output_type": "execute_result",
          "data": {
            "text/html": [
              "<div>\n",
              "<style scoped>\n",
              "    .dataframe tbody tr th:only-of-type {\n",
              "        vertical-align: middle;\n",
              "    }\n",
              "\n",
              "    .dataframe tbody tr th {\n",
              "        vertical-align: top;\n",
              "    }\n",
              "\n",
              "    .dataframe thead th {\n",
              "        text-align: right;\n",
              "    }\n",
              "</style>\n",
              "<table border=\"1\" class=\"dataframe\">\n",
              "  <thead>\n",
              "    <tr style=\"text-align: right;\">\n",
              "      <th></th>\n",
              "      <th>Airline_Air Asia</th>\n",
              "      <th>Airline_Air India</th>\n",
              "      <th>Airline_GoAir</th>\n",
              "      <th>Airline_IndiGo</th>\n",
              "      <th>Airline_Jet Airways</th>\n",
              "      <th>Airline_Jet Airways Business</th>\n",
              "      <th>Airline_Multiple carriers</th>\n",
              "      <th>Airline_Multiple carriers Premium economy</th>\n",
              "      <th>Airline_SpiceJet</th>\n",
              "      <th>Airline_Vistara</th>\n",
              "      <th>Airline_Vistara Premium economy</th>\n",
              "    </tr>\n",
              "  </thead>\n",
              "  <tbody>\n",
              "    <tr>\n",
              "      <th>0</th>\n",
              "      <td>0</td>\n",
              "      <td>0</td>\n",
              "      <td>0</td>\n",
              "      <td>0</td>\n",
              "      <td>1</td>\n",
              "      <td>0</td>\n",
              "      <td>0</td>\n",
              "      <td>0</td>\n",
              "      <td>0</td>\n",
              "      <td>0</td>\n",
              "      <td>0</td>\n",
              "    </tr>\n",
              "    <tr>\n",
              "      <th>1</th>\n",
              "      <td>0</td>\n",
              "      <td>0</td>\n",
              "      <td>0</td>\n",
              "      <td>1</td>\n",
              "      <td>0</td>\n",
              "      <td>0</td>\n",
              "      <td>0</td>\n",
              "      <td>0</td>\n",
              "      <td>0</td>\n",
              "      <td>0</td>\n",
              "      <td>0</td>\n",
              "    </tr>\n",
              "    <tr>\n",
              "      <th>2</th>\n",
              "      <td>0</td>\n",
              "      <td>0</td>\n",
              "      <td>0</td>\n",
              "      <td>0</td>\n",
              "      <td>1</td>\n",
              "      <td>0</td>\n",
              "      <td>0</td>\n",
              "      <td>0</td>\n",
              "      <td>0</td>\n",
              "      <td>0</td>\n",
              "      <td>0</td>\n",
              "    </tr>\n",
              "    <tr>\n",
              "      <th>3</th>\n",
              "      <td>0</td>\n",
              "      <td>0</td>\n",
              "      <td>0</td>\n",
              "      <td>0</td>\n",
              "      <td>0</td>\n",
              "      <td>0</td>\n",
              "      <td>1</td>\n",
              "      <td>0</td>\n",
              "      <td>0</td>\n",
              "      <td>0</td>\n",
              "      <td>0</td>\n",
              "    </tr>\n",
              "    <tr>\n",
              "      <th>4</th>\n",
              "      <td>1</td>\n",
              "      <td>0</td>\n",
              "      <td>0</td>\n",
              "      <td>0</td>\n",
              "      <td>0</td>\n",
              "      <td>0</td>\n",
              "      <td>0</td>\n",
              "      <td>0</td>\n",
              "      <td>0</td>\n",
              "      <td>0</td>\n",
              "      <td>0</td>\n",
              "    </tr>\n",
              "  </tbody>\n",
              "</table>\n",
              "</div>"
            ],
            "text/plain": [
              "   Airline_Air Asia  ...  Airline_Vistara Premium economy\n",
              "0                 0  ...                                0\n",
              "1                 0  ...                                0\n",
              "2                 0  ...                                0\n",
              "3                 0  ...                                0\n",
              "4                 1  ...                                0\n",
              "\n",
              "[5 rows x 11 columns]"
            ]
          },
          "metadata": {
            "tags": []
          },
          "execution_count": 180
        }
      ]
    },
    {
      "cell_type": "code",
      "metadata": {
        "colab": {
          "base_uri": "https://localhost:8080/"
        },
        "id": "JrPqGaAnVF6c",
        "outputId": "ddb8273f-c305-4631-b80b-3191a6ac64c7"
      },
      "source": [
        "Airline.shape"
      ],
      "execution_count": null,
      "outputs": [
        {
          "output_type": "execute_result",
          "data": {
            "text/plain": [
              "(2671, 11)"
            ]
          },
          "metadata": {
            "tags": []
          },
          "execution_count": 181
        }
      ]
    },
    {
      "cell_type": "code",
      "metadata": {
        "colab": {
          "base_uri": "https://localhost:8080/"
        },
        "id": "GIBJR1SVVqZS",
        "outputId": "9dc04c7f-7bb1-4502-d730-0971b3bf6799"
      },
      "source": [
        "dtest[['Destination']].value_counts()"
      ],
      "execution_count": null,
      "outputs": [
        {
          "output_type": "execute_result",
          "data": {
            "text/plain": [
              "Destination\n",
              "Cochin         1145\n",
              "Banglore        710\n",
              "Delhi           317\n",
              "New Delhi       238\n",
              "Hyderabad       186\n",
              "Kolkata          75\n",
              "dtype: int64"
            ]
          },
          "metadata": {
            "tags": []
          },
          "execution_count": 182
        }
      ]
    },
    {
      "cell_type": "code",
      "metadata": {
        "colab": {
          "base_uri": "https://localhost:8080/",
          "height": 195
        },
        "id": "zfUvGm-EVyck",
        "outputId": "899ec587-71d5-4e47-ca5c-206c72bf97ec"
      },
      "source": [
        "Destination = dtest[[\"Destination\"]]\n",
        "Destination = pd.get_dummies(Destination)\n",
        "Destination.head()"
      ],
      "execution_count": null,
      "outputs": [
        {
          "output_type": "execute_result",
          "data": {
            "text/html": [
              "<div>\n",
              "<style scoped>\n",
              "    .dataframe tbody tr th:only-of-type {\n",
              "        vertical-align: middle;\n",
              "    }\n",
              "\n",
              "    .dataframe tbody tr th {\n",
              "        vertical-align: top;\n",
              "    }\n",
              "\n",
              "    .dataframe thead th {\n",
              "        text-align: right;\n",
              "    }\n",
              "</style>\n",
              "<table border=\"1\" class=\"dataframe\">\n",
              "  <thead>\n",
              "    <tr style=\"text-align: right;\">\n",
              "      <th></th>\n",
              "      <th>Destination_Banglore</th>\n",
              "      <th>Destination_Cochin</th>\n",
              "      <th>Destination_Delhi</th>\n",
              "      <th>Destination_Hyderabad</th>\n",
              "      <th>Destination_Kolkata</th>\n",
              "      <th>Destination_New Delhi</th>\n",
              "    </tr>\n",
              "  </thead>\n",
              "  <tbody>\n",
              "    <tr>\n",
              "      <th>0</th>\n",
              "      <td>0</td>\n",
              "      <td>1</td>\n",
              "      <td>0</td>\n",
              "      <td>0</td>\n",
              "      <td>0</td>\n",
              "      <td>0</td>\n",
              "    </tr>\n",
              "    <tr>\n",
              "      <th>1</th>\n",
              "      <td>1</td>\n",
              "      <td>0</td>\n",
              "      <td>0</td>\n",
              "      <td>0</td>\n",
              "      <td>0</td>\n",
              "      <td>0</td>\n",
              "    </tr>\n",
              "    <tr>\n",
              "      <th>2</th>\n",
              "      <td>0</td>\n",
              "      <td>1</td>\n",
              "      <td>0</td>\n",
              "      <td>0</td>\n",
              "      <td>0</td>\n",
              "      <td>0</td>\n",
              "    </tr>\n",
              "    <tr>\n",
              "      <th>3</th>\n",
              "      <td>0</td>\n",
              "      <td>1</td>\n",
              "      <td>0</td>\n",
              "      <td>0</td>\n",
              "      <td>0</td>\n",
              "      <td>0</td>\n",
              "    </tr>\n",
              "    <tr>\n",
              "      <th>4</th>\n",
              "      <td>0</td>\n",
              "      <td>0</td>\n",
              "      <td>1</td>\n",
              "      <td>0</td>\n",
              "      <td>0</td>\n",
              "      <td>0</td>\n",
              "    </tr>\n",
              "  </tbody>\n",
              "</table>\n",
              "</div>"
            ],
            "text/plain": [
              "   Destination_Banglore  ...  Destination_New Delhi\n",
              "0                     0  ...                      0\n",
              "1                     1  ...                      0\n",
              "2                     0  ...                      0\n",
              "3                     0  ...                      0\n",
              "4                     0  ...                      0\n",
              "\n",
              "[5 rows x 6 columns]"
            ]
          },
          "metadata": {
            "tags": []
          },
          "execution_count": 183
        }
      ]
    },
    {
      "cell_type": "code",
      "metadata": {
        "colab": {
          "base_uri": "https://localhost:8080/"
        },
        "id": "lE1onkvMWD4C",
        "outputId": "b6ce6c0e-745d-46c1-ff62-11c5ee256e65"
      },
      "source": [
        "Destination.shape"
      ],
      "execution_count": null,
      "outputs": [
        {
          "output_type": "execute_result",
          "data": {
            "text/plain": [
              "(2671, 6)"
            ]
          },
          "metadata": {
            "tags": []
          },
          "execution_count": 184
        }
      ]
    },
    {
      "cell_type": "code",
      "metadata": {
        "colab": {
          "base_uri": "https://localhost:8080/"
        },
        "id": "Uxky-WUwVKY_",
        "outputId": "8a1c92cb-b8d6-4aee-db25-1831765ad735"
      },
      "source": [
        "dtest[['Source']].value_counts()"
      ],
      "execution_count": null,
      "outputs": [
        {
          "output_type": "execute_result",
          "data": {
            "text/plain": [
              "Source  \n",
              "Delhi       1145\n",
              "Kolkata      710\n",
              "Banglore     555\n",
              "Mumbai       186\n",
              "Chennai       75\n",
              "dtype: int64"
            ]
          },
          "metadata": {
            "tags": []
          },
          "execution_count": 185
        }
      ]
    },
    {
      "cell_type": "code",
      "metadata": {
        "colab": {
          "base_uri": "https://localhost:8080/",
          "height": 195
        },
        "id": "yxC65kIMWJQf",
        "outputId": "ab7be197-ce54-4882-d41d-24c31ffeb30c"
      },
      "source": [
        "Source = dtest[[\"Source\"]]\n",
        "Source = pd.get_dummies(Source)\n",
        "Source.head()"
      ],
      "execution_count": null,
      "outputs": [
        {
          "output_type": "execute_result",
          "data": {
            "text/html": [
              "<div>\n",
              "<style scoped>\n",
              "    .dataframe tbody tr th:only-of-type {\n",
              "        vertical-align: middle;\n",
              "    }\n",
              "\n",
              "    .dataframe tbody tr th {\n",
              "        vertical-align: top;\n",
              "    }\n",
              "\n",
              "    .dataframe thead th {\n",
              "        text-align: right;\n",
              "    }\n",
              "</style>\n",
              "<table border=\"1\" class=\"dataframe\">\n",
              "  <thead>\n",
              "    <tr style=\"text-align: right;\">\n",
              "      <th></th>\n",
              "      <th>Source_Banglore</th>\n",
              "      <th>Source_Chennai</th>\n",
              "      <th>Source_Delhi</th>\n",
              "      <th>Source_Kolkata</th>\n",
              "      <th>Source_Mumbai</th>\n",
              "    </tr>\n",
              "  </thead>\n",
              "  <tbody>\n",
              "    <tr>\n",
              "      <th>0</th>\n",
              "      <td>0</td>\n",
              "      <td>0</td>\n",
              "      <td>1</td>\n",
              "      <td>0</td>\n",
              "      <td>0</td>\n",
              "    </tr>\n",
              "    <tr>\n",
              "      <th>1</th>\n",
              "      <td>0</td>\n",
              "      <td>0</td>\n",
              "      <td>0</td>\n",
              "      <td>1</td>\n",
              "      <td>0</td>\n",
              "    </tr>\n",
              "    <tr>\n",
              "      <th>2</th>\n",
              "      <td>0</td>\n",
              "      <td>0</td>\n",
              "      <td>1</td>\n",
              "      <td>0</td>\n",
              "      <td>0</td>\n",
              "    </tr>\n",
              "    <tr>\n",
              "      <th>3</th>\n",
              "      <td>0</td>\n",
              "      <td>0</td>\n",
              "      <td>1</td>\n",
              "      <td>0</td>\n",
              "      <td>0</td>\n",
              "    </tr>\n",
              "    <tr>\n",
              "      <th>4</th>\n",
              "      <td>1</td>\n",
              "      <td>0</td>\n",
              "      <td>0</td>\n",
              "      <td>0</td>\n",
              "      <td>0</td>\n",
              "    </tr>\n",
              "  </tbody>\n",
              "</table>\n",
              "</div>"
            ],
            "text/plain": [
              "   Source_Banglore  Source_Chennai  Source_Delhi  Source_Kolkata  Source_Mumbai\n",
              "0                0               0             1               0              0\n",
              "1                0               0             0               1              0\n",
              "2                0               0             1               0              0\n",
              "3                0               0             1               0              0\n",
              "4                1               0             0               0              0"
            ]
          },
          "metadata": {
            "tags": []
          },
          "execution_count": 186
        }
      ]
    },
    {
      "cell_type": "code",
      "metadata": {
        "colab": {
          "base_uri": "https://localhost:8080/"
        },
        "id": "HwVCtp2-WO2U",
        "outputId": "b919c6ee-f725-4a49-f3ba-9fe10195ce7a"
      },
      "source": [
        "Source.shape"
      ],
      "execution_count": null,
      "outputs": [
        {
          "output_type": "execute_result",
          "data": {
            "text/plain": [
              "(2671, 5)"
            ]
          },
          "metadata": {
            "tags": []
          },
          "execution_count": 187
        }
      ]
    },
    {
      "cell_type": "code",
      "metadata": {
        "id": "uDOe2bMvbKuM"
      },
      "source": [
        "## dealing with categorical data\n",
        "\n",
        "## Route and total stops are related to each other..so remove route\n",
        "dtest.drop(['Route'],axis=1,inplace=True)\n",
        "\n",
        "## Replacing total stops\n",
        "dict_Stops = {'non-stop':0, '1 stop':1, '2 stops':2, '3 stops':3, '4 stops':4}\n",
        "dtest['Total_Stops'] = dtest['Total_Stops'].map(dict_Stops)"
      ],
      "execution_count": null,
      "outputs": []
    },
    {
      "cell_type": "code",
      "metadata": {
        "colab": {
          "base_uri": "https://localhost:8080/",
          "height": 195
        },
        "id": "oh2vk7vHaNuM",
        "outputId": "431837ba-9497-4b94-d1cd-496fd0691d8a"
      },
      "source": [
        "dtest.head()"
      ],
      "execution_count": null,
      "outputs": [
        {
          "output_type": "execute_result",
          "data": {
            "text/html": [
              "<div>\n",
              "<style scoped>\n",
              "    .dataframe tbody tr th:only-of-type {\n",
              "        vertical-align: middle;\n",
              "    }\n",
              "\n",
              "    .dataframe tbody tr th {\n",
              "        vertical-align: top;\n",
              "    }\n",
              "\n",
              "    .dataframe thead th {\n",
              "        text-align: right;\n",
              "    }\n",
              "</style>\n",
              "<table border=\"1\" class=\"dataframe\">\n",
              "  <thead>\n",
              "    <tr style=\"text-align: right;\">\n",
              "      <th></th>\n",
              "      <th>Airline</th>\n",
              "      <th>Source</th>\n",
              "      <th>Destination</th>\n",
              "      <th>Total_Stops</th>\n",
              "      <th>day</th>\n",
              "      <th>month</th>\n",
              "      <th>dep_hour</th>\n",
              "      <th>dep_min</th>\n",
              "      <th>Arr_hour</th>\n",
              "      <th>Arr_min</th>\n",
              "      <th>dur_hr</th>\n",
              "      <th>dur_min</th>\n",
              "    </tr>\n",
              "  </thead>\n",
              "  <tbody>\n",
              "    <tr>\n",
              "      <th>0</th>\n",
              "      <td>Jet Airways</td>\n",
              "      <td>Delhi</td>\n",
              "      <td>Cochin</td>\n",
              "      <td>1</td>\n",
              "      <td>6</td>\n",
              "      <td>6</td>\n",
              "      <td>17</td>\n",
              "      <td>30</td>\n",
              "      <td>4</td>\n",
              "      <td>25</td>\n",
              "      <td>10</td>\n",
              "      <td>55</td>\n",
              "    </tr>\n",
              "    <tr>\n",
              "      <th>1</th>\n",
              "      <td>IndiGo</td>\n",
              "      <td>Kolkata</td>\n",
              "      <td>Banglore</td>\n",
              "      <td>1</td>\n",
              "      <td>12</td>\n",
              "      <td>5</td>\n",
              "      <td>6</td>\n",
              "      <td>20</td>\n",
              "      <td>10</td>\n",
              "      <td>20</td>\n",
              "      <td>4</td>\n",
              "      <td>0</td>\n",
              "    </tr>\n",
              "    <tr>\n",
              "      <th>2</th>\n",
              "      <td>Jet Airways</td>\n",
              "      <td>Delhi</td>\n",
              "      <td>Cochin</td>\n",
              "      <td>1</td>\n",
              "      <td>21</td>\n",
              "      <td>5</td>\n",
              "      <td>19</td>\n",
              "      <td>15</td>\n",
              "      <td>19</td>\n",
              "      <td>0</td>\n",
              "      <td>23</td>\n",
              "      <td>45</td>\n",
              "    </tr>\n",
              "    <tr>\n",
              "      <th>3</th>\n",
              "      <td>Multiple carriers</td>\n",
              "      <td>Delhi</td>\n",
              "      <td>Cochin</td>\n",
              "      <td>1</td>\n",
              "      <td>21</td>\n",
              "      <td>5</td>\n",
              "      <td>8</td>\n",
              "      <td>0</td>\n",
              "      <td>21</td>\n",
              "      <td>0</td>\n",
              "      <td>13</td>\n",
              "      <td>0</td>\n",
              "    </tr>\n",
              "    <tr>\n",
              "      <th>4</th>\n",
              "      <td>Air Asia</td>\n",
              "      <td>Banglore</td>\n",
              "      <td>Delhi</td>\n",
              "      <td>0</td>\n",
              "      <td>24</td>\n",
              "      <td>6</td>\n",
              "      <td>23</td>\n",
              "      <td>55</td>\n",
              "      <td>2</td>\n",
              "      <td>45</td>\n",
              "      <td>2</td>\n",
              "      <td>50</td>\n",
              "    </tr>\n",
              "  </tbody>\n",
              "</table>\n",
              "</div>"
            ],
            "text/plain": [
              "             Airline    Source Destination  ...  Arr_min  dur_hr  dur_min\n",
              "0        Jet Airways     Delhi      Cochin  ...       25      10       55\n",
              "1             IndiGo   Kolkata    Banglore  ...       20       4        0\n",
              "2        Jet Airways     Delhi      Cochin  ...        0      23       45\n",
              "3  Multiple carriers     Delhi      Cochin  ...        0      13        0\n",
              "4           Air Asia  Banglore       Delhi  ...       45       2       50\n",
              "\n",
              "[5 rows x 12 columns]"
            ]
          },
          "metadata": {
            "tags": []
          },
          "execution_count": 190
        }
      ]
    },
    {
      "cell_type": "code",
      "metadata": {
        "id": "co_N70XKYNOm"
      },
      "source": [
        "test_data = pd.concat([Source, Destination, dtest, Airline], axis = 1)\n",
        "test_data.drop([\"Airline\", \"Source\", \"Destination\"], axis = 1, inplace = True)"
      ],
      "execution_count": null,
      "outputs": []
    },
    {
      "cell_type": "code",
      "metadata": {
        "colab": {
          "base_uri": "https://localhost:8080/",
          "height": 249
        },
        "id": "Y7VCCs4zX-Vv",
        "outputId": "91da8913-e090-4891-dfc9-9d1f021f20b1"
      },
      "source": [
        "test_data.head()"
      ],
      "execution_count": null,
      "outputs": [
        {
          "output_type": "execute_result",
          "data": {
            "text/html": [
              "<div>\n",
              "<style scoped>\n",
              "    .dataframe tbody tr th:only-of-type {\n",
              "        vertical-align: middle;\n",
              "    }\n",
              "\n",
              "    .dataframe tbody tr th {\n",
              "        vertical-align: top;\n",
              "    }\n",
              "\n",
              "    .dataframe thead th {\n",
              "        text-align: right;\n",
              "    }\n",
              "</style>\n",
              "<table border=\"1\" class=\"dataframe\">\n",
              "  <thead>\n",
              "    <tr style=\"text-align: right;\">\n",
              "      <th></th>\n",
              "      <th>Source_Banglore</th>\n",
              "      <th>Source_Chennai</th>\n",
              "      <th>Source_Delhi</th>\n",
              "      <th>Source_Kolkata</th>\n",
              "      <th>Source_Mumbai</th>\n",
              "      <th>Destination_Banglore</th>\n",
              "      <th>Destination_Cochin</th>\n",
              "      <th>Destination_Delhi</th>\n",
              "      <th>Destination_Hyderabad</th>\n",
              "      <th>Destination_Kolkata</th>\n",
              "      <th>Destination_New Delhi</th>\n",
              "      <th>Total_Stops</th>\n",
              "      <th>day</th>\n",
              "      <th>month</th>\n",
              "      <th>dep_hour</th>\n",
              "      <th>dep_min</th>\n",
              "      <th>Arr_hour</th>\n",
              "      <th>Arr_min</th>\n",
              "      <th>dur_hr</th>\n",
              "      <th>dur_min</th>\n",
              "      <th>Airline_Air Asia</th>\n",
              "      <th>Airline_Air India</th>\n",
              "      <th>Airline_GoAir</th>\n",
              "      <th>Airline_IndiGo</th>\n",
              "      <th>Airline_Jet Airways</th>\n",
              "      <th>Airline_Jet Airways Business</th>\n",
              "      <th>Airline_Multiple carriers</th>\n",
              "      <th>Airline_Multiple carriers Premium economy</th>\n",
              "      <th>Airline_SpiceJet</th>\n",
              "      <th>Airline_Vistara</th>\n",
              "      <th>Airline_Vistara Premium economy</th>\n",
              "    </tr>\n",
              "  </thead>\n",
              "  <tbody>\n",
              "    <tr>\n",
              "      <th>0</th>\n",
              "      <td>0</td>\n",
              "      <td>0</td>\n",
              "      <td>1</td>\n",
              "      <td>0</td>\n",
              "      <td>0</td>\n",
              "      <td>0</td>\n",
              "      <td>1</td>\n",
              "      <td>0</td>\n",
              "      <td>0</td>\n",
              "      <td>0</td>\n",
              "      <td>0</td>\n",
              "      <td>1</td>\n",
              "      <td>6</td>\n",
              "      <td>6</td>\n",
              "      <td>17</td>\n",
              "      <td>30</td>\n",
              "      <td>4</td>\n",
              "      <td>25</td>\n",
              "      <td>10</td>\n",
              "      <td>55</td>\n",
              "      <td>0</td>\n",
              "      <td>0</td>\n",
              "      <td>0</td>\n",
              "      <td>0</td>\n",
              "      <td>1</td>\n",
              "      <td>0</td>\n",
              "      <td>0</td>\n",
              "      <td>0</td>\n",
              "      <td>0</td>\n",
              "      <td>0</td>\n",
              "      <td>0</td>\n",
              "    </tr>\n",
              "    <tr>\n",
              "      <th>1</th>\n",
              "      <td>0</td>\n",
              "      <td>0</td>\n",
              "      <td>0</td>\n",
              "      <td>1</td>\n",
              "      <td>0</td>\n",
              "      <td>1</td>\n",
              "      <td>0</td>\n",
              "      <td>0</td>\n",
              "      <td>0</td>\n",
              "      <td>0</td>\n",
              "      <td>0</td>\n",
              "      <td>1</td>\n",
              "      <td>12</td>\n",
              "      <td>5</td>\n",
              "      <td>6</td>\n",
              "      <td>20</td>\n",
              "      <td>10</td>\n",
              "      <td>20</td>\n",
              "      <td>4</td>\n",
              "      <td>0</td>\n",
              "      <td>0</td>\n",
              "      <td>0</td>\n",
              "      <td>0</td>\n",
              "      <td>1</td>\n",
              "      <td>0</td>\n",
              "      <td>0</td>\n",
              "      <td>0</td>\n",
              "      <td>0</td>\n",
              "      <td>0</td>\n",
              "      <td>0</td>\n",
              "      <td>0</td>\n",
              "    </tr>\n",
              "    <tr>\n",
              "      <th>2</th>\n",
              "      <td>0</td>\n",
              "      <td>0</td>\n",
              "      <td>1</td>\n",
              "      <td>0</td>\n",
              "      <td>0</td>\n",
              "      <td>0</td>\n",
              "      <td>1</td>\n",
              "      <td>0</td>\n",
              "      <td>0</td>\n",
              "      <td>0</td>\n",
              "      <td>0</td>\n",
              "      <td>1</td>\n",
              "      <td>21</td>\n",
              "      <td>5</td>\n",
              "      <td>19</td>\n",
              "      <td>15</td>\n",
              "      <td>19</td>\n",
              "      <td>0</td>\n",
              "      <td>23</td>\n",
              "      <td>45</td>\n",
              "      <td>0</td>\n",
              "      <td>0</td>\n",
              "      <td>0</td>\n",
              "      <td>0</td>\n",
              "      <td>1</td>\n",
              "      <td>0</td>\n",
              "      <td>0</td>\n",
              "      <td>0</td>\n",
              "      <td>0</td>\n",
              "      <td>0</td>\n",
              "      <td>0</td>\n",
              "    </tr>\n",
              "    <tr>\n",
              "      <th>3</th>\n",
              "      <td>0</td>\n",
              "      <td>0</td>\n",
              "      <td>1</td>\n",
              "      <td>0</td>\n",
              "      <td>0</td>\n",
              "      <td>0</td>\n",
              "      <td>1</td>\n",
              "      <td>0</td>\n",
              "      <td>0</td>\n",
              "      <td>0</td>\n",
              "      <td>0</td>\n",
              "      <td>1</td>\n",
              "      <td>21</td>\n",
              "      <td>5</td>\n",
              "      <td>8</td>\n",
              "      <td>0</td>\n",
              "      <td>21</td>\n",
              "      <td>0</td>\n",
              "      <td>13</td>\n",
              "      <td>0</td>\n",
              "      <td>0</td>\n",
              "      <td>0</td>\n",
              "      <td>0</td>\n",
              "      <td>0</td>\n",
              "      <td>0</td>\n",
              "      <td>0</td>\n",
              "      <td>1</td>\n",
              "      <td>0</td>\n",
              "      <td>0</td>\n",
              "      <td>0</td>\n",
              "      <td>0</td>\n",
              "    </tr>\n",
              "    <tr>\n",
              "      <th>4</th>\n",
              "      <td>1</td>\n",
              "      <td>0</td>\n",
              "      <td>0</td>\n",
              "      <td>0</td>\n",
              "      <td>0</td>\n",
              "      <td>0</td>\n",
              "      <td>0</td>\n",
              "      <td>1</td>\n",
              "      <td>0</td>\n",
              "      <td>0</td>\n",
              "      <td>0</td>\n",
              "      <td>0</td>\n",
              "      <td>24</td>\n",
              "      <td>6</td>\n",
              "      <td>23</td>\n",
              "      <td>55</td>\n",
              "      <td>2</td>\n",
              "      <td>45</td>\n",
              "      <td>2</td>\n",
              "      <td>50</td>\n",
              "      <td>1</td>\n",
              "      <td>0</td>\n",
              "      <td>0</td>\n",
              "      <td>0</td>\n",
              "      <td>0</td>\n",
              "      <td>0</td>\n",
              "      <td>0</td>\n",
              "      <td>0</td>\n",
              "      <td>0</td>\n",
              "      <td>0</td>\n",
              "      <td>0</td>\n",
              "    </tr>\n",
              "  </tbody>\n",
              "</table>\n",
              "</div>"
            ],
            "text/plain": [
              "   Source_Banglore  ...  Airline_Vistara Premium economy\n",
              "0                0  ...                                0\n",
              "1                0  ...                                0\n",
              "2                0  ...                                0\n",
              "3                0  ...                                0\n",
              "4                1  ...                                0\n",
              "\n",
              "[5 rows x 31 columns]"
            ]
          },
          "metadata": {
            "tags": []
          },
          "execution_count": 191
        }
      ]
    },
    {
      "cell_type": "code",
      "metadata": {
        "id": "bwZ8GGTKbKuN",
        "colab": {
          "base_uri": "https://localhost:8080/"
        },
        "outputId": "5fa7ae4e-221d-4a1e-b606-4e175b8129d9"
      },
      "source": [
        "test_data.shape"
      ],
      "execution_count": null,
      "outputs": [
        {
          "output_type": "execute_result",
          "data": {
            "text/plain": [
              "(2671, 31)"
            ]
          },
          "metadata": {
            "tags": []
          },
          "execution_count": 192
        }
      ]
    },
    {
      "cell_type": "markdown",
      "metadata": {
        "id": "S_uFCBuVbKuN"
      },
      "source": [
        "## Feature Selection\n",
        "#### Following are some of feature selection methods:\n",
        "#### 1. Heatmap\n",
        "#### 2.feature_importance\n",
        "#### 3.SelectKBest"
      ]
    },
    {
      "cell_type": "code",
      "metadata": {
        "id": "N76gmNg7bKuN"
      },
      "source": [
        "## dtrain -- Train data\n",
        "## test_data -- Test data"
      ],
      "execution_count": null,
      "outputs": []
    },
    {
      "cell_type": "code",
      "metadata": {
        "id": "FCxhjL5UbKuO",
        "colab": {
          "base_uri": "https://localhost:8080/"
        },
        "outputId": "01b5d2f0-2175-4e3a-ceba-917fa6d25004"
      },
      "source": [
        "dtrain.shape"
      ],
      "execution_count": null,
      "outputs": [
        {
          "output_type": "execute_result",
          "data": {
            "text/plain": [
              "(10682, 33)"
            ]
          },
          "metadata": {
            "tags": []
          },
          "execution_count": 194
        }
      ]
    },
    {
      "cell_type": "code",
      "metadata": {
        "id": "Q5pNL2qPbKuO",
        "colab": {
          "base_uri": "https://localhost:8080/"
        },
        "outputId": "30d3b28a-2f9f-44aa-ab48-d1b6eb304ad2"
      },
      "source": [
        "dtrain.columns"
      ],
      "execution_count": null,
      "outputs": [
        {
          "output_type": "execute_result",
          "data": {
            "text/plain": [
              "Index(['Source_Banglore', 'Source_Chennai', 'Source_Delhi', 'Source_Kolkata',\n",
              "       'Source_Mumbai', 'Destination_Banglore', 'Destination_Cochin',\n",
              "       'Destination_Delhi', 'Destination_Hyderabad', 'Destination_Kolkata',\n",
              "       'Destination_New Delhi', 'Total_Stops', 'Price', 'Journey_day',\n",
              "       'Journey_month', 'Dep_hour', 'Dep_min', 'Arrival_hour', 'Arrival_min',\n",
              "       'Duration_hours', 'Duration_mins', 'Airline_Air Asia',\n",
              "       'Airline_Air India', 'Airline_GoAir', 'Airline_IndiGo',\n",
              "       'Airline_Jet Airways', 'Airline_Jet Airways Business',\n",
              "       'Airline_Multiple carriers',\n",
              "       'Airline_Multiple carriers Premium economy', 'Airline_SpiceJet',\n",
              "       'Airline_Trujet', 'Airline_Vistara', 'Airline_Vistara Premium economy'],\n",
              "      dtype='object')"
            ]
          },
          "metadata": {
            "tags": []
          },
          "execution_count": 195
        }
      ]
    },
    {
      "cell_type": "code",
      "metadata": {
        "id": "MTLSanEabKuO",
        "colab": {
          "base_uri": "https://localhost:8080/",
          "height": 249
        },
        "outputId": "7f95a3f3-c07e-4a8f-b464-9c6d1ec46999"
      },
      "source": [
        "x=dtrain.loc[:,['Source_Banglore', 'Source_Chennai', 'Source_Delhi', 'Source_Kolkata','Source_Mumbai',\n",
        "                'Destination_Banglore', 'Destination_Cochin', 'Destination_Delhi', 'Destination_Hyderabad', 'Destination_Kolkata', 'Destination_New Delhi',\n",
        "                'Journey_day', 'Journey_month', 'Dep_hour', 'Dep_min', 'Arrival_hour', 'Arrival_min', 'Duration_hours', 'Duration_mins', 'Total_Stops',\n",
        "                'Airline_Air Asia', 'Airline_Air India', 'Airline_GoAir', 'Airline_IndiGo', 'Airline_Jet Airways', 'Airline_Jet Airways Business',\n",
        "                'Airline_Multiple carriers', 'Airline_Multiple carriers Premium economy', 'Airline_SpiceJet', 'Airline_Trujet', 'Airline_Vistara', \n",
        "                'Airline_Vistara Premium economy']]\n",
        "x.head()"
      ],
      "execution_count": null,
      "outputs": [
        {
          "output_type": "execute_result",
          "data": {
            "text/html": [
              "<div>\n",
              "<style scoped>\n",
              "    .dataframe tbody tr th:only-of-type {\n",
              "        vertical-align: middle;\n",
              "    }\n",
              "\n",
              "    .dataframe tbody tr th {\n",
              "        vertical-align: top;\n",
              "    }\n",
              "\n",
              "    .dataframe thead th {\n",
              "        text-align: right;\n",
              "    }\n",
              "</style>\n",
              "<table border=\"1\" class=\"dataframe\">\n",
              "  <thead>\n",
              "    <tr style=\"text-align: right;\">\n",
              "      <th></th>\n",
              "      <th>Source_Banglore</th>\n",
              "      <th>Source_Chennai</th>\n",
              "      <th>Source_Delhi</th>\n",
              "      <th>Source_Kolkata</th>\n",
              "      <th>Source_Mumbai</th>\n",
              "      <th>Destination_Banglore</th>\n",
              "      <th>Destination_Cochin</th>\n",
              "      <th>Destination_Delhi</th>\n",
              "      <th>Destination_Hyderabad</th>\n",
              "      <th>Destination_Kolkata</th>\n",
              "      <th>Destination_New Delhi</th>\n",
              "      <th>Journey_day</th>\n",
              "      <th>Journey_month</th>\n",
              "      <th>Dep_hour</th>\n",
              "      <th>Dep_min</th>\n",
              "      <th>Arrival_hour</th>\n",
              "      <th>Arrival_min</th>\n",
              "      <th>Duration_hours</th>\n",
              "      <th>Duration_mins</th>\n",
              "      <th>Total_Stops</th>\n",
              "      <th>Airline_Air Asia</th>\n",
              "      <th>Airline_Air India</th>\n",
              "      <th>Airline_GoAir</th>\n",
              "      <th>Airline_IndiGo</th>\n",
              "      <th>Airline_Jet Airways</th>\n",
              "      <th>Airline_Jet Airways Business</th>\n",
              "      <th>Airline_Multiple carriers</th>\n",
              "      <th>Airline_Multiple carriers Premium economy</th>\n",
              "      <th>Airline_SpiceJet</th>\n",
              "      <th>Airline_Trujet</th>\n",
              "      <th>Airline_Vistara</th>\n",
              "      <th>Airline_Vistara Premium economy</th>\n",
              "    </tr>\n",
              "  </thead>\n",
              "  <tbody>\n",
              "    <tr>\n",
              "      <th>0</th>\n",
              "      <td>1</td>\n",
              "      <td>0</td>\n",
              "      <td>0</td>\n",
              "      <td>0</td>\n",
              "      <td>0</td>\n",
              "      <td>0</td>\n",
              "      <td>0</td>\n",
              "      <td>0</td>\n",
              "      <td>0</td>\n",
              "      <td>0</td>\n",
              "      <td>1</td>\n",
              "      <td>24</td>\n",
              "      <td>3</td>\n",
              "      <td>22</td>\n",
              "      <td>20</td>\n",
              "      <td>1</td>\n",
              "      <td>10</td>\n",
              "      <td>2</td>\n",
              "      <td>50</td>\n",
              "      <td>0</td>\n",
              "      <td>0</td>\n",
              "      <td>0</td>\n",
              "      <td>0</td>\n",
              "      <td>1</td>\n",
              "      <td>0</td>\n",
              "      <td>0</td>\n",
              "      <td>0</td>\n",
              "      <td>0</td>\n",
              "      <td>0</td>\n",
              "      <td>0</td>\n",
              "      <td>0</td>\n",
              "      <td>0</td>\n",
              "    </tr>\n",
              "    <tr>\n",
              "      <th>1</th>\n",
              "      <td>0</td>\n",
              "      <td>0</td>\n",
              "      <td>0</td>\n",
              "      <td>1</td>\n",
              "      <td>0</td>\n",
              "      <td>1</td>\n",
              "      <td>0</td>\n",
              "      <td>0</td>\n",
              "      <td>0</td>\n",
              "      <td>0</td>\n",
              "      <td>0</td>\n",
              "      <td>1</td>\n",
              "      <td>5</td>\n",
              "      <td>5</td>\n",
              "      <td>50</td>\n",
              "      <td>13</td>\n",
              "      <td>15</td>\n",
              "      <td>7</td>\n",
              "      <td>25</td>\n",
              "      <td>2</td>\n",
              "      <td>0</td>\n",
              "      <td>1</td>\n",
              "      <td>0</td>\n",
              "      <td>0</td>\n",
              "      <td>0</td>\n",
              "      <td>0</td>\n",
              "      <td>0</td>\n",
              "      <td>0</td>\n",
              "      <td>0</td>\n",
              "      <td>0</td>\n",
              "      <td>0</td>\n",
              "      <td>0</td>\n",
              "    </tr>\n",
              "    <tr>\n",
              "      <th>2</th>\n",
              "      <td>0</td>\n",
              "      <td>0</td>\n",
              "      <td>1</td>\n",
              "      <td>0</td>\n",
              "      <td>0</td>\n",
              "      <td>0</td>\n",
              "      <td>1</td>\n",
              "      <td>0</td>\n",
              "      <td>0</td>\n",
              "      <td>0</td>\n",
              "      <td>0</td>\n",
              "      <td>9</td>\n",
              "      <td>6</td>\n",
              "      <td>9</td>\n",
              "      <td>25</td>\n",
              "      <td>4</td>\n",
              "      <td>25</td>\n",
              "      <td>19</td>\n",
              "      <td>0</td>\n",
              "      <td>2</td>\n",
              "      <td>0</td>\n",
              "      <td>0</td>\n",
              "      <td>0</td>\n",
              "      <td>0</td>\n",
              "      <td>1</td>\n",
              "      <td>0</td>\n",
              "      <td>0</td>\n",
              "      <td>0</td>\n",
              "      <td>0</td>\n",
              "      <td>0</td>\n",
              "      <td>0</td>\n",
              "      <td>0</td>\n",
              "    </tr>\n",
              "    <tr>\n",
              "      <th>3</th>\n",
              "      <td>0</td>\n",
              "      <td>0</td>\n",
              "      <td>0</td>\n",
              "      <td>1</td>\n",
              "      <td>0</td>\n",
              "      <td>1</td>\n",
              "      <td>0</td>\n",
              "      <td>0</td>\n",
              "      <td>0</td>\n",
              "      <td>0</td>\n",
              "      <td>0</td>\n",
              "      <td>12</td>\n",
              "      <td>5</td>\n",
              "      <td>18</td>\n",
              "      <td>5</td>\n",
              "      <td>23</td>\n",
              "      <td>30</td>\n",
              "      <td>5</td>\n",
              "      <td>25</td>\n",
              "      <td>1</td>\n",
              "      <td>0</td>\n",
              "      <td>0</td>\n",
              "      <td>0</td>\n",
              "      <td>1</td>\n",
              "      <td>0</td>\n",
              "      <td>0</td>\n",
              "      <td>0</td>\n",
              "      <td>0</td>\n",
              "      <td>0</td>\n",
              "      <td>0</td>\n",
              "      <td>0</td>\n",
              "      <td>0</td>\n",
              "    </tr>\n",
              "    <tr>\n",
              "      <th>4</th>\n",
              "      <td>1</td>\n",
              "      <td>0</td>\n",
              "      <td>0</td>\n",
              "      <td>0</td>\n",
              "      <td>0</td>\n",
              "      <td>0</td>\n",
              "      <td>0</td>\n",
              "      <td>0</td>\n",
              "      <td>0</td>\n",
              "      <td>0</td>\n",
              "      <td>1</td>\n",
              "      <td>1</td>\n",
              "      <td>3</td>\n",
              "      <td>16</td>\n",
              "      <td>50</td>\n",
              "      <td>21</td>\n",
              "      <td>35</td>\n",
              "      <td>4</td>\n",
              "      <td>45</td>\n",
              "      <td>1</td>\n",
              "      <td>0</td>\n",
              "      <td>0</td>\n",
              "      <td>0</td>\n",
              "      <td>1</td>\n",
              "      <td>0</td>\n",
              "      <td>0</td>\n",
              "      <td>0</td>\n",
              "      <td>0</td>\n",
              "      <td>0</td>\n",
              "      <td>0</td>\n",
              "      <td>0</td>\n",
              "      <td>0</td>\n",
              "    </tr>\n",
              "  </tbody>\n",
              "</table>\n",
              "</div>"
            ],
            "text/plain": [
              "   Source_Banglore  ...  Airline_Vistara Premium economy\n",
              "0                1  ...                                0\n",
              "1                0  ...                                0\n",
              "2                0  ...                                0\n",
              "3                0  ...                                0\n",
              "4                1  ...                                0\n",
              "\n",
              "[5 rows x 32 columns]"
            ]
          },
          "metadata": {
            "tags": []
          },
          "execution_count": 197
        }
      ]
    },
    {
      "cell_type": "code",
      "metadata": {
        "colab": {
          "base_uri": "https://localhost:8080/"
        },
        "id": "1RXijnZ-HzUz",
        "outputId": "25e7bf39-d1cf-476e-c0b6-8837be0b28a8"
      },
      "source": [
        "x.shape"
      ],
      "execution_count": null,
      "outputs": [
        {
          "output_type": "execute_result",
          "data": {
            "text/plain": [
              "(10682, 32)"
            ]
          },
          "metadata": {
            "tags": []
          },
          "execution_count": 198
        }
      ]
    },
    {
      "cell_type": "code",
      "metadata": {
        "id": "YhgMlbcQbKuP",
        "colab": {
          "base_uri": "https://localhost:8080/"
        },
        "outputId": "43daa1ee-aa50-47c9-c3e8-1081a5914906"
      },
      "source": [
        "y=dtrain['Price']\n",
        "y.head()"
      ],
      "execution_count": null,
      "outputs": [
        {
          "output_type": "execute_result",
          "data": {
            "text/plain": [
              "0     3897\n",
              "1     7662\n",
              "2    13882\n",
              "3     6218\n",
              "4    13302\n",
              "Name: Price, dtype: int64"
            ]
          },
          "metadata": {
            "tags": []
          },
          "execution_count": 201
        }
      ]
    },
    {
      "cell_type": "code",
      "metadata": {
        "id": "kj5Y-nb6bKuP",
        "colab": {
          "base_uri": "https://localhost:8080/",
          "height": 1000
        },
        "outputId": "02e6182c-68f4-4aa7-814e-06e59c7f2e6e"
      },
      "source": [
        "## heatmap generation between independent and dependent variables\n",
        "plt.figure(figsize = (18,18))\n",
        "sns.heatmap(dataset.corr(), annot=True)\n",
        "\n",
        "plt.show()"
      ],
      "execution_count": null,
      "outputs": [
        {
          "output_type": "display_data",
          "data": {
            "image/png": "[encoded data removed]",
            "text/plain": [
              "<Figure size 1296x1296 with 2 Axes>"
            ]
          },
          "metadata": {
            "tags": [],
            "needs_background": "light"
          }
        }
      ]
    },
    {
      "cell_type": "code",
      "metadata": {
        "id": "UEI_AzoabKuP",
        "colab": {
          "base_uri": "https://localhost:8080/"
        },
        "outputId": "f95f6a69-7d68-4338-d1ef-c95c9725b69d"
      },
      "source": [
        "## important feature using ExtraTreesRegressor\n",
        "\n",
        "from sklearn.ensemble import ExtraTreesRegressor\n",
        "selection=ExtraTreesRegressor()\n",
        "selection.fit(x,y)"
      ],
      "execution_count": null,
      "outputs": [
        {
          "output_type": "execute_result",
          "data": {
            "text/plain": [
              "ExtraTreesRegressor(bootstrap=False, ccp_alpha=0.0, criterion='mse',\n",
              "                    max_depth=None, max_features='auto', max_leaf_nodes=None,\n",
              "                    max_samples=None, min_impurity_decrease=0.0,\n",
              "                    min_impurity_split=None, min_samples_leaf=1,\n",
              "                    min_samples_split=2, min_weight_fraction_leaf=0.0,\n",
              "                    n_estimators=100, n_jobs=None, oob_score=False,\n",
              "                    random_state=None, verbose=0, warm_start=False)"
            ]
          },
          "metadata": {
            "tags": []
          },
          "execution_count": 203
        }
      ]
    },
    {
      "cell_type": "code",
      "metadata": {
        "id": "w9_sG-dnbKuP",
        "colab": {
          "base_uri": "https://localhost:8080/"
        },
        "outputId": "4878972c-3a72-4828-dd26-a35c778084f4"
      },
      "source": [
        "print(selection.feature_importances_)"
      ],
      "execution_count": null,
      "outputs": [
        {
          "output_type": "stream",
          "text": [
            "[8.23845428e-03 4.46222644e-04 1.40393784e-02 2.36445600e-03\n",
            " 7.26626867e-03 1.89972274e-03 8.50249243e-03 1.56605759e-02\n",
            " 7.01738138e-03 5.05176295e-04 1.71458250e-02 1.44081740e-01\n",
            " 5.31658171e-02 2.37415638e-02 2.08077389e-02 2.74635928e-02\n",
            " 1.84405143e-02 1.26009722e-01 1.76778571e-02 2.17050188e-01\n",
            " 1.75584495e-03 1.01748785e-02 1.80229670e-03 1.79703960e-02\n",
            " 1.42513722e-01 6.79704616e-02 1.73099874e-02 7.78054070e-04\n",
            " 3.13477374e-03 8.90233361e-05 4.89173585e-03 8.41372510e-05]\n"
          ],
          "name": "stdout"
        }
      ]
    },
    {
      "cell_type": "code",
      "metadata": {
        "scrolled": true,
        "id": "Y_JD_VcObKuQ",
        "colab": {
          "base_uri": "https://localhost:8080/",
          "height": 483
        },
        "outputId": "ac76a6d5-114e-41be-fcfd-d60b7dcc617e"
      },
      "source": [
        "## graph of feature importances\n",
        "plt.figure(figsize=(12,8))\n",
        "feat_importances=pd.Series(selection.feature_importances_,index=x.columns)\n",
        "feat_importances.nlargest(20).plot(kind='barh')\n",
        "plt.show()\n"
      ],
      "execution_count": null,
      "outputs": [
        {
          "output_type": "display_data",
          "data": {
            "image/png": "[encoded data removed]",
            "text/plain": [
              "<Figure size 864x576 with 1 Axes>"
            ]
          },
          "metadata": {
            "tags": [],
            "needs_background": "light"
          }
        }
      ]
    },
    {
      "cell_type": "markdown",
      "metadata": {
        "id": "7ZN-aoC2bKuQ"
      },
      "source": [
        "## Fitting Random Forest"
      ]
    },
    {
      "cell_type": "code",
      "metadata": {
        "id": "o2vr8tuhbKuQ"
      },
      "source": [
        "from sklearn.model_selection import train_test_split\n",
        "x_train,x_test,y_train,y_test = train_test_split(x,y,test_size=0.3,random_state=6)"
      ],
      "execution_count": null,
      "outputs": []
    },
    {
      "cell_type": "code",
      "metadata": {
        "id": "hqS2Bw_hbKuQ",
        "colab": {
          "base_uri": "https://localhost:8080/"
        },
        "outputId": "e1f722c6-7b09-4f85-98d7-cc2a270302a2"
      },
      "source": [
        "from sklearn.ensemble import RandomForestRegressor\n",
        "reg_rf=RandomForestRegressor()\n",
        "reg_rf.fit(x_train,y_train)"
      ],
      "execution_count": null,
      "outputs": [
        {
          "output_type": "execute_result",
          "data": {
            "text/plain": [
              "RandomForestRegressor(bootstrap=True, ccp_alpha=0.0, criterion='mse',\n",
              "                      max_depth=None, max_features='auto', max_leaf_nodes=None,\n",
              "                      max_samples=None, min_impurity_decrease=0.0,\n",
              "                      min_impurity_split=None, min_samples_leaf=1,\n",
              "                      min_samples_split=2, min_weight_fraction_leaf=0.0,\n",
              "                      n_estimators=100, n_jobs=None, oob_score=False,\n",
              "                      random_state=None, verbose=0, warm_start=False)"
            ]
          },
          "metadata": {
            "tags": []
          },
          "execution_count": 207
        }
      ]
    },
    {
      "cell_type": "code",
      "metadata": {
        "id": "8mHYkWIybKuR"
      },
      "source": [
        "y_pred=reg_rf.predict(x_test)"
      ],
      "execution_count": null,
      "outputs": []
    },
    {
      "cell_type": "code",
      "metadata": {
        "id": "Jt5uTvMsbKuR",
        "colab": {
          "base_uri": "https://localhost:8080/"
        },
        "outputId": "45de4020-d589-466e-d28f-72907e64c855"
      },
      "source": [
        "reg_rf.score(x_train,y_train)"
      ],
      "execution_count": null,
      "outputs": [
        {
          "output_type": "execute_result",
          "data": {
            "text/plain": [
              "0.9561732730228009"
            ]
          },
          "metadata": {
            "tags": []
          },
          "execution_count": 209
        }
      ]
    },
    {
      "cell_type": "code",
      "metadata": {
        "id": "_mdvM6U8bKuR",
        "colab": {
          "base_uri": "https://localhost:8080/"
        },
        "outputId": "3c00f46a-a23d-40b8-b866-1fe38dc52676"
      },
      "source": [
        "reg_rf.score(x_test,y_test)"
      ],
      "execution_count": null,
      "outputs": [
        {
          "output_type": "execute_result",
          "data": {
            "text/plain": [
              "0.822412855094374"
            ]
          },
          "metadata": {
            "tags": []
          },
          "execution_count": 210
        }
      ]
    },
    {
      "cell_type": "code",
      "metadata": {
        "id": "0lPnH47rbKuT",
        "colab": {
          "base_uri": "https://localhost:8080/"
        },
        "outputId": "577ff9cb-9769-447c-8173-3dd82a74a92d"
      },
      "source": [
        "from sklearn import metrics\n",
        "print(\"MAE:\",metrics.mean_absolute_error(y_test,y_pred))\n",
        "print(\"MSE:\",metrics.mean_squared_error(y_test,y_pred))\n",
        "print(\"RMSE:\",np.sqrt(metrics.mean_squared_error(y_test,y_pred)))"
      ],
      "execution_count": null,
      "outputs": [
        {
          "output_type": "stream",
          "text": [
            "MAE: 1186.6757388883261\n",
            "MSE: 3883833.2240974326\n",
            "RMSE: 1970.744332504202\n"
          ],
          "name": "stdout"
        }
      ]
    },
    {
      "cell_type": "code",
      "metadata": {
        "id": "H5nIid3jbKuT",
        "colab": {
          "base_uri": "https://localhost:8080/"
        },
        "outputId": "df15d355-ad0f-4754-fab2-31f0ea363eca"
      },
      "source": [
        "metrics.r2_score(y_test,y_pred)"
      ],
      "execution_count": null,
      "outputs": [
        {
          "output_type": "execute_result",
          "data": {
            "text/plain": [
              "0.822412855094374"
            ]
          },
          "metadata": {
            "tags": []
          },
          "execution_count": 212
        }
      ]
    },
    {
      "cell_type": "markdown",
      "metadata": {
        "id": "UC_EZHlPmxsq"
      },
      "source": [
        "#Neural network"
      ]
    },
    {
      "cell_type": "code",
      "metadata": {
        "id": "8-Nc4Zchm1Vh"
      },
      "source": [
        "import keras\n",
        "from keras.models import Sequential\n",
        "from keras.layers import Dense\n",
        "import tensorflow as tf"
      ],
      "execution_count": null,
      "outputs": []
    },
    {
      "cell_type": "code",
      "metadata": {
        "colab": {
          "base_uri": "https://localhost:8080/"
        },
        "id": "UO-gFT7EI2dh",
        "outputId": "2c74f1be-9f9c-42da-b016-ccc34700c029"
      },
      "source": [
        "x_train.shape"
      ],
      "execution_count": null,
      "outputs": [
        {
          "output_type": "execute_result",
          "data": {
            "text/plain": [
              "(7477, 32)"
            ]
          },
          "metadata": {
            "tags": []
          },
          "execution_count": 214
        }
      ]
    },
    {
      "cell_type": "code",
      "metadata": {
        "id": "BQkZ7k6TGQKc"
      },
      "source": [
        "# Neural network\n",
        "model = Sequential()\n",
        "model.add(Dense(400, input_dim= 32, activation=\"relu\"))\n",
        "model.add(Dense(200, input_dim= 400, activation=\"relu\"))\n",
        "model.add(Dense(200, input_dim= 200, activation=\"relu\"))\n",
        "model.add(Dense(1, activation=\"linear\"))"
      ],
      "execution_count": null,
      "outputs": []
    },
    {
      "cell_type": "code",
      "metadata": {
        "colab": {
          "base_uri": "https://localhost:8080/"
        },
        "id": "yNDJALURJUOT",
        "outputId": "b0c40cc0-e483-486b-fe63-150d5999b415"
      },
      "source": [
        "keras.optimizers.Adam()\n",
        "model.compile(loss='mean_squared_error', optimizer='adam', metrics=['mse'])\n",
        "model.summary()"
      ],
      "execution_count": null,
      "outputs": [
        {
          "output_type": "stream",
          "text": [
            "Model: \"sequential_1\"\n",
            "_________________________________________________________________\n",
            "Layer (type)                 Output Shape              Param #   \n",
            "=================================================================\n",
            "dense_4 (Dense)              (None, 400)               13200     \n",
            "_________________________________________________________________\n",
            "dense_5 (Dense)              (None, 200)               80200     \n",
            "_________________________________________________________________\n",
            "dense_6 (Dense)              (None, 200)               40200     \n",
            "_________________________________________________________________\n",
            "dense_7 (Dense)              (None, 1)                 201       \n",
            "=================================================================\n",
            "Total params: 133,801\n",
            "Trainable params: 133,801\n",
            "Non-trainable params: 0\n",
            "_________________________________________________________________\n"
          ],
          "name": "stdout"
        }
      ]
    },
    {
      "cell_type": "code",
      "metadata": {
        "colab": {
          "base_uri": "https://localhost:8080/"
        },
        "id": "01YgPx4e4lPq",
        "outputId": "183f78a3-bd23-4b2f-849c-03d2420fdcf5"
      },
      "source": [
        "history = model.fit(x_train, y_train, epochs=100, batch_size=64,validation_split=0.15,validation_data=None,verbose=1)"
      ],
      "execution_count": null,
      "outputs": [
        {
          "output_type": "stream",
          "text": [
            "Epoch 1/100\n",
            "100/100 [==============================] - 2s 7ms/step - loss: 76546640.6733 - mse: 76546640.6733 - val_loss: 22173182.0000 - val_mse: 22173182.0000\n",
            "Epoch 2/100\n",
            "100/100 [==============================] - 0s 5ms/step - loss: 17812761.9208 - mse: 17812761.9208 - val_loss: 17948266.0000 - val_mse: 17948266.0000\n",
            "Epoch 3/100\n",
            "100/100 [==============================] - 0s 5ms/step - loss: 15109940.5545 - mse: 15109940.5545 - val_loss: 16747598.0000 - val_mse: 16747598.0000\n",
            "Epoch 4/100\n",
            "100/100 [==============================] - 0s 5ms/step - loss: 13556042.2970 - mse: 13556042.2970 - val_loss: 15341995.0000 - val_mse: 15341995.0000\n",
            "Epoch 5/100\n",
            "100/100 [==============================] - 0s 5ms/step - loss: 10986264.5297 - mse: 10986264.5297 - val_loss: 14023058.0000 - val_mse: 14023058.0000\n",
            "Epoch 6/100\n",
            "100/100 [==============================] - 0s 5ms/step - loss: 12182645.4059 - mse: 12182645.4059 - val_loss: 12902364.0000 - val_mse: 12902364.0000\n",
            "Epoch 7/100\n",
            "100/100 [==============================] - 0s 5ms/step - loss: 9444870.3465 - mse: 9444870.3465 - val_loss: 12026462.0000 - val_mse: 12026462.0000\n",
            "Epoch 8/100\n",
            "100/100 [==============================] - 0s 5ms/step - loss: 9245696.3218 - mse: 9245696.3218 - val_loss: 11666770.0000 - val_mse: 11666770.0000\n",
            "Epoch 9/100\n",
            "100/100 [==============================] - 0s 5ms/step - loss: 8127899.2228 - mse: 8127899.2228 - val_loss: 11062697.0000 - val_mse: 11062697.0000\n",
            "Epoch 10/100\n",
            "100/100 [==============================] - 1s 5ms/step - loss: 8448253.0693 - mse: 8448253.0693 - val_loss: 10976287.0000 - val_mse: 10976287.0000\n",
            "Epoch 11/100\n",
            "100/100 [==============================] - 0s 5ms/step - loss: 7863198.9653 - mse: 7863198.9653 - val_loss: 10509509.0000 - val_mse: 10509509.0000\n",
            "Epoch 12/100\n",
            "100/100 [==============================] - 0s 5ms/step - loss: 7186105.5891 - mse: 7186105.5891 - val_loss: 10511986.0000 - val_mse: 10511986.0000\n",
            "Epoch 13/100\n",
            "100/100 [==============================] - 0s 5ms/step - loss: 8791135.3886 - mse: 8791135.3886 - val_loss: 10455657.0000 - val_mse: 10455657.0000\n",
            "Epoch 14/100\n",
            "100/100 [==============================] - 0s 5ms/step - loss: 7141045.2277 - mse: 7141045.2277 - val_loss: 10060357.0000 - val_mse: 10060357.0000\n",
            "Epoch 15/100\n",
            "100/100 [==============================] - 0s 5ms/step - loss: 7242257.9059 - mse: 7242257.9059 - val_loss: 9728630.0000 - val_mse: 9728630.0000\n",
            "Epoch 16/100\n",
            "100/100 [==============================] - 0s 5ms/step - loss: 7085481.3960 - mse: 7085481.3960 - val_loss: 9487153.0000 - val_mse: 9487153.0000\n",
            "Epoch 17/100\n",
            "100/100 [==============================] - 0s 5ms/step - loss: 6768066.4505 - mse: 6768066.4505 - val_loss: 9349052.0000 - val_mse: 9349052.0000\n",
            "Epoch 18/100\n",
            "100/100 [==============================] - 0s 5ms/step - loss: 6857758.4455 - mse: 6857758.4455 - val_loss: 9261722.0000 - val_mse: 9261722.0000\n",
            "Epoch 19/100\n",
            "100/100 [==============================] - 0s 5ms/step - loss: 6151813.4307 - mse: 6151813.4307 - val_loss: 9188209.0000 - val_mse: 9188209.0000\n",
            "Epoch 20/100\n",
            "100/100 [==============================] - 0s 5ms/step - loss: 6254306.3218 - mse: 6254306.3218 - val_loss: 9180280.0000 - val_mse: 9180280.0000\n",
            "Epoch 21/100\n",
            "100/100 [==============================] - 0s 5ms/step - loss: 5912249.3267 - mse: 5912249.3267 - val_loss: 8806917.0000 - val_mse: 8806917.0000\n",
            "Epoch 22/100\n",
            "100/100 [==============================] - 0s 5ms/step - loss: 6671401.7698 - mse: 6671401.7698 - val_loss: 8578636.0000 - val_mse: 8578636.0000\n",
            "Epoch 23/100\n",
            "100/100 [==============================] - 0s 5ms/step - loss: 6035031.8168 - mse: 6035031.8168 - val_loss: 8453331.0000 - val_mse: 8453331.0000\n",
            "Epoch 24/100\n",
            "100/100 [==============================] - 0s 5ms/step - loss: 5989159.7574 - mse: 5989159.7574 - val_loss: 8398418.0000 - val_mse: 8398418.0000\n",
            "Epoch 25/100\n",
            "100/100 [==============================] - 0s 5ms/step - loss: 5937930.0941 - mse: 5937930.0941 - val_loss: 8174882.0000 - val_mse: 8174882.0000\n",
            "Epoch 26/100\n",
            "100/100 [==============================] - 0s 5ms/step - loss: 5818197.0644 - mse: 5818197.0644 - val_loss: 8771733.0000 - val_mse: 8771733.0000\n",
            "Epoch 27/100\n",
            "100/100 [==============================] - 0s 5ms/step - loss: 6576533.9381 - mse: 6576533.9381 - val_loss: 8028226.5000 - val_mse: 8028226.5000\n",
            "Epoch 28/100\n",
            "100/100 [==============================] - 0s 5ms/step - loss: 5727394.2228 - mse: 5727394.2228 - val_loss: 8377490.0000 - val_mse: 8377490.0000\n",
            "Epoch 29/100\n",
            "100/100 [==============================] - 0s 5ms/step - loss: 5883625.9455 - mse: 5883625.9455 - val_loss: 8161255.5000 - val_mse: 8161255.5000\n",
            "Epoch 30/100\n",
            "100/100 [==============================] - 0s 5ms/step - loss: 5709874.9752 - mse: 5709874.9752 - val_loss: 8271166.5000 - val_mse: 8271166.5000\n",
            "Epoch 31/100\n",
            "100/100 [==============================] - 0s 5ms/step - loss: 5768230.6832 - mse: 5768230.6832 - val_loss: 8079930.5000 - val_mse: 8079930.5000\n",
            "Epoch 32/100\n",
            "100/100 [==============================] - 0s 5ms/step - loss: 5426849.7525 - mse: 5426849.7525 - val_loss: 7460003.0000 - val_mse: 7460003.0000\n",
            "Epoch 33/100\n",
            "100/100 [==============================] - 0s 5ms/step - loss: 5551135.0990 - mse: 5551135.0990 - val_loss: 7628207.5000 - val_mse: 7628207.5000\n",
            "Epoch 34/100\n",
            "100/100 [==============================] - 0s 5ms/step - loss: 5828013.4802 - mse: 5828013.4802 - val_loss: 7371495.0000 - val_mse: 7371495.0000\n",
            "Epoch 35/100\n",
            "100/100 [==============================] - 0s 5ms/step - loss: 4824135.1931 - mse: 4824135.1931 - val_loss: 7862856.0000 - val_mse: 7862856.0000\n",
            "Epoch 36/100\n",
            "100/100 [==============================] - 0s 5ms/step - loss: 5424385.1757 - mse: 5424385.1757 - val_loss: 7493330.5000 - val_mse: 7493330.5000\n",
            "Epoch 37/100\n",
            "100/100 [==============================] - 0s 5ms/step - loss: 5314886.5941 - mse: 5314886.5941 - val_loss: 7221602.0000 - val_mse: 7221602.0000\n",
            "Epoch 38/100\n",
            "100/100 [==============================] - 0s 5ms/step - loss: 5429766.6485 - mse: 5429766.6485 - val_loss: 7222353.0000 - val_mse: 7222353.0000\n",
            "Epoch 39/100\n",
            "100/100 [==============================] - 0s 5ms/step - loss: 5140103.6238 - mse: 5140103.6238 - val_loss: 7187591.5000 - val_mse: 7187591.5000\n",
            "Epoch 40/100\n",
            "100/100 [==============================] - 0s 5ms/step - loss: 5034579.3960 - mse: 5034579.3960 - val_loss: 7290215.5000 - val_mse: 7290215.5000\n",
            "Epoch 41/100\n",
            "100/100 [==============================] - 0s 5ms/step - loss: 4805091.7822 - mse: 4805091.7822 - val_loss: 7107508.5000 - val_mse: 7107508.5000\n",
            "Epoch 42/100\n",
            "100/100 [==============================] - 0s 5ms/step - loss: 4925087.5693 - mse: 4925087.5693 - val_loss: 7069832.0000 - val_mse: 7069832.0000\n",
            "Epoch 43/100\n",
            "100/100 [==============================] - 0s 5ms/step - loss: 5112275.5297 - mse: 5112275.5297 - val_loss: 6841796.5000 - val_mse: 6841796.5000\n",
            "Epoch 44/100\n",
            "100/100 [==============================] - 0s 5ms/step - loss: 5140789.8911 - mse: 5140789.8911 - val_loss: 7086617.5000 - val_mse: 7086617.5000\n",
            "Epoch 45/100\n",
            "100/100 [==============================] - 0s 5ms/step - loss: 5363307.8911 - mse: 5363307.8911 - val_loss: 6876894.0000 - val_mse: 6876894.0000\n",
            "Epoch 46/100\n",
            "100/100 [==============================] - 0s 5ms/step - loss: 5163710.5446 - mse: 5163710.5446 - val_loss: 7103749.5000 - val_mse: 7103749.5000\n",
            "Epoch 47/100\n",
            "100/100 [==============================] - 0s 5ms/step - loss: 4778364.1188 - mse: 4778364.1188 - val_loss: 7003593.0000 - val_mse: 7003593.0000\n",
            "Epoch 48/100\n",
            "100/100 [==============================] - 0s 5ms/step - loss: 5053498.0099 - mse: 5053498.0099 - val_loss: 6907580.5000 - val_mse: 6907580.5000\n",
            "Epoch 49/100\n",
            "100/100 [==============================] - 0s 5ms/step - loss: 4481461.7599 - mse: 4481461.7599 - val_loss: 6820961.0000 - val_mse: 6820961.0000\n",
            "Epoch 50/100\n",
            "100/100 [==============================] - 0s 5ms/step - loss: 5139951.1238 - mse: 5139951.1238 - val_loss: 6632268.5000 - val_mse: 6632268.5000\n",
            "Epoch 51/100\n",
            "100/100 [==============================] - 0s 5ms/step - loss: 4780405.9851 - mse: 4780405.9851 - val_loss: 7173393.0000 - val_mse: 7173393.0000\n",
            "Epoch 52/100\n",
            "100/100 [==============================] - 1s 5ms/step - loss: 4792478.4554 - mse: 4792478.4554 - val_loss: 6607920.5000 - val_mse: 6607920.5000\n",
            "Epoch 53/100\n",
            "100/100 [==============================] - 0s 5ms/step - loss: 4625681.4381 - mse: 4625681.4381 - val_loss: 6709141.0000 - val_mse: 6709141.0000\n",
            "Epoch 54/100\n",
            "100/100 [==============================] - 0s 5ms/step - loss: 4797706.3366 - mse: 4797706.3366 - val_loss: 7454354.0000 - val_mse: 7454354.0000\n",
            "Epoch 55/100\n",
            "100/100 [==============================] - 0s 5ms/step - loss: 5083517.7079 - mse: 5083517.7079 - val_loss: 6459549.0000 - val_mse: 6459549.0000\n",
            "Epoch 56/100\n",
            "100/100 [==============================] - 0s 5ms/step - loss: 4562693.0842 - mse: 4562693.0842 - val_loss: 6634641.0000 - val_mse: 6634641.0000\n",
            "Epoch 57/100\n",
            "100/100 [==============================] - 0s 5ms/step - loss: 4601663.7723 - mse: 4601663.7723 - val_loss: 6859365.0000 - val_mse: 6859365.0000\n",
            "Epoch 58/100\n",
            "100/100 [==============================] - 0s 5ms/step - loss: 4969296.5545 - mse: 4969296.5545 - val_loss: 6564873.0000 - val_mse: 6564873.0000\n",
            "Epoch 59/100\n",
            "100/100 [==============================] - 0s 5ms/step - loss: 4188896.9381 - mse: 4188896.9381 - val_loss: 6437049.5000 - val_mse: 6437049.5000\n",
            "Epoch 60/100\n",
            "100/100 [==============================] - 1s 5ms/step - loss: 4413261.1980 - mse: 4413261.1980 - val_loss: 6532894.5000 - val_mse: 6532894.5000\n",
            "Epoch 61/100\n",
            "100/100 [==============================] - 0s 5ms/step - loss: 4508123.4084 - mse: 4508123.4084 - val_loss: 6353921.5000 - val_mse: 6353921.5000\n",
            "Epoch 62/100\n",
            "100/100 [==============================] - 1s 5ms/step - loss: 4668303.8960 - mse: 4668303.8960 - val_loss: 6404422.0000 - val_mse: 6404422.0000\n",
            "Epoch 63/100\n",
            "100/100 [==============================] - 0s 5ms/step - loss: 4221389.7797 - mse: 4221389.7797 - val_loss: 6569822.5000 - val_mse: 6569822.5000\n",
            "Epoch 64/100\n",
            "100/100 [==============================] - 0s 5ms/step - loss: 4607393.9257 - mse: 4607393.9257 - val_loss: 6341619.0000 - val_mse: 6341619.0000\n",
            "Epoch 65/100\n",
            "100/100 [==============================] - 0s 5ms/step - loss: 4365410.4802 - mse: 4365410.4802 - val_loss: 6251117.5000 - val_mse: 6251117.5000\n",
            "Epoch 66/100\n",
            "100/100 [==============================] - 0s 5ms/step - loss: 4165073.4728 - mse: 4165073.4728 - val_loss: 6230785.5000 - val_mse: 6230785.5000\n",
            "Epoch 67/100\n",
            "100/100 [==============================] - 0s 5ms/step - loss: 4328825.8168 - mse: 4328825.8168 - val_loss: 6071300.5000 - val_mse: 6071300.5000\n",
            "Epoch 68/100\n",
            "100/100 [==============================] - 0s 5ms/step - loss: 4323880.0223 - mse: 4323880.0223 - val_loss: 6070515.0000 - val_mse: 6070515.0000\n",
            "Epoch 69/100\n",
            "100/100 [==============================] - 1s 5ms/step - loss: 3899943.1089 - mse: 3899943.1089 - val_loss: 6332735.5000 - val_mse: 6332735.5000\n",
            "Epoch 70/100\n",
            "100/100 [==============================] - 0s 5ms/step - loss: 4319875.9332 - mse: 4319875.9332 - val_loss: 6289842.0000 - val_mse: 6289842.0000\n",
            "Epoch 71/100\n",
            "100/100 [==============================] - 0s 5ms/step - loss: 4169597.1262 - mse: 4169597.1262 - val_loss: 6339459.0000 - val_mse: 6339459.0000\n",
            "Epoch 72/100\n",
            "100/100 [==============================] - 0s 5ms/step - loss: 3932752.9257 - mse: 3932752.9257 - val_loss: 6331810.0000 - val_mse: 6331810.0000\n",
            "Epoch 73/100\n",
            "100/100 [==============================] - 0s 5ms/step - loss: 4004874.1757 - mse: 4004874.1757 - val_loss: 6164508.5000 - val_mse: 6164508.5000\n",
            "Epoch 74/100\n",
            "100/100 [==============================] - 0s 5ms/step - loss: 4367879.3490 - mse: 4367879.3490 - val_loss: 5832873.0000 - val_mse: 5832873.0000\n",
            "Epoch 75/100\n",
            "100/100 [==============================] - 0s 5ms/step - loss: 3886348.0396 - mse: 3886348.0396 - val_loss: 6152121.5000 - val_mse: 6152121.5000\n",
            "Epoch 76/100\n",
            "100/100 [==============================] - 0s 5ms/step - loss: 4051272.4901 - mse: 4051272.4901 - val_loss: 5779930.5000 - val_mse: 5779930.5000\n",
            "Epoch 77/100\n",
            "100/100 [==============================] - 0s 5ms/step - loss: 3964746.1782 - mse: 3964746.1782 - val_loss: 5789502.0000 - val_mse: 5789502.0000\n",
            "Epoch 78/100\n",
            "100/100 [==============================] - 0s 5ms/step - loss: 4077741.0817 - mse: 4077741.0817 - val_loss: 6274552.0000 - val_mse: 6274552.0000\n",
            "Epoch 79/100\n",
            "100/100 [==============================] - 0s 5ms/step - loss: 3906076.9777 - mse: 3906076.9777 - val_loss: 5819329.0000 - val_mse: 5819329.0000\n",
            "Epoch 80/100\n",
            "100/100 [==============================] - 0s 5ms/step - loss: 3799996.8515 - mse: 3799996.8515 - val_loss: 5735593.0000 - val_mse: 5735593.0000\n",
            "Epoch 81/100\n",
            "100/100 [==============================] - 0s 5ms/step - loss: 3827767.4777 - mse: 3827767.4777 - val_loss: 5729176.0000 - val_mse: 5729176.0000\n",
            "Epoch 82/100\n",
            "100/100 [==============================] - 0s 5ms/step - loss: 3690091.2005 - mse: 3690091.2005 - val_loss: 5882664.0000 - val_mse: 5882664.0000\n",
            "Epoch 83/100\n",
            "100/100 [==============================] - 0s 5ms/step - loss: 3665401.7376 - mse: 3665401.7376 - val_loss: 5773083.0000 - val_mse: 5773083.0000\n",
            "Epoch 84/100\n",
            "100/100 [==============================] - 1s 5ms/step - loss: 3770420.5223 - mse: 3770420.5223 - val_loss: 5800032.0000 - val_mse: 5800032.0000\n",
            "Epoch 85/100\n",
            "100/100 [==============================] - 0s 5ms/step - loss: 3779473.7351 - mse: 3779473.7351 - val_loss: 5880639.0000 - val_mse: 5880639.0000\n",
            "Epoch 86/100\n",
            "100/100 [==============================] - 0s 5ms/step - loss: 3958714.6658 - mse: 3958714.6658 - val_loss: 5695010.0000 - val_mse: 5695010.0000\n",
            "Epoch 87/100\n",
            "100/100 [==============================] - 0s 5ms/step - loss: 3774392.0272 - mse: 3774392.0272 - val_loss: 5700707.5000 - val_mse: 5700707.5000\n",
            "Epoch 88/100\n",
            "100/100 [==============================] - 0s 5ms/step - loss: 3702362.9356 - mse: 3702362.9356 - val_loss: 5439518.5000 - val_mse: 5439518.5000\n",
            "Epoch 89/100\n",
            "100/100 [==============================] - 0s 5ms/step - loss: 3460279.2624 - mse: 3460279.2624 - val_loss: 5916427.5000 - val_mse: 5916427.5000\n",
            "Epoch 90/100\n",
            "100/100 [==============================] - 1s 5ms/step - loss: 3577813.5965 - mse: 3577813.5965 - val_loss: 5516970.5000 - val_mse: 5516970.5000\n",
            "Epoch 91/100\n",
            "100/100 [==============================] - 1s 5ms/step - loss: 3542830.9802 - mse: 3542830.9802 - val_loss: 5557642.0000 - val_mse: 5557642.0000\n",
            "Epoch 92/100\n",
            "100/100 [==============================] - 0s 5ms/step - loss: 3468370.6906 - mse: 3468370.6906 - val_loss: 5856013.5000 - val_mse: 5856013.5000\n",
            "Epoch 93/100\n",
            "100/100 [==============================] - 1s 5ms/step - loss: 3486292.5248 - mse: 3486292.5248 - val_loss: 5545551.5000 - val_mse: 5545551.5000\n",
            "Epoch 94/100\n",
            "100/100 [==============================] - 0s 5ms/step - loss: 3321831.2203 - mse: 3321831.2203 - val_loss: 5456362.0000 - val_mse: 5456362.0000\n",
            "Epoch 95/100\n",
            "100/100 [==============================] - 1s 5ms/step - loss: 3490484.0223 - mse: 3490484.0223 - val_loss: 5811039.0000 - val_mse: 5811039.0000\n",
            "Epoch 96/100\n",
            "100/100 [==============================] - 0s 5ms/step - loss: 3643866.3119 - mse: 3643866.3119 - val_loss: 5767405.5000 - val_mse: 5767405.5000\n",
            "Epoch 97/100\n",
            "100/100 [==============================] - 0s 5ms/step - loss: 3479558.2847 - mse: 3479558.2847 - val_loss: 5789503.5000 - val_mse: 5789503.5000\n",
            "Epoch 98/100\n",
            "100/100 [==============================] - 0s 5ms/step - loss: 3486877.3589 - mse: 3486877.3589 - val_loss: 5653643.5000 - val_mse: 5653643.5000\n",
            "Epoch 99/100\n",
            "100/100 [==============================] - 0s 5ms/step - loss: 3326641.4010 - mse: 3326641.4010 - val_loss: 5539856.0000 - val_mse: 5539856.0000\n",
            "Epoch 100/100\n",
            "100/100 [==============================] - 0s 5ms/step - loss: 3355604.4084 - mse: 3355604.4084 - val_loss: 5808970.5000 - val_mse: 5808970.5000\n"
          ],
          "name": "stdout"
        }
      ]
    },
    {
      "cell_type": "code",
      "metadata": {
        "id": "SmYR8mRpLZh1",
        "colab": {
          "base_uri": "https://localhost:8080/"
        },
        "outputId": "53b91a2c-227d-4f0c-b842-b41da42c0935"
      },
      "source": [
        "model.predict(x_test)"
      ],
      "execution_count": null,
      "outputs": [
        {
          "output_type": "execute_result",
          "data": {
            "text/plain": [
              "array([[ 5532.2915],\n",
              "       [ 2365.5754],\n",
              "       [14141.758 ],\n",
              "       ...,\n",
              "       [ 6811.836 ],\n",
              "       [ 5835.234 ],\n",
              "       [11031.268 ]], dtype=float32)"
            ]
          },
          "metadata": {
            "tags": []
          },
          "execution_count": 221
        }
      ]
    },
    {
      "cell_type": "code",
      "metadata": {
        "colab": {
          "base_uri": "https://localhost:8080/"
        },
        "id": "ZX76r0iB5bZ0",
        "outputId": "8082f6e2-4667-430a-f7ba-bfd75bd6e133"
      },
      "source": [
        "y_test"
      ],
      "execution_count": null,
      "outputs": [
        {
          "output_type": "execute_result",
          "data": {
            "text/plain": [
              "6753      4508\n",
              "9142      1965\n",
              "6400     10588\n",
              "7276      8529\n",
              "10536    11200\n",
              "         ...  \n",
              "4710     13376\n",
              "1618      3841\n",
              "3404      6206\n",
              "2463      5613\n",
              "267       8366\n",
              "Name: Price, Length: 3205, dtype: int64"
            ]
          },
          "metadata": {
            "tags": []
          },
          "execution_count": 222
        }
      ]
    },
    {
      "cell_type": "code",
      "metadata": {
        "colab": {
          "base_uri": "https://localhost:8080/",
          "height": 130
        },
        "id": "qpgUWLDSdONf",
        "outputId": "f42c5662-f92e-4526-bf9e-24148b5c6c47"
      },
      "source": [
        "x_test.head(1)"
      ],
      "execution_count": null,
      "outputs": [
        {
          "output_type": "execute_result",
          "data": {
            "text/html": [
              "<div>\n",
              "<style scoped>\n",
              "    .dataframe tbody tr th:only-of-type {\n",
              "        vertical-align: middle;\n",
              "    }\n",
              "\n",
              "    .dataframe tbody tr th {\n",
              "        vertical-align: top;\n",
              "    }\n",
              "\n",
              "    .dataframe thead th {\n",
              "        text-align: right;\n",
              "    }\n",
              "</style>\n",
              "<table border=\"1\" class=\"dataframe\">\n",
              "  <thead>\n",
              "    <tr style=\"text-align: right;\">\n",
              "      <th></th>\n",
              "      <th>Source_Banglore</th>\n",
              "      <th>Source_Chennai</th>\n",
              "      <th>Source_Delhi</th>\n",
              "      <th>Source_Kolkata</th>\n",
              "      <th>Source_Mumbai</th>\n",
              "      <th>Destination_Banglore</th>\n",
              "      <th>Destination_Cochin</th>\n",
              "      <th>Destination_Delhi</th>\n",
              "      <th>Destination_Hyderabad</th>\n",
              "      <th>Destination_Kolkata</th>\n",
              "      <th>Destination_New Delhi</th>\n",
              "      <th>Journey_day</th>\n",
              "      <th>Journey_month</th>\n",
              "      <th>Dep_hour</th>\n",
              "      <th>Dep_min</th>\n",
              "      <th>Arrival_hour</th>\n",
              "      <th>Arrival_min</th>\n",
              "      <th>Duration_hours</th>\n",
              "      <th>Duration_mins</th>\n",
              "      <th>Total_Stops</th>\n",
              "      <th>Airline_Air Asia</th>\n",
              "      <th>Airline_Air India</th>\n",
              "      <th>Airline_GoAir</th>\n",
              "      <th>Airline_IndiGo</th>\n",
              "      <th>Airline_Jet Airways</th>\n",
              "      <th>Airline_Jet Airways Business</th>\n",
              "      <th>Airline_Multiple carriers</th>\n",
              "      <th>Airline_Multiple carriers Premium economy</th>\n",
              "      <th>Airline_SpiceJet</th>\n",
              "      <th>Airline_Trujet</th>\n",
              "      <th>Airline_Vistara</th>\n",
              "      <th>Airline_Vistara Premium economy</th>\n",
              "    </tr>\n",
              "  </thead>\n",
              "  <tbody>\n",
              "    <tr>\n",
              "      <th>6753</th>\n",
              "      <td>0</td>\n",
              "      <td>0</td>\n",
              "      <td>0</td>\n",
              "      <td>1</td>\n",
              "      <td>0</td>\n",
              "      <td>1</td>\n",
              "      <td>0</td>\n",
              "      <td>0</td>\n",
              "      <td>0</td>\n",
              "      <td>0</td>\n",
              "      <td>0</td>\n",
              "      <td>6</td>\n",
              "      <td>6</td>\n",
              "      <td>19</td>\n",
              "      <td>55</td>\n",
              "      <td>22</td>\n",
              "      <td>25</td>\n",
              "      <td>2</td>\n",
              "      <td>30</td>\n",
              "      <td>0</td>\n",
              "      <td>1</td>\n",
              "      <td>0</td>\n",
              "      <td>0</td>\n",
              "      <td>0</td>\n",
              "      <td>0</td>\n",
              "      <td>0</td>\n",
              "      <td>0</td>\n",
              "      <td>0</td>\n",
              "      <td>0</td>\n",
              "      <td>0</td>\n",
              "      <td>0</td>\n",
              "      <td>0</td>\n",
              "    </tr>\n",
              "  </tbody>\n",
              "</table>\n",
              "</div>"
            ],
            "text/plain": [
              "      Source_Banglore  ...  Airline_Vistara Premium economy\n",
              "6753                0  ...                                0\n",
              "\n",
              "[1 rows x 32 columns]"
            ]
          },
          "metadata": {
            "tags": []
          },
          "execution_count": 226
        }
      ]
    },
    {
      "cell_type": "code",
      "metadata": {
        "colab": {
          "base_uri": "https://localhost:8080/"
        },
        "id": "GIDj2Yo2s0DD",
        "outputId": "022d1d03-c89a-4792-f321-77395b8e3a97"
      },
      "source": [
        "user_input=[[0,\t0\t,0\t,1\t,0\t,1\t,0\t,0\t,0\t,0\t,0\t,6\t,6\t,19,\t55,\t22,\t25,\t2,\t30,\t0,\t1,\t0,\t0,\t0,\t0,\t0,\t0,\t0,\t0,\t0,\t0,\t0]]\n",
        "#user_input = SSC.fit_transform(user_input)\n",
        "p=model.predict(user_input)\n",
        "print(p)"
      ],
      "execution_count": null,
      "outputs": [
        {
          "output_type": "stream",
          "text": [
            "[[5532.2915]]\n"
          ],
          "name": "stdout"
        }
      ]
    },
    {
      "cell_type": "code",
      "metadata": {
        "colab": {
          "base_uri": "https://localhost:8080/",
          "height": 298
        },
        "id": "SfktI7nMNgdC",
        "outputId": "c0766367-64d9-48a9-973f-efea82d4f6ef"
      },
      "source": [
        "plt.title('Loss')\n",
        "plt.plot(history.history['loss'], label='train')\n",
        "plt.plot(history.history['val_loss'], label='test')\n",
        "plt.legend()"
      ],
      "execution_count": null,
      "outputs": [
        {
          "output_type": "execute_result",
          "data": {
            "text/plain": [
              "<matplotlib.legend.Legend at 0x7f64b6ce5b50>"
            ]
          },
          "metadata": {
            "tags": []
          },
          "execution_count": 228
        },
        {
          "output_type": "display_data",
          "data": {
            "image/png": "[encoded data removed]",
            "text/plain": [
              "<Figure size 432x288 with 1 Axes>"
            ]
          },
          "metadata": {
            "tags": [],
            "needs_background": "light"
          }
        }
      ]
    },
    {
      "cell_type": "markdown",
      "metadata": {
        "id": "fVBkqbiPN1eH"
      },
      "source": [
        "#Tflite"
      ]
    },
    {
      "cell_type": "code",
      "metadata": {
        "id": "zudf-qjLNo70"
      },
      "source": [
        "from tensorflow import lite"
      ],
      "execution_count": null,
      "outputs": []
    },
    {
      "cell_type": "code",
      "metadata": {
        "colab": {
          "base_uri": "https://localhost:8080/"
        },
        "id": "XC3R7HRHNzTb",
        "outputId": "fb80e9dc-c5c2-4428-dcdc-49657791edd0"
      },
      "source": [
        "# Convert Keras model to TF Lite format.\n",
        "converter = tf.lite.TFLiteConverter.from_keras_model(model)\n",
        "tflite_float_model = converter.convert()\n",
        "\n",
        "# Show model size in KBs.\n",
        "float_model_size = len(tflite_float_model) / 1024\n",
        "print('Float model size = %dKBs.' % float_model_size)"
      ],
      "execution_count": null,
      "outputs": [
        {
          "output_type": "stream",
          "text": [
            "INFO:tensorflow:Assets written to: /tmp/tmpsduxtk19/assets\n",
            "Float model size = 524KBs.\n"
          ],
          "name": "stdout"
        }
      ]
    },
    {
      "cell_type": "code",
      "metadata": {
        "colab": {
          "base_uri": "https://localhost:8080/"
        },
        "id": "-Lc4wjPEN8OQ",
        "outputId": "9c0b44b4-699a-49fc-ee81-997e9b119178"
      },
      "source": [
        "# Re-convert the model to TF Lite using quantization.\n",
        "converter.optimizations = [tf.lite.Optimize.DEFAULT]\n",
        "tflite_quantized_model = converter.convert()\n",
        "\n",
        "# Show model size in KBs.\n",
        "quantized_model_size = len(tflite_quantized_model) / 1024\n",
        "print('Quantized model size = %dKBs,' % quantized_model_size)\n",
        "print('which is about %d%% of the float model size.'\\\n",
        "      % (quantized_model_size * 100 / float_model_size))"
      ],
      "execution_count": null,
      "outputs": [
        {
          "output_type": "stream",
          "text": [
            "INFO:tensorflow:Assets written to: /tmp/tmpw9xqqeas/assets\n"
          ],
          "name": "stdout"
        },
        {
          "output_type": "stream",
          "text": [
            "INFO:tensorflow:Assets written to: /tmp/tmpw9xqqeas/assets\n"
          ],
          "name": "stderr"
        },
        {
          "output_type": "stream",
          "text": [
            "Quantized model size = 135KBs,\n",
            "which is about 25% of the float model size.\n"
          ],
          "name": "stdout"
        }
      ]
    },
    {
      "cell_type": "code",
      "metadata": {
        "colab": {
          "base_uri": "https://localhost:8080/",
          "height": 34
        },
        "id": "maYx1v9fOBqR",
        "outputId": "a7f90e89-a899-499c-e078-3916f6f7a030"
      },
      "source": [
        "# Save the quantized model to file to the Downloads directory\n",
        "f = open('FlightFare.tflite', \"wb\")\n",
        "f.write(tflite_quantized_model)\n",
        "f.close()\n",
        "\n",
        "# Download the digit classification model\n",
        "from google.colab import files\n",
        "files.download('FlightFare.tflite')\n",
        "\n",
        "print('`FlightFare.tflite` has been downloaded')"
      ],
      "execution_count": null,
      "outputs": [
        {
          "output_type": "display_data",
          "data": {
            "application/javascript": [
              "\n",
              "    async function download(id, filename, size) {\n",
              "      if (!google.colab.kernel.accessAllowed) {\n",
              "        return;\n",
              "      }\n",
              "      const div = document.createElement('div');\n",
              "      const label = document.createElement('label');\n",
              "      label.textContent = `Downloading \"${filename}\": `;\n",
              "      div.appendChild(label);\n",
              "      const progress = document.createElement('progress');\n",
              "      progress.max = size;\n",
              "      div.appendChild(progress);\n",
              "      document.body.appendChild(div);\n",
              "\n",
              "      const buffers = [];\n",
              "      let downloaded = 0;\n",
              "\n",
              "      const channel = await google.colab.kernel.comms.open(id);\n",
              "      // Send a message to notify the kernel that we're ready.\n",
              "      channel.send({})\n",
              "\n",
              "      for await (const message of channel.messages) {\n",
              "        // Send a message to notify the kernel that we're ready.\n",
              "        channel.send({})\n",
              "        if (message.buffers) {\n",
              "          for (const buffer of message.buffers) {\n",
              "            buffers.push(buffer);\n",
              "            downloaded += buffer.byteLength;\n",
              "            progress.value = downloaded;\n",
              "          }\n",
              "        }\n",
              "      }\n",
              "      const blob = new Blob(buffers, {type: 'application/binary'});\n",
              "      const a = document.createElement('a');\n",
              "      a.href = window.URL.createObjectURL(blob);\n",
              "      a.download = filename;\n",
              "      div.appendChild(a);\n",
              "      a.click();\n",
              "      div.remove();\n",
              "    }\n",
              "  "
            ],
            "text/plain": [
              "<IPython.core.display.Javascript object>"
            ]
          },
          "metadata": {
            "tags": []
          }
        },
        {
          "output_type": "display_data",
          "data": {
            "application/javascript": [
              "download(\"download_8827340e-e5af-4c5d-b623-7ae096fa6a2e\", \"FlightFare.tflite\", 139056)"
            ],
            "text/plain": [
              "<IPython.core.display.Javascript object>"
            ]
          },
          "metadata": {
            "tags": []
          }
        },
        {
          "output_type": "stream",
          "text": [
            "`FlightFare.tflite` has been downloaded\n"
          ],
          "name": "stdout"
        }
      ]
    }
  ]
}